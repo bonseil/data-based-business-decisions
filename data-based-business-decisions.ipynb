{
 "cells": [
  {
   "cell_type": "markdown",
   "id": "09d71e2d",
   "metadata": {},
   "source": [
    "# Making Business Decisions Based on Data"
   ]
  },
  {
   "cell_type": "markdown",
   "id": "c327225c",
   "metadata": {},
   "source": [
    "## Project description\n",
    "We are a big online store. The Covid pandemic has greatly increased the number of people that regularly make their purchases online, but it has also increased the already tough competition between online stores.<br>\n",
    "In this situation the marketing and the IT department compiled a list of hypotheses that might help to boost the revenue and let us stay afloat of the competition.\n",
    "<br>\n",
    "As the company's data analyst, I have to prioritize these hypotheses, launch an A/B test, and analyze the results. "
   ]
  },
  {
   "cell_type": "markdown",
   "id": "77189e28",
   "metadata": {},
   "source": [
    "## Opening and investigating the data"
   ]
  },
  {
   "cell_type": "code",
   "execution_count": 1,
   "id": "c9c3b956",
   "metadata": {
    "scrolled": true
   },
   "outputs": [
    {
     "name": "stdout",
     "output_type": "stream",
     "text": [
      "Collecting pandas\n",
      "  Downloading pandas-1.3.5-cp37-cp37m-manylinux_2_17_x86_64.manylinux2014_x86_64.whl (11.3 MB)\n",
      "\u001b[K     |████████████████████████████████| 11.3 MB 1.3 MB/s eta 0:00:01\n",
      "\u001b[?25hRequirement already satisfied, skipping upgrade: python-dateutil>=2.7.3 in /opt/conda/lib/python3.7/site-packages (from pandas) (2.8.1)\n",
      "Requirement already satisfied, skipping upgrade: pytz>=2017.3 in /opt/conda/lib/python3.7/site-packages (from pandas) (2021.1)\n",
      "Requirement already satisfied, skipping upgrade: numpy>=1.17.3; platform_machine != \"aarch64\" and platform_machine != \"arm64\" and python_version < \"3.10\" in /opt/conda/lib/python3.7/site-packages (from pandas) (1.19.5)\n",
      "Requirement already satisfied, skipping upgrade: six>=1.5 in /opt/conda/lib/python3.7/site-packages (from python-dateutil>=2.7.3->pandas) (1.15.0)\n",
      "Installing collected packages: pandas\n",
      "Successfully installed pandas-1.3.5\n",
      "Collecting matplotlib\n",
      "  Downloading matplotlib-3.5.1-cp37-cp37m-manylinux_2_5_x86_64.manylinux1_x86_64.whl (11.2 MB)\n",
      "\u001b[K     |████████████████████████████████| 11.2 MB 2.7 MB/s eta 0:00:01\n",
      "\u001b[?25hCollecting fonttools>=4.22.0\n",
      "  Downloading fonttools-4.28.5-py3-none-any.whl (890 kB)\n",
      "\u001b[K     |████████████████████████████████| 890 kB 38.3 MB/s eta 0:00:01\n",
      "\u001b[?25hRequirement already satisfied, skipping upgrade: python-dateutil>=2.7 in /opt/conda/lib/python3.7/site-packages (from matplotlib) (2.8.1)\n",
      "Requirement already satisfied, skipping upgrade: pillow>=6.2.0 in /opt/conda/lib/python3.7/site-packages (from matplotlib) (7.0.0)\n",
      "Requirement already satisfied, skipping upgrade: packaging>=20.0 in /opt/conda/lib/python3.7/site-packages (from matplotlib) (20.4)\n",
      "Requirement already satisfied, skipping upgrade: numpy>=1.17 in /opt/conda/lib/python3.7/site-packages (from matplotlib) (1.19.5)\n",
      "Requirement already satisfied, skipping upgrade: pyparsing>=2.2.1 in /opt/conda/lib/python3.7/site-packages (from matplotlib) (2.4.7)\n",
      "Requirement already satisfied, skipping upgrade: kiwisolver>=1.0.1 in /opt/conda/lib/python3.7/site-packages (from matplotlib) (1.3.1)\n",
      "Requirement already satisfied, skipping upgrade: cycler>=0.10 in /opt/conda/lib/python3.7/site-packages (from matplotlib) (0.10.0)\n",
      "Requirement already satisfied, skipping upgrade: six>=1.5 in /opt/conda/lib/python3.7/site-packages (from python-dateutil>=2.7->matplotlib) (1.15.0)\n",
      "Installing collected packages: fonttools, matplotlib\n",
      "\u001b[33m  WARNING: The scripts fonttools, pyftmerge, pyftsubset and ttx are installed in '/home/jovyan/.local/bin' which is not on PATH.\n",
      "  Consider adding this directory to PATH or, if you prefer to suppress this warning, use --no-warn-script-location.\u001b[0m\n",
      "Successfully installed fonttools-4.28.5 matplotlib-3.5.1\n",
      "Collecting numpy\n",
      "  Downloading numpy-1.21.5-cp37-cp37m-manylinux_2_12_x86_64.manylinux2010_x86_64.whl (15.7 MB)\n",
      "\u001b[K     |████████████████████████████████| 15.7 MB 2.7 MB/s eta 0:00:01\n",
      "\u001b[?25hInstalling collected packages: numpy\n",
      "\u001b[33m  WARNING: The scripts f2py, f2py3 and f2py3.7 are installed in '/home/jovyan/.local/bin' which is not on PATH.\n",
      "  Consider adding this directory to PATH or, if you prefer to suppress this warning, use --no-warn-script-location.\u001b[0m\n",
      "Successfully installed numpy-1.21.5\n",
      "Collecting seaborn\n",
      "  Downloading seaborn-0.11.2-py3-none-any.whl (292 kB)\n",
      "\u001b[K     |████████████████████████████████| 292 kB 1.5 MB/s eta 0:00:01\n",
      "\u001b[?25hRequirement already satisfied, skipping upgrade: scipy>=1.0 in /opt/conda/lib/python3.7/site-packages (from seaborn) (1.4.1)\n",
      "Requirement already satisfied, skipping upgrade: matplotlib>=2.2 in /home/jovyan/.local/lib/python3.7/site-packages (from seaborn) (3.5.1)\n",
      "Requirement already satisfied, skipping upgrade: numpy>=1.15 in /home/jovyan/.local/lib/python3.7/site-packages (from seaborn) (1.21.5)\n",
      "Requirement already satisfied, skipping upgrade: pandas>=0.23 in /home/jovyan/.local/lib/python3.7/site-packages (from seaborn) (1.3.5)\n",
      "Requirement already satisfied, skipping upgrade: cycler>=0.10 in /opt/conda/lib/python3.7/site-packages (from matplotlib>=2.2->seaborn) (0.10.0)\n",
      "Requirement already satisfied, skipping upgrade: pillow>=6.2.0 in /opt/conda/lib/python3.7/site-packages (from matplotlib>=2.2->seaborn) (7.0.0)\n",
      "Requirement already satisfied, skipping upgrade: pyparsing>=2.2.1 in /opt/conda/lib/python3.7/site-packages (from matplotlib>=2.2->seaborn) (2.4.7)\n",
      "Requirement already satisfied, skipping upgrade: python-dateutil>=2.7 in /opt/conda/lib/python3.7/site-packages (from matplotlib>=2.2->seaborn) (2.8.1)\n",
      "Requirement already satisfied, skipping upgrade: kiwisolver>=1.0.1 in /opt/conda/lib/python3.7/site-packages (from matplotlib>=2.2->seaborn) (1.3.1)\n",
      "Requirement already satisfied, skipping upgrade: fonttools>=4.22.0 in /home/jovyan/.local/lib/python3.7/site-packages (from matplotlib>=2.2->seaborn) (4.28.5)\n",
      "Requirement already satisfied, skipping upgrade: packaging>=20.0 in /opt/conda/lib/python3.7/site-packages (from matplotlib>=2.2->seaborn) (20.4)\n",
      "Requirement already satisfied, skipping upgrade: pytz>=2017.3 in /opt/conda/lib/python3.7/site-packages (from pandas>=0.23->seaborn) (2021.1)\n",
      "Requirement already satisfied, skipping upgrade: six in /opt/conda/lib/python3.7/site-packages (from cycler>=0.10->matplotlib>=2.2->seaborn) (1.15.0)\n",
      "Installing collected packages: seaborn\n",
      "Successfully installed seaborn-0.11.2\n",
      "Collecting joypy\n",
      "  Downloading joypy-0.2.6-py2.py3-none-any.whl (8.6 kB)\n",
      "Requirement already satisfied, skipping upgrade: scipy>=0.11.0 in /opt/conda/lib/python3.7/site-packages (from joypy) (1.4.1)\n",
      "Requirement already satisfied, skipping upgrade: numpy>=1.16.5 in /home/jovyan/.local/lib/python3.7/site-packages (from joypy) (1.21.5)\n",
      "Requirement already satisfied, skipping upgrade: pandas>=0.20.0 in /home/jovyan/.local/lib/python3.7/site-packages (from joypy) (1.3.5)\n",
      "Requirement already satisfied, skipping upgrade: matplotlib in /home/jovyan/.local/lib/python3.7/site-packages (from joypy) (3.5.1)\n",
      "Requirement already satisfied, skipping upgrade: pytz>=2017.3 in /opt/conda/lib/python3.7/site-packages (from pandas>=0.20.0->joypy) (2021.1)\n",
      "Requirement already satisfied, skipping upgrade: python-dateutil>=2.7.3 in /opt/conda/lib/python3.7/site-packages (from pandas>=0.20.0->joypy) (2.8.1)\n",
      "Requirement already satisfied, skipping upgrade: packaging>=20.0 in /opt/conda/lib/python3.7/site-packages (from matplotlib->joypy) (20.4)\n",
      "Requirement already satisfied, skipping upgrade: kiwisolver>=1.0.1 in /opt/conda/lib/python3.7/site-packages (from matplotlib->joypy) (1.3.1)\n",
      "Requirement already satisfied, skipping upgrade: fonttools>=4.22.0 in /home/jovyan/.local/lib/python3.7/site-packages (from matplotlib->joypy) (4.28.5)\n",
      "Requirement already satisfied, skipping upgrade: cycler>=0.10 in /opt/conda/lib/python3.7/site-packages (from matplotlib->joypy) (0.10.0)\n",
      "Requirement already satisfied, skipping upgrade: pillow>=6.2.0 in /opt/conda/lib/python3.7/site-packages (from matplotlib->joypy) (7.0.0)\n",
      "Requirement already satisfied, skipping upgrade: pyparsing>=2.2.1 in /opt/conda/lib/python3.7/site-packages (from matplotlib->joypy) (2.4.7)\n",
      "Requirement already satisfied, skipping upgrade: six>=1.5 in /opt/conda/lib/python3.7/site-packages (from python-dateutil>=2.7.3->pandas>=0.20.0->joypy) (1.15.0)\n",
      "Installing collected packages: joypy\n",
      "Successfully installed joypy-0.2.6\n",
      "Collecting scipy\n",
      "  Downloading scipy-1.7.3-cp37-cp37m-manylinux_2_12_x86_64.manylinux2010_x86_64.whl (38.1 MB)\n",
      "\u001b[K     |████████████████████████████████| 38.1 MB 61 kB/s  eta 0:00:01    |████▍                           | 5.3 MB 1.2 MB/s eta 0:00:27\n",
      "\u001b[?25hRequirement already satisfied, skipping upgrade: numpy<1.23.0,>=1.16.5 in /home/jovyan/.local/lib/python3.7/site-packages (from scipy) (1.21.5)\n",
      "Installing collected packages: scipy\n",
      "\u001b[31mERROR: After October 2020 you may experience errors when installing or updating packages. This is because pip will change the way that it resolves dependency conflicts.\n",
      "\n",
      "We recommend you use --use-feature=2020-resolver to test your packages with the new resolver before it becomes the default.\n",
      "\n",
      "tensorflow 2.1.0 requires scipy==1.4.1; python_version >= \"3\", but you'll have scipy 1.7.3 which is incompatible.\u001b[0m\n",
      "Successfully installed scipy-1.7.3\n"
     ]
    }
   ],
   "source": [
    "#making sure I and the reviewer have the same versions\n",
    "!pip install -U pandas --user\n",
    "!pip install -U matplotlib --user\n",
    "!pip install -U numpy --user\n",
    "!pip install -U seaborn --user\n",
    "!pip install -U joypy --user\n",
    "!pip install -U scipy --user\n"
   ]
  },
  {
   "cell_type": "code",
   "execution_count": 2,
   "id": "f7b99dfa",
   "metadata": {},
   "outputs": [],
   "source": [
    "#import warnings\n",
    "#warnings.filterwarnings('ignore')"
   ]
  },
  {
   "cell_type": "code",
   "execution_count": 3,
   "id": "2a4df424",
   "metadata": {},
   "outputs": [],
   "source": [
    "import matplotlib.pyplot as plt\n",
    "#import matplotlib.patches as patches\n",
    "#from matplotlib.lines import Line2D\n",
    "import pandas as pd\n",
    "import numpy as np\n",
    "from datetime import datetime\n",
    "import seaborn as sns\n",
    "#import joypy\n",
    "from scipy import stats as st"
   ]
  },
  {
   "cell_type": "code",
   "execution_count": 4,
   "id": "0489c35f",
   "metadata": {},
   "outputs": [],
   "source": [
    "my_date_parser = lambda x: datetime.strptime(x, \"%Y-%m-%d\")"
   ]
  },
  {
   "cell_type": "code",
   "execution_count": 5,
   "id": "8b93e11d",
   "metadata": {},
   "outputs": [],
   "source": [
    "try:\n",
    "    # If we are online on the Jupyter Hub, we open the online database\n",
    "    hypotheses_data = pd.read_csv(\n",
    "        '/datasets/hypotheses_us.csv',\n",
    "        sep=';'\n",
    "    )\n",
    "    orders_data = pd.read_csv(\n",
    "        '/datasets/orders_us.csv',\n",
    "        sep=',',\n",
    "        dtype={'group': 'category'},\n",
    "        parse_dates=['date'],\n",
    "        date_parser=my_date_parser\n",
    "    )\n",
    "    visits_data = pd.read_csv(\n",
    "        '/datasets/visits_us.csv',\n",
    "        dtype={'group': 'category'},\n",
    "        parse_dates=['date'],\n",
    "        date_parser=my_date_parser,\n",
    "        sep=',')\n",
    "except:\n",
    "    # If we are locally we open the local database\n",
    "    hypotheses_data = pd.read_csv('datasets/hypotheses_us.csv',sep=';')\n",
    "    orders_data = pd.read_csv('datasets/orders_us.csv',sep=',',\n",
    "        dtype={'group': 'category'},\n",
    "        parse_dates=['date'],\n",
    "        date_parser=my_date_parser\n",
    "    )\n",
    "    visits_data = pd.read_csv('datasets/visits_us.csv',sep=',',\n",
    "        dtype={'group': 'category'},\n",
    "        parse_dates=['date'],\n",
    "        date_parser=my_date_parser\n",
    "    )"
   ]
  },
  {
   "cell_type": "code",
   "execution_count": 6,
   "id": "88059345",
   "metadata": {},
   "outputs": [],
   "source": [
    "orders_data.group=orders_data.group.cat.as_ordered()\n",
    "visits_data.group=visits_data.group.cat.as_ordered()"
   ]
  },
  {
   "cell_type": "code",
   "execution_count": 7,
   "id": "a927bc08",
   "metadata": {},
   "outputs": [],
   "source": [
    "def investigate_data(data):\n",
    "    print(data.head())\n",
    "    print(data.info())\n",
    "    print('The shape is:',data.shape)\n",
    "    print(data.describe())\n",
    "    #print(data.describe(include=['object']))"
   ]
  },
  {
   "cell_type": "code",
   "execution_count": 8,
   "id": "4cd6b79b",
   "metadata": {
    "scrolled": true
   },
   "outputs": [
    {
     "name": "stdout",
     "output_type": "stream",
     "text": [
      "                                          Hypothesis  Reach  Impact  \\\n",
      "0  Add two new channels for attracting traffic. T...      3      10   \n",
      "1  Launch your own delivery service. This will sh...      2       5   \n",
      "2  Add product recommendation blocks to the store...      8       3   \n",
      "3  Change the category structure. This will incre...      8       3   \n",
      "4  Change the background color on the main page. ...      3       1   \n",
      "\n",
      "   Confidence  Effort  \n",
      "0           8       6  \n",
      "1           4      10  \n",
      "2           7       3  \n",
      "3           3       8  \n",
      "4           1       1  \n",
      "<class 'pandas.core.frame.DataFrame'>\n",
      "RangeIndex: 9 entries, 0 to 8\n",
      "Data columns (total 5 columns):\n",
      " #   Column      Non-Null Count  Dtype \n",
      "---  ------      --------------  ----- \n",
      " 0   Hypothesis  9 non-null      object\n",
      " 1   Reach       9 non-null      int64 \n",
      " 2   Impact      9 non-null      int64 \n",
      " 3   Confidence  9 non-null      int64 \n",
      " 4   Effort      9 non-null      int64 \n",
      "dtypes: int64(4), object(1)\n",
      "memory usage: 488.0+ bytes\n",
      "None\n",
      "The shape is: (9, 5)\n",
      "           Reach     Impact  Confidence     Effort\n",
      "count   9.000000   9.000000    9.000000   9.000000\n",
      "mean    4.777778   4.777778    5.555556   4.888889\n",
      "std     3.153481   3.192874    3.045944   2.803767\n",
      "min     1.000000   1.000000    1.000000   1.000000\n",
      "25%     3.000000   3.000000    3.000000   3.000000\n",
      "50%     3.000000   3.000000    7.000000   5.000000\n",
      "75%     8.000000   7.000000    8.000000   6.000000\n",
      "max    10.000000  10.000000    9.000000  10.000000\n"
     ]
    }
   ],
   "source": [
    "investigate_data(hypotheses_data)"
   ]
  },
  {
   "cell_type": "code",
   "execution_count": 9,
   "id": "7fda3fff",
   "metadata": {
    "scrolled": false
   },
   "outputs": [
    {
     "name": "stdout",
     "output_type": "stream",
     "text": [
      "   transactionId   visitorId       date  revenue group\n",
      "0     3667963787  3312258926 2019-08-15     30.4     B\n",
      "1     2804400009  3642806036 2019-08-15     15.2     B\n",
      "2     2961555356  4069496402 2019-08-15     10.2     A\n",
      "3     3797467345  1196621759 2019-08-15    155.1     B\n",
      "4     2282983706  2322279887 2019-08-15     40.5     B\n",
      "<class 'pandas.core.frame.DataFrame'>\n",
      "RangeIndex: 1197 entries, 0 to 1196\n",
      "Data columns (total 5 columns):\n",
      " #   Column         Non-Null Count  Dtype         \n",
      "---  ------         --------------  -----         \n",
      " 0   transactionId  1197 non-null   int64         \n",
      " 1   visitorId      1197 non-null   int64         \n",
      " 2   date           1197 non-null   datetime64[ns]\n",
      " 3   revenue        1197 non-null   float64       \n",
      " 4   group          1197 non-null   category      \n",
      "dtypes: category(1), datetime64[ns](1), float64(1), int64(2)\n",
      "memory usage: 38.8 KB\n",
      "None\n",
      "The shape is: (1197, 5)\n",
      "       transactionId     visitorId       revenue\n",
      "count   1.197000e+03  1.197000e+03   1197.000000\n",
      "mean    2.155621e+09  2.165960e+09    131.491646\n",
      "std     1.229085e+09  1.236014e+09    603.004729\n",
      "min     1.062393e+06  5.114589e+06      5.000000\n",
      "25%     1.166776e+09  1.111826e+09     20.800000\n",
      "50%     2.145194e+09  2.217985e+09     50.200000\n",
      "75%     3.237740e+09  3.177606e+09    130.400000\n",
      "max     4.293856e+09  4.283872e+09  19920.400000\n"
     ]
    }
   ],
   "source": [
    "investigate_data(orders_data)"
   ]
  },
  {
   "cell_type": "code",
   "execution_count": 10,
   "id": "723521c3",
   "metadata": {
    "scrolled": false
   },
   "outputs": [
    {
     "name": "stdout",
     "output_type": "stream",
     "text": [
      "        date group  visits\n",
      "0 2019-08-01     A     719\n",
      "1 2019-08-02     A     619\n",
      "2 2019-08-03     A     507\n",
      "3 2019-08-04     A     717\n",
      "4 2019-08-05     A     756\n",
      "<class 'pandas.core.frame.DataFrame'>\n",
      "RangeIndex: 62 entries, 0 to 61\n",
      "Data columns (total 3 columns):\n",
      " #   Column  Non-Null Count  Dtype         \n",
      "---  ------  --------------  -----         \n",
      " 0   date    62 non-null     datetime64[ns]\n",
      " 1   group   62 non-null     category      \n",
      " 2   visits  62 non-null     int64         \n",
      "dtypes: category(1), datetime64[ns](1), int64(1)\n",
      "memory usage: 1.2 KB\n",
      "None\n",
      "The shape is: (62, 3)\n",
      "           visits\n",
      "count   62.000000\n",
      "mean   607.290323\n",
      "std    114.400560\n",
      "min    361.000000\n",
      "25%    534.000000\n",
      "50%    624.500000\n",
      "75%    710.500000\n",
      "max    770.000000\n"
     ]
    }
   ],
   "source": [
    "investigate_data(visits_data)"
   ]
  },
  {
   "cell_type": "markdown",
   "id": "320ba74f",
   "metadata": {},
   "source": [
    "Let's check now for duplicate rows in our tables. Duplicate data could skew our analysis towards one of the sides. We are going to print the duplicate rows (if no rows are printed, we have no duplicates)"
   ]
  },
  {
   "cell_type": "code",
   "execution_count": 11,
   "id": "b987b7ed",
   "metadata": {
    "scrolled": true
   },
   "outputs": [
    {
     "data": {
      "text/html": [
       "<div>\n",
       "<style scoped>\n",
       "    .dataframe tbody tr th:only-of-type {\n",
       "        vertical-align: middle;\n",
       "    }\n",
       "\n",
       "    .dataframe tbody tr th {\n",
       "        vertical-align: top;\n",
       "    }\n",
       "\n",
       "    .dataframe thead th {\n",
       "        text-align: right;\n",
       "    }\n",
       "</style>\n",
       "<table border=\"1\" class=\"dataframe\">\n",
       "  <thead>\n",
       "    <tr style=\"text-align: right;\">\n",
       "      <th></th>\n",
       "      <th>transactionId</th>\n",
       "      <th>visitorId</th>\n",
       "      <th>date</th>\n",
       "      <th>revenue</th>\n",
       "      <th>group</th>\n",
       "    </tr>\n",
       "  </thead>\n",
       "  <tbody>\n",
       "  </tbody>\n",
       "</table>\n",
       "</div>"
      ],
      "text/plain": [
       "Empty DataFrame\n",
       "Columns: [transactionId, visitorId, date, revenue, group]\n",
       "Index: []"
      ]
     },
     "execution_count": 11,
     "metadata": {},
     "output_type": "execute_result"
    }
   ],
   "source": [
    "orders_data[orders_data.duplicated()]"
   ]
  },
  {
   "cell_type": "code",
   "execution_count": 12,
   "id": "b4a2c3c0",
   "metadata": {},
   "outputs": [
    {
     "data": {
      "text/html": [
       "<div>\n",
       "<style scoped>\n",
       "    .dataframe tbody tr th:only-of-type {\n",
       "        vertical-align: middle;\n",
       "    }\n",
       "\n",
       "    .dataframe tbody tr th {\n",
       "        vertical-align: top;\n",
       "    }\n",
       "\n",
       "    .dataframe thead th {\n",
       "        text-align: right;\n",
       "    }\n",
       "</style>\n",
       "<table border=\"1\" class=\"dataframe\">\n",
       "  <thead>\n",
       "    <tr style=\"text-align: right;\">\n",
       "      <th></th>\n",
       "      <th>date</th>\n",
       "      <th>group</th>\n",
       "      <th>visits</th>\n",
       "    </tr>\n",
       "  </thead>\n",
       "  <tbody>\n",
       "  </tbody>\n",
       "</table>\n",
       "</div>"
      ],
      "text/plain": [
       "Empty DataFrame\n",
       "Columns: [date, group, visits]\n",
       "Index: []"
      ]
     },
     "execution_count": 12,
     "metadata": {},
     "output_type": "execute_result"
    }
   ],
   "source": [
    "visits_data[visits_data.duplicated()]"
   ]
  },
  {
   "cell_type": "markdown",
   "id": "efd772a5",
   "metadata": {},
   "source": [
    "So we do not have duplicated rows."
   ]
  },
  {
   "cell_type": "markdown",
   "id": "75b8eab6",
   "metadata": {},
   "source": [
    "Let's check if we have users that are both in groups $A$ and $B$. We are going to make a dataframe with only the membership of each group."
   ]
  },
  {
   "cell_type": "code",
   "execution_count": 13,
   "id": "6975ca22",
   "metadata": {},
   "outputs": [
    {
     "name": "stderr",
     "output_type": "stream",
     "text": [
      "/home/jovyan/.local/lib/python3.7/site-packages/pandas/core/series.py:2136: SettingWithCopyWarning: \n",
      "A value is trying to be set on a copy of a slice from a DataFrame\n",
      "\n",
      "See the caveats in the documentation: https://pandas.pydata.org/pandas-docs/stable/user_guide/indexing.html#returning-a-view-versus-a-copy\n",
      "  self._update_inplace(result)\n"
     ]
    }
   ],
   "source": [
    "membershipA=orders_data[orders_data['group']=='A']['visitorId']\n",
    "membershipB=orders_data[orders_data['group']=='B']['visitorId']\n",
    "membershipA.drop_duplicates(inplace=True)\n",
    "membershipB.drop_duplicates(inplace=True)"
   ]
  },
  {
   "cell_type": "markdown",
   "id": "4150d74a",
   "metadata": {},
   "source": [
    "Now we have in `membershipA` and `membershipB` the list of clients in groups $A$ and $B$ without doubles. Let's check if we have clients that are in both groups."
   ]
  },
  {
   "cell_type": "code",
   "execution_count": 14,
   "id": "fcbb449f",
   "metadata": {},
   "outputs": [
    {
     "name": "stdout",
     "output_type": "stream",
     "text": [
      "We have 58 clients who are in both groups.\n"
     ]
    }
   ],
   "source": [
    "membershipAB=membershipA.append(membershipB)\n",
    "print('We have {} clients who are in both groups.'.format(membershipAB[ membershipAB.duplicated()].count()))"
   ]
  },
  {
   "cell_type": "markdown",
   "id": "b1501feb",
   "metadata": {},
   "source": [
    "Good think we checked, having clients in both groups defeats the whole purpose of the A/B test. We want to see the effect of the specific set of changes we made on the user, and if the user is influenced by both sets of changes, his actions become inconclusive and polute the data of our test. We have to remove these users from both groups."
   ]
  },
  {
   "cell_type": "markdown",
   "id": "e41f1238",
   "metadata": {},
   "source": [
    "We need to remove these double users both from the `visits_data` and from `orders_data`. To remove it from visits_data, we need to find out how many transcations these users made each day and remove this number from the number of visits."
   ]
  },
  {
   "cell_type": "code",
   "execution_count": 15,
   "id": "79130765",
   "metadata": {},
   "outputs": [
    {
     "data": {
      "text/html": [
       "<div>\n",
       "<style scoped>\n",
       "    .dataframe tbody tr th:only-of-type {\n",
       "        vertical-align: middle;\n",
       "    }\n",
       "\n",
       "    .dataframe tbody tr th {\n",
       "        vertical-align: top;\n",
       "    }\n",
       "\n",
       "    .dataframe thead th {\n",
       "        text-align: right;\n",
       "    }\n",
       "</style>\n",
       "<table border=\"1\" class=\"dataframe\">\n",
       "  <thead>\n",
       "    <tr style=\"text-align: right;\">\n",
       "      <th></th>\n",
       "      <th>transactionId</th>\n",
       "      <th>visitorId</th>\n",
       "      <th>date</th>\n",
       "      <th>revenue</th>\n",
       "      <th>group</th>\n",
       "    </tr>\n",
       "  </thead>\n",
       "  <tbody>\n",
       "    <tr>\n",
       "      <th>2</th>\n",
       "      <td>2961555356</td>\n",
       "      <td>4069496402</td>\n",
       "      <td>2019-08-15</td>\n",
       "      <td>10.2</td>\n",
       "      <td>A</td>\n",
       "    </tr>\n",
       "    <tr>\n",
       "      <th>20</th>\n",
       "      <td>2904772834</td>\n",
       "      <td>963407295</td>\n",
       "      <td>2019-08-15</td>\n",
       "      <td>5.6</td>\n",
       "      <td>B</td>\n",
       "    </tr>\n",
       "    <tr>\n",
       "      <th>23</th>\n",
       "      <td>4252514150</td>\n",
       "      <td>351125977</td>\n",
       "      <td>2019-08-15</td>\n",
       "      <td>235.6</td>\n",
       "      <td>B</td>\n",
       "    </tr>\n",
       "    <tr>\n",
       "      <th>24</th>\n",
       "      <td>1162046357</td>\n",
       "      <td>3234906277</td>\n",
       "      <td>2019-08-15</td>\n",
       "      <td>120.2</td>\n",
       "      <td>B</td>\n",
       "    </tr>\n",
       "    <tr>\n",
       "      <th>26</th>\n",
       "      <td>2223239646</td>\n",
       "      <td>199603092</td>\n",
       "      <td>2019-08-15</td>\n",
       "      <td>55.7</td>\n",
       "      <td>A</td>\n",
       "    </tr>\n",
       "  </tbody>\n",
       "</table>\n",
       "</div>"
      ],
      "text/plain": [
       "    transactionId   visitorId       date  revenue group\n",
       "2      2961555356  4069496402 2019-08-15     10.2     A\n",
       "20     2904772834   963407295 2019-08-15      5.6     B\n",
       "23     4252514150   351125977 2019-08-15    235.6     B\n",
       "24     1162046357  3234906277 2019-08-15    120.2     B\n",
       "26     2223239646   199603092 2019-08-15     55.7     A"
      ]
     },
     "execution_count": 15,
     "metadata": {},
     "output_type": "execute_result"
    }
   ],
   "source": [
    "double_membership=membershipAB[ membershipAB.duplicated()]\n",
    "orders_data[orders_data['visitorId'].isin(double_membership)].head()"
   ]
  },
  {
   "cell_type": "code",
   "execution_count": 16,
   "id": "90a00555",
   "metadata": {},
   "outputs": [
    {
     "data": {
      "text/html": [
       "<div>\n",
       "<style scoped>\n",
       "    .dataframe tbody tr th:only-of-type {\n",
       "        vertical-align: middle;\n",
       "    }\n",
       "\n",
       "    .dataframe tbody tr th {\n",
       "        vertical-align: top;\n",
       "    }\n",
       "\n",
       "    .dataframe thead th {\n",
       "        text-align: right;\n",
       "    }\n",
       "</style>\n",
       "<table border=\"1\" class=\"dataframe\">\n",
       "  <thead>\n",
       "    <tr style=\"text-align: right;\">\n",
       "      <th></th>\n",
       "      <th>date</th>\n",
       "      <th>group</th>\n",
       "      <th>imposters</th>\n",
       "    </tr>\n",
       "  </thead>\n",
       "  <tbody>\n",
       "    <tr>\n",
       "      <th>0</th>\n",
       "      <td>2019-08-01</td>\n",
       "      <td>A</td>\n",
       "      <td>1</td>\n",
       "    </tr>\n",
       "    <tr>\n",
       "      <th>1</th>\n",
       "      <td>2019-08-01</td>\n",
       "      <td>B</td>\n",
       "      <td>4</td>\n",
       "    </tr>\n",
       "    <tr>\n",
       "      <th>2</th>\n",
       "      <td>2019-08-02</td>\n",
       "      <td>A</td>\n",
       "      <td>1</td>\n",
       "    </tr>\n",
       "    <tr>\n",
       "      <th>3</th>\n",
       "      <td>2019-08-02</td>\n",
       "      <td>B</td>\n",
       "      <td>1</td>\n",
       "    </tr>\n",
       "    <tr>\n",
       "      <th>4</th>\n",
       "      <td>2019-08-03</td>\n",
       "      <td>A</td>\n",
       "      <td>0</td>\n",
       "    </tr>\n",
       "  </tbody>\n",
       "</table>\n",
       "</div>"
      ],
      "text/plain": [
       "        date group  imposters\n",
       "0 2019-08-01     A          1\n",
       "1 2019-08-01     B          4\n",
       "2 2019-08-02     A          1\n",
       "3 2019-08-02     B          1\n",
       "4 2019-08-03     A          0"
      ]
     },
     "execution_count": 16,
     "metadata": {},
     "output_type": "execute_result"
    }
   ],
   "source": [
    "visits_double=orders_data[orders_data['visitorId'].isin(double_membership)].groupby(['date','group']).size().reset_index()\n",
    "visits_double.columns=['date','group','imposters']\n",
    "visits_double.head()"
   ]
  },
  {
   "cell_type": "code",
   "execution_count": 17,
   "id": "512d7a07",
   "metadata": {
    "scrolled": true
   },
   "outputs": [
    {
     "data": {
      "text/html": [
       "<div>\n",
       "<style scoped>\n",
       "    .dataframe tbody tr th:only-of-type {\n",
       "        vertical-align: middle;\n",
       "    }\n",
       "\n",
       "    .dataframe tbody tr th {\n",
       "        vertical-align: top;\n",
       "    }\n",
       "\n",
       "    .dataframe thead th {\n",
       "        text-align: right;\n",
       "    }\n",
       "</style>\n",
       "<table border=\"1\" class=\"dataframe\">\n",
       "  <thead>\n",
       "    <tr style=\"text-align: right;\">\n",
       "      <th></th>\n",
       "      <th>date</th>\n",
       "      <th>group</th>\n",
       "      <th>visits</th>\n",
       "      <th>imposters</th>\n",
       "      <th>clean_visits</th>\n",
       "    </tr>\n",
       "  </thead>\n",
       "  <tbody>\n",
       "    <tr>\n",
       "      <th>0</th>\n",
       "      <td>2019-08-01</td>\n",
       "      <td>A</td>\n",
       "      <td>719</td>\n",
       "      <td>1</td>\n",
       "      <td>718</td>\n",
       "    </tr>\n",
       "    <tr>\n",
       "      <th>1</th>\n",
       "      <td>2019-08-02</td>\n",
       "      <td>A</td>\n",
       "      <td>619</td>\n",
       "      <td>1</td>\n",
       "      <td>618</td>\n",
       "    </tr>\n",
       "    <tr>\n",
       "      <th>2</th>\n",
       "      <td>2019-08-03</td>\n",
       "      <td>A</td>\n",
       "      <td>507</td>\n",
       "      <td>0</td>\n",
       "      <td>507</td>\n",
       "    </tr>\n",
       "    <tr>\n",
       "      <th>3</th>\n",
       "      <td>2019-08-04</td>\n",
       "      <td>A</td>\n",
       "      <td>717</td>\n",
       "      <td>5</td>\n",
       "      <td>712</td>\n",
       "    </tr>\n",
       "    <tr>\n",
       "      <th>4</th>\n",
       "      <td>2019-08-05</td>\n",
       "      <td>A</td>\n",
       "      <td>756</td>\n",
       "      <td>3</td>\n",
       "      <td>753</td>\n",
       "    </tr>\n",
       "  </tbody>\n",
       "</table>\n",
       "</div>"
      ],
      "text/plain": [
       "        date group  visits  imposters  clean_visits\n",
       "0 2019-08-01     A     719          1           718\n",
       "1 2019-08-02     A     619          1           618\n",
       "2 2019-08-03     A     507          0           507\n",
       "3 2019-08-04     A     717          5           712\n",
       "4 2019-08-05     A     756          3           753"
      ]
     },
     "execution_count": 17,
     "metadata": {},
     "output_type": "execute_result"
    }
   ],
   "source": [
    "clean_visit=pd.merge(visits_data,visits_double,on=['date','group'])\n",
    "clean_visit['clean_visits']=clean_visit['visits']-clean_visit['imposters']\n",
    "clean_visit.head()"
   ]
  },
  {
   "cell_type": "markdown",
   "id": "edc9ae6f",
   "metadata": {},
   "source": [
    "This finaly gives us the number of visits each day by people with double membership.\n",
    "Now let's remove the double visitors from `orders_data` and `visits_data` dataframes."
   ]
  },
  {
   "cell_type": "code",
   "execution_count": 18,
   "id": "cc8a0c13",
   "metadata": {},
   "outputs": [],
   "source": [
    "visits_data['visits']=clean_visit['clean_visits']"
   ]
  },
  {
   "cell_type": "code",
   "execution_count": 19,
   "id": "424b5a23",
   "metadata": {},
   "outputs": [],
   "source": [
    "indexOrdersDoubleMembership = orders_data[orders_data['visitorId'].isin(double_membership)].index\n",
    "orders_data.drop(indexOrdersDoubleMembership, inplace=True)"
   ]
  },
  {
   "cell_type": "markdown",
   "id": "967de5de",
   "metadata": {},
   "source": [
    "### Conclusion"
   ]
  },
  {
   "cell_type": "markdown",
   "id": "5da17a65",
   "metadata": {},
   "source": [
    "We see that the data is good. We already set the correct types for the columns. There are no null values and the data seems to be in acceptable boundaries. The max revenue is an outlier but it is possible it represents a big order. We will have to deal with it later so it won't affect the statistic results."
   ]
  },
  {
   "cell_type": "markdown",
   "id": "ef71b883",
   "metadata": {},
   "source": [
    "## Part 1. Prioritizing Hypotheses\n",
    "The file hypotheses_us.csv contains nine hypotheses on boosting an online store's revenue with Reach, Impact, Confidence, and Effort specified for each.\n",
    "<br>\n",
    "Let's see which one is best!"
   ]
  },
  {
   "cell_type": "code",
   "execution_count": 20,
   "id": "c81a26c5",
   "metadata": {},
   "outputs": [
    {
     "data": {
      "text/html": [
       "<div>\n",
       "<style scoped>\n",
       "    .dataframe tbody tr th:only-of-type {\n",
       "        vertical-align: middle;\n",
       "    }\n",
       "\n",
       "    .dataframe tbody tr th {\n",
       "        vertical-align: top;\n",
       "    }\n",
       "\n",
       "    .dataframe thead th {\n",
       "        text-align: right;\n",
       "    }\n",
       "</style>\n",
       "<table border=\"1\" class=\"dataframe\">\n",
       "  <thead>\n",
       "    <tr style=\"text-align: right;\">\n",
       "      <th></th>\n",
       "      <th>Hypothesis</th>\n",
       "      <th>Reach</th>\n",
       "      <th>Impact</th>\n",
       "      <th>Confidence</th>\n",
       "      <th>Effort</th>\n",
       "    </tr>\n",
       "  </thead>\n",
       "  <tbody>\n",
       "    <tr>\n",
       "      <th>0</th>\n",
       "      <td>Add two new channels for attracting traffic. T...</td>\n",
       "      <td>3</td>\n",
       "      <td>10</td>\n",
       "      <td>8</td>\n",
       "      <td>6</td>\n",
       "    </tr>\n",
       "    <tr>\n",
       "      <th>1</th>\n",
       "      <td>Launch your own delivery service. This will sh...</td>\n",
       "      <td>2</td>\n",
       "      <td>5</td>\n",
       "      <td>4</td>\n",
       "      <td>10</td>\n",
       "    </tr>\n",
       "    <tr>\n",
       "      <th>2</th>\n",
       "      <td>Add product recommendation blocks to the store...</td>\n",
       "      <td>8</td>\n",
       "      <td>3</td>\n",
       "      <td>7</td>\n",
       "      <td>3</td>\n",
       "    </tr>\n",
       "    <tr>\n",
       "      <th>3</th>\n",
       "      <td>Change the category structure. This will incre...</td>\n",
       "      <td>8</td>\n",
       "      <td>3</td>\n",
       "      <td>3</td>\n",
       "      <td>8</td>\n",
       "    </tr>\n",
       "    <tr>\n",
       "      <th>4</th>\n",
       "      <td>Change the background color on the main page. ...</td>\n",
       "      <td>3</td>\n",
       "      <td>1</td>\n",
       "      <td>1</td>\n",
       "      <td>1</td>\n",
       "    </tr>\n",
       "    <tr>\n",
       "      <th>5</th>\n",
       "      <td>Add a customer review page. This will increase...</td>\n",
       "      <td>3</td>\n",
       "      <td>2</td>\n",
       "      <td>2</td>\n",
       "      <td>3</td>\n",
       "    </tr>\n",
       "    <tr>\n",
       "      <th>6</th>\n",
       "      <td>Show banners with current offers and sales on ...</td>\n",
       "      <td>5</td>\n",
       "      <td>3</td>\n",
       "      <td>8</td>\n",
       "      <td>3</td>\n",
       "    </tr>\n",
       "    <tr>\n",
       "      <th>7</th>\n",
       "      <td>Add a subscription form to all the main pages....</td>\n",
       "      <td>10</td>\n",
       "      <td>7</td>\n",
       "      <td>8</td>\n",
       "      <td>5</td>\n",
       "    </tr>\n",
       "    <tr>\n",
       "      <th>8</th>\n",
       "      <td>Launch a promotion that gives users discounts ...</td>\n",
       "      <td>1</td>\n",
       "      <td>9</td>\n",
       "      <td>9</td>\n",
       "      <td>5</td>\n",
       "    </tr>\n",
       "  </tbody>\n",
       "</table>\n",
       "</div>"
      ],
      "text/plain": [
       "                                          Hypothesis  Reach  Impact  \\\n",
       "0  Add two new channels for attracting traffic. T...      3      10   \n",
       "1  Launch your own delivery service. This will sh...      2       5   \n",
       "2  Add product recommendation blocks to the store...      8       3   \n",
       "3  Change the category structure. This will incre...      8       3   \n",
       "4  Change the background color on the main page. ...      3       1   \n",
       "5  Add a customer review page. This will increase...      3       2   \n",
       "6  Show banners with current offers and sales on ...      5       3   \n",
       "7  Add a subscription form to all the main pages....     10       7   \n",
       "8  Launch a promotion that gives users discounts ...      1       9   \n",
       "\n",
       "   Confidence  Effort  \n",
       "0           8       6  \n",
       "1           4      10  \n",
       "2           7       3  \n",
       "3           3       8  \n",
       "4           1       1  \n",
       "5           2       3  \n",
       "6           8       3  \n",
       "7           8       5  \n",
       "8           9       5  "
      ]
     },
     "execution_count": 20,
     "metadata": {},
     "output_type": "execute_result"
    }
   ],
   "source": [
    "hypotheses_data"
   ]
  },
  {
   "cell_type": "markdown",
   "id": "24d42290",
   "metadata": {},
   "source": [
    "### Applying the ICE framework"
   ]
  },
  {
   "cell_type": "markdown",
   "id": "2e85d63a",
   "metadata": {},
   "source": [
    "We calculate the ICE framework according to the formula: $$ICE= \\frac{Impact*Confidence} {Effort}$$"
   ]
  },
  {
   "cell_type": "code",
   "execution_count": 21,
   "id": "3fce308c",
   "metadata": {},
   "outputs": [
    {
     "data": {
      "text/html": [
       "<div>\n",
       "<style scoped>\n",
       "    .dataframe tbody tr th:only-of-type {\n",
       "        vertical-align: middle;\n",
       "    }\n",
       "\n",
       "    .dataframe tbody tr th {\n",
       "        vertical-align: top;\n",
       "    }\n",
       "\n",
       "    .dataframe thead th {\n",
       "        text-align: right;\n",
       "    }\n",
       "</style>\n",
       "<table border=\"1\" class=\"dataframe\">\n",
       "  <thead>\n",
       "    <tr style=\"text-align: right;\">\n",
       "      <th></th>\n",
       "      <th>Hypothesis</th>\n",
       "      <th>Reach</th>\n",
       "      <th>Impact</th>\n",
       "      <th>Confidence</th>\n",
       "      <th>Effort</th>\n",
       "      <th>ICE</th>\n",
       "    </tr>\n",
       "  </thead>\n",
       "  <tbody>\n",
       "    <tr>\n",
       "      <th>8</th>\n",
       "      <td>Launch a promotion that gives users discounts ...</td>\n",
       "      <td>1</td>\n",
       "      <td>9</td>\n",
       "      <td>9</td>\n",
       "      <td>5</td>\n",
       "      <td>16.200000</td>\n",
       "    </tr>\n",
       "    <tr>\n",
       "      <th>0</th>\n",
       "      <td>Add two new channels for attracting traffic. T...</td>\n",
       "      <td>3</td>\n",
       "      <td>10</td>\n",
       "      <td>8</td>\n",
       "      <td>6</td>\n",
       "      <td>13.333333</td>\n",
       "    </tr>\n",
       "    <tr>\n",
       "      <th>7</th>\n",
       "      <td>Add a subscription form to all the main pages....</td>\n",
       "      <td>10</td>\n",
       "      <td>7</td>\n",
       "      <td>8</td>\n",
       "      <td>5</td>\n",
       "      <td>11.200000</td>\n",
       "    </tr>\n",
       "    <tr>\n",
       "      <th>6</th>\n",
       "      <td>Show banners with current offers and sales on ...</td>\n",
       "      <td>5</td>\n",
       "      <td>3</td>\n",
       "      <td>8</td>\n",
       "      <td>3</td>\n",
       "      <td>8.000000</td>\n",
       "    </tr>\n",
       "    <tr>\n",
       "      <th>2</th>\n",
       "      <td>Add product recommendation blocks to the store...</td>\n",
       "      <td>8</td>\n",
       "      <td>3</td>\n",
       "      <td>7</td>\n",
       "      <td>3</td>\n",
       "      <td>7.000000</td>\n",
       "    </tr>\n",
       "    <tr>\n",
       "      <th>1</th>\n",
       "      <td>Launch your own delivery service. This will sh...</td>\n",
       "      <td>2</td>\n",
       "      <td>5</td>\n",
       "      <td>4</td>\n",
       "      <td>10</td>\n",
       "      <td>2.000000</td>\n",
       "    </tr>\n",
       "    <tr>\n",
       "      <th>5</th>\n",
       "      <td>Add a customer review page. This will increase...</td>\n",
       "      <td>3</td>\n",
       "      <td>2</td>\n",
       "      <td>2</td>\n",
       "      <td>3</td>\n",
       "      <td>1.333333</td>\n",
       "    </tr>\n",
       "    <tr>\n",
       "      <th>3</th>\n",
       "      <td>Change the category structure. This will incre...</td>\n",
       "      <td>8</td>\n",
       "      <td>3</td>\n",
       "      <td>3</td>\n",
       "      <td>8</td>\n",
       "      <td>1.125000</td>\n",
       "    </tr>\n",
       "    <tr>\n",
       "      <th>4</th>\n",
       "      <td>Change the background color on the main page. ...</td>\n",
       "      <td>3</td>\n",
       "      <td>1</td>\n",
       "      <td>1</td>\n",
       "      <td>1</td>\n",
       "      <td>1.000000</td>\n",
       "    </tr>\n",
       "  </tbody>\n",
       "</table>\n",
       "</div>"
      ],
      "text/plain": [
       "                                          Hypothesis  Reach  Impact  \\\n",
       "8  Launch a promotion that gives users discounts ...      1       9   \n",
       "0  Add two new channels for attracting traffic. T...      3      10   \n",
       "7  Add a subscription form to all the main pages....     10       7   \n",
       "6  Show banners with current offers and sales on ...      5       3   \n",
       "2  Add product recommendation blocks to the store...      8       3   \n",
       "1  Launch your own delivery service. This will sh...      2       5   \n",
       "5  Add a customer review page. This will increase...      3       2   \n",
       "3  Change the category structure. This will incre...      8       3   \n",
       "4  Change the background color on the main page. ...      3       1   \n",
       "\n",
       "   Confidence  Effort        ICE  \n",
       "8           9       5  16.200000  \n",
       "0           8       6  13.333333  \n",
       "7           8       5  11.200000  \n",
       "6           8       3   8.000000  \n",
       "2           7       3   7.000000  \n",
       "1           4      10   2.000000  \n",
       "5           2       3   1.333333  \n",
       "3           3       8   1.125000  \n",
       "4           1       1   1.000000  "
      ]
     },
     "execution_count": 21,
     "metadata": {},
     "output_type": "execute_result"
    }
   ],
   "source": [
    "hypotheses_data['ICE']=hypotheses_data.Impact*hypotheses_data.Confidence/hypotheses_data.Effort\n",
    "hypotheses_data.sort_values('ICE',ascending=False,inplace=True)\n",
    "hypotheses_data"
   ]
  },
  {
   "cell_type": "markdown",
   "id": "fc4cb251",
   "metadata": {},
   "source": [
    "So what is the best hypotesis according to ICE?"
   ]
  },
  {
   "cell_type": "code",
   "execution_count": 22,
   "id": "412b0c02",
   "metadata": {},
   "outputs": [
    {
     "name": "stdout",
     "output_type": "stream",
     "text": [
      "Launch a promotion that gives users discounts on their birthdays\n"
     ]
    }
   ],
   "source": [
    "#Even though we sorted the data to display the dataform before, when we show the final answer we sort it anew in case \n",
    "#the code was not run in order\n",
    "print(hypotheses_data.sort_values('ICE',ascending=False)['Hypothesis'].iloc[0]) "
   ]
  },
  {
   "cell_type": "markdown",
   "id": "23f23a41",
   "metadata": {},
   "source": [
    "### Applying the RICE framework"
   ]
  },
  {
   "cell_type": "markdown",
   "id": "77f02815",
   "metadata": {},
   "source": [
    "We calculate the RICE framework according to the formula: $$RICE= \\frac{Reach*Impact*Confidence} {Effort}$$"
   ]
  },
  {
   "cell_type": "code",
   "execution_count": 23,
   "id": "01318d87",
   "metadata": {},
   "outputs": [
    {
     "data": {
      "text/html": [
       "<div>\n",
       "<style scoped>\n",
       "    .dataframe tbody tr th:only-of-type {\n",
       "        vertical-align: middle;\n",
       "    }\n",
       "\n",
       "    .dataframe tbody tr th {\n",
       "        vertical-align: top;\n",
       "    }\n",
       "\n",
       "    .dataframe thead th {\n",
       "        text-align: right;\n",
       "    }\n",
       "</style>\n",
       "<table border=\"1\" class=\"dataframe\">\n",
       "  <thead>\n",
       "    <tr style=\"text-align: right;\">\n",
       "      <th></th>\n",
       "      <th>Hypothesis</th>\n",
       "      <th>Reach</th>\n",
       "      <th>Impact</th>\n",
       "      <th>Confidence</th>\n",
       "      <th>Effort</th>\n",
       "      <th>ICE</th>\n",
       "      <th>RICE</th>\n",
       "    </tr>\n",
       "  </thead>\n",
       "  <tbody>\n",
       "    <tr>\n",
       "      <th>7</th>\n",
       "      <td>Add a subscription form to all the main pages....</td>\n",
       "      <td>10</td>\n",
       "      <td>7</td>\n",
       "      <td>8</td>\n",
       "      <td>5</td>\n",
       "      <td>11.200000</td>\n",
       "      <td>112.0</td>\n",
       "    </tr>\n",
       "    <tr>\n",
       "      <th>2</th>\n",
       "      <td>Add product recommendation blocks to the store...</td>\n",
       "      <td>8</td>\n",
       "      <td>3</td>\n",
       "      <td>7</td>\n",
       "      <td>3</td>\n",
       "      <td>7.000000</td>\n",
       "      <td>56.0</td>\n",
       "    </tr>\n",
       "    <tr>\n",
       "      <th>0</th>\n",
       "      <td>Add two new channels for attracting traffic. T...</td>\n",
       "      <td>3</td>\n",
       "      <td>10</td>\n",
       "      <td>8</td>\n",
       "      <td>6</td>\n",
       "      <td>13.333333</td>\n",
       "      <td>40.0</td>\n",
       "    </tr>\n",
       "    <tr>\n",
       "      <th>6</th>\n",
       "      <td>Show banners with current offers and sales on ...</td>\n",
       "      <td>5</td>\n",
       "      <td>3</td>\n",
       "      <td>8</td>\n",
       "      <td>3</td>\n",
       "      <td>8.000000</td>\n",
       "      <td>40.0</td>\n",
       "    </tr>\n",
       "    <tr>\n",
       "      <th>8</th>\n",
       "      <td>Launch a promotion that gives users discounts ...</td>\n",
       "      <td>1</td>\n",
       "      <td>9</td>\n",
       "      <td>9</td>\n",
       "      <td>5</td>\n",
       "      <td>16.200000</td>\n",
       "      <td>16.2</td>\n",
       "    </tr>\n",
       "    <tr>\n",
       "      <th>3</th>\n",
       "      <td>Change the category structure. This will incre...</td>\n",
       "      <td>8</td>\n",
       "      <td>3</td>\n",
       "      <td>3</td>\n",
       "      <td>8</td>\n",
       "      <td>1.125000</td>\n",
       "      <td>9.0</td>\n",
       "    </tr>\n",
       "    <tr>\n",
       "      <th>1</th>\n",
       "      <td>Launch your own delivery service. This will sh...</td>\n",
       "      <td>2</td>\n",
       "      <td>5</td>\n",
       "      <td>4</td>\n",
       "      <td>10</td>\n",
       "      <td>2.000000</td>\n",
       "      <td>4.0</td>\n",
       "    </tr>\n",
       "    <tr>\n",
       "      <th>5</th>\n",
       "      <td>Add a customer review page. This will increase...</td>\n",
       "      <td>3</td>\n",
       "      <td>2</td>\n",
       "      <td>2</td>\n",
       "      <td>3</td>\n",
       "      <td>1.333333</td>\n",
       "      <td>4.0</td>\n",
       "    </tr>\n",
       "    <tr>\n",
       "      <th>4</th>\n",
       "      <td>Change the background color on the main page. ...</td>\n",
       "      <td>3</td>\n",
       "      <td>1</td>\n",
       "      <td>1</td>\n",
       "      <td>1</td>\n",
       "      <td>1.000000</td>\n",
       "      <td>3.0</td>\n",
       "    </tr>\n",
       "  </tbody>\n",
       "</table>\n",
       "</div>"
      ],
      "text/plain": [
       "                                          Hypothesis  Reach  Impact  \\\n",
       "7  Add a subscription form to all the main pages....     10       7   \n",
       "2  Add product recommendation blocks to the store...      8       3   \n",
       "0  Add two new channels for attracting traffic. T...      3      10   \n",
       "6  Show banners with current offers and sales on ...      5       3   \n",
       "8  Launch a promotion that gives users discounts ...      1       9   \n",
       "3  Change the category structure. This will incre...      8       3   \n",
       "1  Launch your own delivery service. This will sh...      2       5   \n",
       "5  Add a customer review page. This will increase...      3       2   \n",
       "4  Change the background color on the main page. ...      3       1   \n",
       "\n",
       "   Confidence  Effort        ICE   RICE  \n",
       "7           8       5  11.200000  112.0  \n",
       "2           7       3   7.000000   56.0  \n",
       "0           8       6  13.333333   40.0  \n",
       "6           8       3   8.000000   40.0  \n",
       "8           9       5  16.200000   16.2  \n",
       "3           3       8   1.125000    9.0  \n",
       "1           4      10   2.000000    4.0  \n",
       "5           2       3   1.333333    4.0  \n",
       "4           1       1   1.000000    3.0  "
      ]
     },
     "execution_count": 23,
     "metadata": {},
     "output_type": "execute_result"
    }
   ],
   "source": [
    "hypotheses_data['RICE']=hypotheses_data.Reach*hypotheses_data.Impact*hypotheses_data.Confidence/hypotheses_data.Effort\n",
    "hypotheses_data.sort_values('RICE',ascending=False,inplace=True)\n",
    "hypotheses_data"
   ]
  },
  {
   "cell_type": "markdown",
   "id": "12240c3d",
   "metadata": {},
   "source": [
    "So what is the best hypotesis according to ICE?"
   ]
  },
  {
   "cell_type": "code",
   "execution_count": 24,
   "id": "5f17049e",
   "metadata": {},
   "outputs": [
    {
     "name": "stdout",
     "output_type": "stream",
     "text": [
      "Add a subscription form to all the main pages. This will help you compile a mailing list\n"
     ]
    }
   ],
   "source": [
    "#Even though we sorted the data to display the dataform before, when we show the final answer we sort it anew in case \n",
    "#the code was not run in order\n",
    "print(hypotheses_data.sort_values('RICE',ascending=False)['Hypothesis'].iloc[0])"
   ]
  },
  {
   "cell_type": "markdown",
   "id": "46069466",
   "metadata": {},
   "source": [
    "#### Conclusion\n",
    "We see that even though the ICE framework reccommended hypotesis number 8 which had great Impact and Confidence. **the RICE framework prefered hypothesis number 7** that even though it has a slightly lower Impact and Confidence. it has a much larger Reach as it affects all users, not only who's birthday happens to be during the promotion."
   ]
  },
  {
   "cell_type": "markdown",
   "id": "cb23c1fa",
   "metadata": {},
   "source": [
    "## Part 2. A/B Test Analysis"
   ]
  },
  {
   "cell_type": "markdown",
   "id": "2bedc2e5",
   "metadata": {},
   "source": [
    "### Plotting the Orders and Revenues."
   ]
  },
  {
   "cell_type": "markdown",
   "id": "115e9536",
   "metadata": {},
   "source": [
    "Before we check the stability of the cumulative metrics, we want first to see the orders and revenue in each group."
   ]
  },
  {
   "cell_type": "code",
   "execution_count": 25,
   "id": "1fc64c71",
   "metadata": {},
   "outputs": [
    {
     "data": {
      "image/png": "[encoded data removed]",
      "text/plain": [
       "<Figure size 1280x800 with 1 Axes>"
      ]
     },
     "metadata": {
      "needs_background": "light"
     },
     "output_type": "display_data"
    }
   ],
   "source": [
    "plt.figure(figsize=(16,10), dpi= 80)\n",
    "sns.histplot(orders_data.loc[orders_data['group'] == 'A', \"revenue\"],  color=\"dodgerblue\", label=\"Group A\", alpha=.7)\n",
    "sns.histplot(orders_data.loc[orders_data['group'] == 'B', \"revenue\"],  color=\"orange\", label=\"Group B\", alpha=.7)\n",
    "\n",
    "# Decoration\n",
    "plt.title('Revenue by Group', fontsize=22)\n",
    "plt.legend()\n",
    "plt.show()"
   ]
  },
  {
   "cell_type": "markdown",
   "id": "b104e42b",
   "metadata": {},
   "source": [
    "We see that there are some very large orders that prevent us from properly seeing the graph, while dropping the top 1% of the revenue."
   ]
  },
  {
   "cell_type": "code",
   "execution_count": 26,
   "id": "ad8fff9a",
   "metadata": {},
   "outputs": [
    {
     "data": {
      "text/plain": [
       "array([280.8  , 414.275, 830.3  ])"
      ]
     },
     "execution_count": 26,
     "metadata": {},
     "output_type": "execute_result"
    }
   ],
   "source": [
    "#Checking what maximum revenue covers 99% of the orders.\n",
    "np.percentile(orders_data['revenue'], [90,95,99])"
   ]
  },
  {
   "cell_type": "code",
   "execution_count": 27,
   "id": "929fe423",
   "metadata": {},
   "outputs": [
    {
     "data": {
      "image/png": "[encoded data removed]",
      "text/plain": [
       "<Figure size 1280x800 with 1 Axes>"
      ]
     },
     "metadata": {
      "needs_background": "light"
     },
     "output_type": "display_data"
    }
   ],
   "source": [
    "plt.figure(figsize=(16,10), dpi= 80)\n",
    "sns.histplot(orders_data.query('revenue<901').loc[orders_data['group'] == 'A', \"revenue\"],  color=\"dodgerblue\", label=\"Group A\", alpha=.5,bins=80)\n",
    "sns.histplot(orders_data.query('revenue<901').loc[orders_data['group'] == 'B', \"revenue\"],  color=\"orange\", label=\"Group B\", alpha=.5,bins=80)\n",
    "\n",
    "# Decoration\n",
    "plt.title('Revenue by Group', fontsize=22)\n",
    "plt.legend()\n",
    "plt.show()"
   ]
  },
  {
   "cell_type": "markdown",
   "id": "13eb7372",
   "metadata": {},
   "source": [
    "The two groups look similar. It seems to me that there might be a slightily bigger revenue in group B but we will need a more indepth analysis to say for sure."
   ]
  },
  {
   "cell_type": "code",
   "execution_count": 28,
   "id": "510eb562",
   "metadata": {
    "scrolled": true
   },
   "outputs": [
    {
     "data": {
      "text/html": [
       "<div>\n",
       "<style scoped>\n",
       "    .dataframe tbody tr th:only-of-type {\n",
       "        vertical-align: middle;\n",
       "    }\n",
       "\n",
       "    .dataframe tbody tr th {\n",
       "        vertical-align: top;\n",
       "    }\n",
       "\n",
       "    .dataframe thead th {\n",
       "        text-align: right;\n",
       "    }\n",
       "</style>\n",
       "<table border=\"1\" class=\"dataframe\">\n",
       "  <thead>\n",
       "    <tr style=\"text-align: right;\">\n",
       "      <th></th>\n",
       "      <th>transactionId</th>\n",
       "      <th>visitorId</th>\n",
       "      <th>date</th>\n",
       "      <th>revenue</th>\n",
       "      <th>group</th>\n",
       "    </tr>\n",
       "  </thead>\n",
       "  <tbody>\n",
       "    <tr>\n",
       "      <th>0</th>\n",
       "      <td>3667963787</td>\n",
       "      <td>3312258926</td>\n",
       "      <td>2019-08-15</td>\n",
       "      <td>30.4</td>\n",
       "      <td>B</td>\n",
       "    </tr>\n",
       "    <tr>\n",
       "      <th>1</th>\n",
       "      <td>2804400009</td>\n",
       "      <td>3642806036</td>\n",
       "      <td>2019-08-15</td>\n",
       "      <td>15.2</td>\n",
       "      <td>B</td>\n",
       "    </tr>\n",
       "    <tr>\n",
       "      <th>3</th>\n",
       "      <td>3797467345</td>\n",
       "      <td>1196621759</td>\n",
       "      <td>2019-08-15</td>\n",
       "      <td>155.1</td>\n",
       "      <td>B</td>\n",
       "    </tr>\n",
       "    <tr>\n",
       "      <th>4</th>\n",
       "      <td>2282983706</td>\n",
       "      <td>2322279887</td>\n",
       "      <td>2019-08-15</td>\n",
       "      <td>40.5</td>\n",
       "      <td>B</td>\n",
       "    </tr>\n",
       "    <tr>\n",
       "      <th>5</th>\n",
       "      <td>182168103</td>\n",
       "      <td>935554773</td>\n",
       "      <td>2019-08-15</td>\n",
       "      <td>35.0</td>\n",
       "      <td>B</td>\n",
       "    </tr>\n",
       "  </tbody>\n",
       "</table>\n",
       "</div>"
      ],
      "text/plain": [
       "   transactionId   visitorId       date  revenue group\n",
       "0     3667963787  3312258926 2019-08-15     30.4     B\n",
       "1     2804400009  3642806036 2019-08-15     15.2     B\n",
       "3     3797467345  1196621759 2019-08-15    155.1     B\n",
       "4     2282983706  2322279887 2019-08-15     40.5     B\n",
       "5      182168103   935554773 2019-08-15     35.0     B"
      ]
     },
     "execution_count": 28,
     "metadata": {},
     "output_type": "execute_result"
    }
   ],
   "source": [
    "orders_data.head()"
   ]
  },
  {
   "cell_type": "markdown",
   "id": "11472e3d",
   "metadata": {},
   "source": [
    "### Cumulative Metrics"
   ]
  },
  {
   "cell_type": "markdown",
   "id": "6cb45dd8",
   "metadata": {},
   "source": [
    "Let's make a new DataFrame with cumulative data."
   ]
  },
  {
   "cell_type": "code",
   "execution_count": 29,
   "id": "0c659101",
   "metadata": {},
   "outputs": [],
   "source": [
    "# building an array with unique paired date-group values \n",
    "datesGroups = orders_data[['date','group']].drop_duplicates()"
   ]
  },
  {
   "cell_type": "code",
   "execution_count": 30,
   "id": "4b47c7e4",
   "metadata": {},
   "outputs": [],
   "source": [
    "# getting aggregated cumulative daily data on orders \n",
    "ordersAggregated = datesGroups.apply(\n",
    "    lambda x: orders_data[np.logical_and(orders_data['date'] <= x['date'],\n",
    "                                         orders_data['group'] == x['group'])].\n",
    "            agg({'date' : 'max',\n",
    "                 'group' : 'max',\n",
    "                 'transactionId' : pd.Series.nunique,\n",
    "                 'visitorId' : pd.Series.nunique, 'revenue' : 'sum'}),\n",
    "        axis=1).sort_values(by=['date','group']\n",
    "       )\n",
    "# getting aggregated cumulative daily data on visitors  \n",
    "visitorsAggregated = datesGroups.apply(\n",
    "    lambda x: visits_data[np.logical_and(visits_data['date'] <= x['date'],\n",
    "                                         visits_data['group'] == x['group'])].\n",
    "            agg({'date' : 'max', \n",
    "                 'group' : 'max', \n",
    "                 'visits' : 'sum'}),\n",
    "    axis=1).sort_values(by=['date','group'])\n",
    "# giving ordersAggregated more descriptive names for it's columns\n",
    "ordersAggregated.rename(columns={'transactionId':'transactions', 'visitorId':'visitors'},inplace=True)\n",
    "# merging the two tables into one\n",
    "cumulativeData = ordersAggregated.merge(visitorsAggregated, left_on=['date', 'group'], right_on=['date', 'group'])"
   ]
  },
  {
   "cell_type": "code",
   "execution_count": 31,
   "id": "7a074944",
   "metadata": {
    "scrolled": true
   },
   "outputs": [
    {
     "data": {
      "text/html": [
       "<div>\n",
       "<style scoped>\n",
       "    .dataframe tbody tr th:only-of-type {\n",
       "        vertical-align: middle;\n",
       "    }\n",
       "\n",
       "    .dataframe tbody tr th {\n",
       "        vertical-align: top;\n",
       "    }\n",
       "\n",
       "    .dataframe thead th {\n",
       "        text-align: right;\n",
       "    }\n",
       "</style>\n",
       "<table border=\"1\" class=\"dataframe\">\n",
       "  <thead>\n",
       "    <tr style=\"text-align: right;\">\n",
       "      <th></th>\n",
       "      <th>date</th>\n",
       "      <th>group</th>\n",
       "      <th>transactions</th>\n",
       "      <th>visitors</th>\n",
       "      <th>revenue</th>\n",
       "      <th>visits</th>\n",
       "    </tr>\n",
       "  </thead>\n",
       "  <tbody>\n",
       "    <tr>\n",
       "      <th>0</th>\n",
       "      <td>2019-08-01</td>\n",
       "      <td>A</td>\n",
       "      <td>23</td>\n",
       "      <td>19</td>\n",
       "      <td>2266.6</td>\n",
       "      <td>718</td>\n",
       "    </tr>\n",
       "    <tr>\n",
       "      <th>1</th>\n",
       "      <td>2019-08-01</td>\n",
       "      <td>B</td>\n",
       "      <td>17</td>\n",
       "      <td>17</td>\n",
       "      <td>967.2</td>\n",
       "      <td>709</td>\n",
       "    </tr>\n",
       "    <tr>\n",
       "      <th>2</th>\n",
       "      <td>2019-08-02</td>\n",
       "      <td>A</td>\n",
       "      <td>42</td>\n",
       "      <td>36</td>\n",
       "      <td>3734.9</td>\n",
       "      <td>1336</td>\n",
       "    </tr>\n",
       "    <tr>\n",
       "      <th>3</th>\n",
       "      <td>2019-08-02</td>\n",
       "      <td>B</td>\n",
       "      <td>40</td>\n",
       "      <td>39</td>\n",
       "      <td>3535.3</td>\n",
       "      <td>1289</td>\n",
       "    </tr>\n",
       "    <tr>\n",
       "      <th>4</th>\n",
       "      <td>2019-08-03</td>\n",
       "      <td>A</td>\n",
       "      <td>66</td>\n",
       "      <td>60</td>\n",
       "      <td>5550.1</td>\n",
       "      <td>1843</td>\n",
       "    </tr>\n",
       "  </tbody>\n",
       "</table>\n",
       "</div>"
      ],
      "text/plain": [
       "        date group  transactions  visitors  revenue  visits\n",
       "0 2019-08-01     A            23        19   2266.6     718\n",
       "1 2019-08-01     B            17        17    967.2     709\n",
       "2 2019-08-02     A            42        36   3734.9    1336\n",
       "3 2019-08-02     B            40        39   3535.3    1289\n",
       "4 2019-08-03     A            66        60   5550.1    1843"
      ]
     },
     "execution_count": 31,
     "metadata": {},
     "output_type": "execute_result"
    }
   ],
   "source": [
    "cumulativeData.head()"
   ]
  },
  {
   "cell_type": "markdown",
   "id": "bcfca9b7",
   "metadata": {},
   "source": [
    "###    Graph cumulative revenue by group"
   ]
  },
  {
   "cell_type": "code",
   "execution_count": 32,
   "id": "ebd434e7",
   "metadata": {
    "scrolled": false
   },
   "outputs": [
    {
     "data": {
      "image/png": "[encoded data removed]",
      "text/plain": [
       "<Figure size 1152x576 with 1 Axes>"
      ]
     },
     "metadata": {
      "needs_background": "light"
     },
     "output_type": "display_data"
    }
   ],
   "source": [
    "# DataFrame with cumulative orders and cumulative revenue by day, group A\n",
    "cumulativeRevenueA = cumulativeData[cumulativeData['group']=='A'][['date','revenue', 'transactions']]\n",
    "\n",
    "# DataFrame with cumulative orders and cumulative revenue by day, group B\n",
    "cumulativeRevenueB = cumulativeData[cumulativeData['group']=='B'][['date','revenue', 'transactions']]\n",
    "plt.figure(figsize=(16,8))\n",
    "plt.suptitle('Cumulative Revenue by Group',fontsize=28)\n",
    "plt.xlabel('Date')\n",
    "plt.ylabel('Revenue until Date')\n",
    "# Plotting the group A revenue graph \n",
    "plt.plot(cumulativeRevenueA['date'], cumulativeRevenueA['revenue'], label='A')\n",
    "\n",
    "# Plotting the group B revenue graph \n",
    "plt.plot(cumulativeRevenueB['date'], cumulativeRevenueB['revenue'], label='B')\n",
    "\n",
    "plt.legend();"
   ]
  },
  {
   "cell_type": "markdown",
   "id": "dcdb4256",
   "metadata": {},
   "source": [
    "We can see that the two groups grow relatively in parallel, with the exception of 19 October when there is a big boost in the revenue of group B.<br>\n",
    "With this boost, the group B is a clear winner. Without this boost that might be an outlier, the group B is slightly ahead but not in a conclusive way."
   ]
  },
  {
   "cell_type": "markdown",
   "id": "faf3b113",
   "metadata": {},
   "source": [
    "### Relative difference in cumulative revenue for group B compared with group A"
   ]
  },
  {
   "cell_type": "markdown",
   "id": "c1ad66f5",
   "metadata": {},
   "source": [
    "Even more insight we can get from ploting the relative difference between the two groups' cumulative revenue."
   ]
  },
  {
   "cell_type": "code",
   "execution_count": 33,
   "id": "302fc85f",
   "metadata": {},
   "outputs": [
    {
     "data": {
      "text/plain": [
       "<matplotlib.lines.Line2D at 0x7fd4fb2e3190>"
      ]
     },
     "execution_count": 33,
     "metadata": {},
     "output_type": "execute_result"
    },
    {
     "data": {
      "image/png": "[encoded data removed]",
      "text/plain": [
       "<Figure size 1152x576 with 1 Axes>"
      ]
     },
     "metadata": {
      "needs_background": "light"
     },
     "output_type": "display_data"
    }
   ],
   "source": [
    "# gathering the data into one DataFrame\n",
    "plt.figure(figsize=(16,8))\n",
    "plt.suptitle('Relative Difference in Cumulative Revenue',fontsize=28)\n",
    "plt.xlabel('Date')\n",
    "plt.ylabel('Relative Difference until Date')\n",
    "mergedCumulativeRevenue = cumulativeRevenueA.merge(cumulativeRevenueB, left_on='date', right_on='date', how='left', suffixes=['A', 'B'])\n",
    "\n",
    "# plotting a relative difference graph for the average purchase sizes\n",
    "plt.plot(mergedCumulativeRevenue['date'], \n",
    "         mergedCumulativeRevenue['revenueB']/(mergedCumulativeRevenue['revenueA'])-1)\n",
    "\n",
    "# adding the X axis\n",
    "plt.axhline(y=0, color='black', linestyle='--')"
   ]
  },
  {
   "cell_type": "markdown",
   "id": "c8ecf065",
   "metadata": {},
   "source": [
    "This graph is even more positive for Group B. While it starts with a deficit compared to group A, it quickly grows over it and never falls behind A again, in spite of several decreases."
   ]
  },
  {
   "cell_type": "markdown",
   "id": "2f6a7d9e",
   "metadata": {},
   "source": [
    "###    Graph cumulative average order size by group"
   ]
  },
  {
   "cell_type": "code",
   "execution_count": 34,
   "id": "8c84c35b",
   "metadata": {},
   "outputs": [
    {
     "data": {
      "image/png": "[encoded data removed]",
      "text/plain": [
       "<Figure size 1152x576 with 1 Axes>"
      ]
     },
     "metadata": {
      "needs_background": "light"
     },
     "output_type": "display_data"
    }
   ],
   "source": [
    "plt.figure(figsize=(16,8))\n",
    "plt.suptitle('Cumulative Order Size',fontsize=28)\n",
    "plt.xlabel('Date')\n",
    "plt.ylabel('Order Size until Date')\n",
    "\n",
    "plt.plot(cumulativeRevenueA['date'], cumulativeRevenueA['revenue']/cumulativeRevenueA['transactions'], label='A')\n",
    "plt.plot(cumulativeRevenueB['date'], cumulativeRevenueB['revenue']/cumulativeRevenueB['transactions'], label='B')\n",
    "plt.legend();"
   ]
  },
  {
   "cell_type": "markdown",
   "id": "269675b8",
   "metadata": {},
   "source": [
    "Analyzing the order size, we see big orders for Group B around 19 October. After that there is a decreasing slope in group B.\n",
    "<br>\n",
    "With these big orders, the group B is a clear winner. Without this orders that might be outliers, the group B would have end up beneath group A in cumulative order size comparison."
   ]
  },
  {
   "cell_type": "markdown",
   "id": "df018981",
   "metadata": {},
   "source": [
    "### Relative difference in cumulative average order size for group B compared with group A"
   ]
  },
  {
   "cell_type": "code",
   "execution_count": 35,
   "id": "c3694038",
   "metadata": {},
   "outputs": [
    {
     "data": {
      "text/plain": [
       "<matplotlib.lines.Line2D at 0x7fd4fb4104d0>"
      ]
     },
     "execution_count": 35,
     "metadata": {},
     "output_type": "execute_result"
    },
    {
     "data": {
      "image/png": "[encoded data removed]",
      "text/plain": [
       "<Figure size 1152x576 with 1 Axes>"
      ]
     },
     "metadata": {
      "needs_background": "light"
     },
     "output_type": "display_data"
    }
   ],
   "source": [
    "# gathering the data into one DataFrame\n",
    "plt.figure(figsize=(16,8))\n",
    "plt.suptitle('Relative Difference in Cumulative Average Order Size',fontsize=28)\n",
    "plt.xlabel('Date')\n",
    "plt.ylabel('Relative Difference until Date')\n",
    "\n",
    "# plotting a relative difference graph for the average purchase sizes\n",
    "plt.plot(mergedCumulativeRevenue['date'], \n",
    "         (mergedCumulativeRevenue['revenueB']/mergedCumulativeRevenue['transactionsB'])/\n",
    "         (mergedCumulativeRevenue['revenueA']/mergedCumulativeRevenue['transactionsA'])-1)\n",
    "\n",
    "# adding the X axis\n",
    "plt.axhline(y=0, color='black', linestyle='--')"
   ]
  },
  {
   "cell_type": "markdown",
   "id": "4ab3ebaf",
   "metadata": {},
   "source": [
    "We can see that while group B has more abrupt growth in average order size, in the majority of our timeline group A is gaining ground."
   ]
  },
  {
   "cell_type": "markdown",
   "id": "95595cfa",
   "metadata": {},
   "source": [
    "###    Conversion Rate for  Each Group\n",
    "Until now we had better results from Group B but it's possible they happend because of unusual big orders. The Conversion Rate should give us a more sustainable indication of which group is better."
   ]
  },
  {
   "cell_type": "code",
   "execution_count": 36,
   "id": "4fdedfc6",
   "metadata": {
    "scrolled": false
   },
   "outputs": [
    {
     "data": {
      "image/png": "[encoded data removed]",
      "text/plain": [
       "<Figure size 1152x576 with 1 Axes>"
      ]
     },
     "metadata": {
      "needs_background": "light"
     },
     "output_type": "display_data"
    }
   ],
   "source": [
    "# calculating cumulative conversion\n",
    "cumulativeData['conversion'] = cumulativeData['transactions']/cumulativeData['visits']\n",
    "\n",
    "# selecting data on group A \n",
    "cumulativeDataA = cumulativeData[cumulativeData['group']=='A']\n",
    "\n",
    "# selecting data on group B\n",
    "cumulativeDataB = cumulativeData[cumulativeData['group']=='B']\n",
    "\n",
    "# plotting the graphs\n",
    "plt.figure(figsize=(16,8))\n",
    "plt.suptitle('Conversion Rate by Group',fontsize=28)\n",
    "plt.xlabel('Date')\n",
    "plt.ylabel('Conversion Rate')\n",
    "\n",
    "plt.plot(cumulativeDataA['date'], cumulativeDataA['conversion'], label='A')\n",
    "plt.plot(cumulativeDataB['date'], cumulativeDataB['conversion'], label='B')\n",
    "plt.legend();"
   ]
  },
  {
   "cell_type": "markdown",
   "id": "241a8f89",
   "metadata": {},
   "source": [
    "To our surprise, we see that group A is leading the whole time in the rate of visitors converted to clients. But the gap between the two groups is shrinking by the end."
   ]
  },
  {
   "cell_type": "markdown",
   "id": "717bd680",
   "metadata": {},
   "source": [
    "###    Relative gain in conversion in B compared to A"
   ]
  },
  {
   "cell_type": "code",
   "execution_count": 37,
   "id": "186e444c",
   "metadata": {},
   "outputs": [
    {
     "data": {
      "image/png": "[encoded data removed]",
      "text/plain": [
       "<Figure size 1152x576 with 1 Axes>"
      ]
     },
     "metadata": {
      "needs_background": "light"
     },
     "output_type": "display_data"
    }
   ],
   "source": [
    "mergedCumulativeConversions = cumulativeDataA[['date','conversion']].merge(cumulativeDataB[['date','conversion']], left_on='date', right_on='date', how='left', suffixes=['A', 'B'])\n",
    "plt.figure(figsize=(16,8))\n",
    "plt.suptitle('Relative Gain in Conversions in B compared to A',fontsize=28)\n",
    "plt.xlabel('Date')\n",
    "plt.ylabel('Relative Conversions')\n",
    "\n",
    "plt.plot(mergedCumulativeConversions['date'],\n",
    "         mergedCumulativeConversions['conversionB']/mergedCumulativeConversions['conversionA']-1,\n",
    "         label=\"Relative gain in conversion in group B as opposed to group A\"\n",
    "        )\n",
    "plt.legend()\n",
    "\n",
    "plt.axhline(y=0, color='black', linestyle='--')\n",
    "plt.axhline(y=-0.016, color='grey', linestyle='--');"
   ]
  },
  {
   "cell_type": "markdown",
   "id": "66882e5b",
   "metadata": {},
   "source": [
    "As we saw in the previous graph, Group a is leading in conversion rate, but by the end the difference is very small."
   ]
  },
  {
   "cell_type": "markdown",
   "id": "22f9eddc",
   "metadata": {},
   "source": [
    "###    Plot a scatter chart of the number of orders per user. Make conclusions and conjectures."
   ]
  },
  {
   "cell_type": "code",
   "execution_count": 38,
   "id": "784d9543",
   "metadata": {},
   "outputs": [
    {
     "data": {
      "text/html": [
       "<div>\n",
       "<style scoped>\n",
       "    .dataframe tbody tr th:only-of-type {\n",
       "        vertical-align: middle;\n",
       "    }\n",
       "\n",
       "    .dataframe tbody tr th {\n",
       "        vertical-align: top;\n",
       "    }\n",
       "\n",
       "    .dataframe thead th {\n",
       "        text-align: right;\n",
       "    }\n",
       "</style>\n",
       "<table border=\"1\" class=\"dataframe\">\n",
       "  <thead>\n",
       "    <tr style=\"text-align: right;\">\n",
       "      <th></th>\n",
       "      <th>userId</th>\n",
       "      <th>orders</th>\n",
       "    </tr>\n",
       "  </thead>\n",
       "  <tbody>\n",
       "    <tr>\n",
       "      <th>908</th>\n",
       "      <td>3967698036</td>\n",
       "      <td>3</td>\n",
       "    </tr>\n",
       "    <tr>\n",
       "      <th>55</th>\n",
       "      <td>249864742</td>\n",
       "      <td>3</td>\n",
       "    </tr>\n",
       "    <tr>\n",
       "      <th>478</th>\n",
       "      <td>2108163459</td>\n",
       "      <td>3</td>\n",
       "    </tr>\n",
       "    <tr>\n",
       "      <th>687</th>\n",
       "      <td>2988190573</td>\n",
       "      <td>3</td>\n",
       "    </tr>\n",
       "    <tr>\n",
       "      <th>890</th>\n",
       "      <td>3908431265</td>\n",
       "      <td>3</td>\n",
       "    </tr>\n",
       "    <tr>\n",
       "      <th>138</th>\n",
       "      <td>611059232</td>\n",
       "      <td>3</td>\n",
       "    </tr>\n",
       "    <tr>\n",
       "      <th>632</th>\n",
       "      <td>2742574263</td>\n",
       "      <td>3</td>\n",
       "    </tr>\n",
       "    <tr>\n",
       "      <th>157</th>\n",
       "      <td>678354126</td>\n",
       "      <td>2</td>\n",
       "    </tr>\n",
       "    <tr>\n",
       "      <th>323</th>\n",
       "      <td>1404560065</td>\n",
       "      <td>2</td>\n",
       "    </tr>\n",
       "    <tr>\n",
       "      <th>452</th>\n",
       "      <td>1985475298</td>\n",
       "      <td>2</td>\n",
       "    </tr>\n",
       "  </tbody>\n",
       "</table>\n",
       "</div>"
      ],
      "text/plain": [
       "         userId  orders\n",
       "908  3967698036       3\n",
       "55    249864742       3\n",
       "478  2108163459       3\n",
       "687  2988190573       3\n",
       "890  3908431265       3\n",
       "138   611059232       3\n",
       "632  2742574263       3\n",
       "157   678354126       2\n",
       "323  1404560065       2\n",
       "452  1985475298       2"
      ]
     },
     "execution_count": 38,
     "metadata": {},
     "output_type": "execute_result"
    }
   ],
   "source": [
    "ordersByUsers = (\n",
    "    orders_data.drop(['group', 'revenue', 'date'], axis=1)\n",
    "    .groupby('visitorId', as_index=False)\n",
    "    .agg({'transactionId': pd.Series.nunique})\n",
    ")\n",
    "\n",
    "ordersByUsers.columns = ['userId', 'orders']\n",
    "\n",
    "ordersByUsers.sort_values(by='orders', ascending=False).head(10)"
   ]
  },
  {
   "cell_type": "markdown",
   "id": "c7101077",
   "metadata": {},
   "source": [
    "There are users with 5, 8, 9, and 11 orders. That's a lot more than a regular user would place in a week. \n",
    "<br>\n",
    "Let's plot a distribution histogram with the number of orders per user."
   ]
  },
  {
   "cell_type": "code",
   "execution_count": 39,
   "id": "5f83f002",
   "metadata": {},
   "outputs": [
    {
     "data": {
      "image/png": "[encoded data removed]",
      "text/plain": [
       "<Figure size 1152x576 with 1 Axes>"
      ]
     },
     "metadata": {
      "needs_background": "light"
     },
     "output_type": "display_data"
    }
   ],
   "source": [
    "plt.figure(figsize=(16,8))\n",
    "plt.suptitle('Number of Orders per User',fontsize=28)\n",
    "plt.xlabel('Number of Orders')\n",
    "plt.ylabel('Number of Users with this many Orders')\n",
    "\n",
    "plt.hist(ordersByUsers['orders']);"
   ]
  },
  {
   "cell_type": "markdown",
   "id": "1f5dc9de",
   "metadata": {},
   "source": [
    "The majority of customers placed only one order. However, a significant share placed two to six apiece.\n",
    "<br>\n",
    "Let's plot a scatter chart with the number of orders per user:"
   ]
  },
  {
   "cell_type": "code",
   "execution_count": 40,
   "id": "a679c50e",
   "metadata": {},
   "outputs": [
    {
     "data": {
      "image/png": "[encoded data removed]",
      "text/plain": [
       "<Figure size 1152x576 with 1 Axes>"
      ]
     },
     "metadata": {
      "needs_background": "light"
     },
     "output_type": "display_data"
    }
   ],
   "source": [
    "x_values = pd.Series(range(0,len(ordersByUsers)))\n",
    "\n",
    "plt.figure(figsize=(16,8))\n",
    "plt.suptitle('Scatter Plot of Orders by User',fontsize=28)\n",
    "plt.xlabel('User')\n",
    "plt.ylabel('Number of Orders of User')\n",
    "plt.scatter(x_values, ordersByUsers['orders']);"
   ]
  },
  {
   "cell_type": "markdown",
   "id": "ce65ac44",
   "metadata": {},
   "source": [
    "Our conclusions are confirmed: there are indeed a lot of users with two to four orders. The exact share remains unknown, since it's not clear whether we should consider them anomalies or not. "
   ]
  },
  {
   "cell_type": "markdown",
   "id": "b0d8a907",
   "metadata": {},
   "source": [
    "###    Calculate the 95th and 99th percentiles for the number of orders per user. Define the point at which a data point becomes an anomaly."
   ]
  },
  {
   "cell_type": "code",
   "execution_count": 41,
   "id": "e48dbd36",
   "metadata": {},
   "outputs": [
    {
     "data": {
      "text/plain": [
       "array([1., 1., 1., 2.])"
      ]
     },
     "execution_count": 41,
     "metadata": {},
     "output_type": "execute_result"
    }
   ],
   "source": [
    "#Checking what case covers 99% of the users.\n",
    "np.percentile(ordersByUsers['orders'], [90,91,95,99])"
   ]
  },
  {
   "cell_type": "markdown",
   "id": "1935e0a9",
   "metadata": {},
   "source": [
    "We see that only a little more than 9% of users placed more than two orders or more, and less than 1% has more than 4 orders.<br>\n",
    "Thus, it would be reasonable to set three orders per user as the upper limit for the number of orders and to filter anomalies on that basis. Letting anomalies in the data would distort the results and render the A/B test useless."
   ]
  },
  {
   "cell_type": "markdown",
   "id": "dea65edb",
   "metadata": {},
   "source": [
    "###    Plot a scatter chart of order prices. Make conclusions and conjectures."
   ]
  },
  {
   "cell_type": "markdown",
   "id": "df68e382",
   "metadata": {},
   "source": [
    "Another type of anomaly we should be wary of is very expensive orders that would distort the results of the test."
   ]
  },
  {
   "cell_type": "code",
   "execution_count": 42,
   "id": "5fbdad58",
   "metadata": {},
   "outputs": [
    {
     "data": {
      "image/png": "[encoded data removed]",
      "text/plain": [
       "<Figure size 432x288 with 1 Axes>"
      ]
     },
     "metadata": {
      "needs_background": "light"
     },
     "output_type": "display_data"
    }
   ],
   "source": [
    "sns.histplot(orders_data['revenue']);"
   ]
  },
  {
   "cell_type": "markdown",
   "id": "b8639cb0",
   "metadata": {},
   "source": [
    "We see that indeed, while most of the orders are smaller than 1000, we have orders close to 20000.<br>\n",
    "A scatter plot will help us see the anomalies more clearly."
   ]
  },
  {
   "cell_type": "code",
   "execution_count": 43,
   "id": "0f519ab4",
   "metadata": {},
   "outputs": [
    {
     "data": {
      "text/plain": [
       "<matplotlib.collections.PathCollection at 0x7fd4fb60a790>"
      ]
     },
     "execution_count": 43,
     "metadata": {},
     "output_type": "execute_result"
    },
    {
     "data": {
      "image/png": "[encoded data removed]",
      "text/plain": [
       "<Figure size 432x288 with 1 Axes>"
      ]
     },
     "metadata": {
      "needs_background": "light"
     },
     "output_type": "display_data"
    }
   ],
   "source": [
    "x_values = pd.Series(range(0, len(orders_data['revenue'])))\n",
    "plt.scatter(x_values, orders_data['revenue']) "
   ]
  },
  {
   "cell_type": "markdown",
   "id": "108e52c5",
   "metadata": {},
   "source": [
    "We clearly see there are two outlier orders."
   ]
  },
  {
   "cell_type": "markdown",
   "id": "0c134eab",
   "metadata": {},
   "source": [
    "###    Calculate the 95th and 99th percentiles of order prices. Define the point at which a data point becomes an anomaly."
   ]
  },
  {
   "cell_type": "code",
   "execution_count": 44,
   "id": "b5992abb",
   "metadata": {},
   "outputs": [
    {
     "data": {
      "text/plain": [
       "array([280.8  , 288.68 , 414.275, 538.14 , 830.3  ])"
      ]
     },
     "execution_count": 44,
     "metadata": {},
     "output_type": "execute_result"
    }
   ],
   "source": [
    "#Checking what maximum revenue covers 99% of the orders.\n",
    "np.percentile(orders_data['revenue'], [90,91,95,97,99])"
   ]
  },
  {
   "cell_type": "markdown",
   "id": "30041348",
   "metadata": {},
   "source": [
    "We see that only a little more than 5% of users placed orders above 430, and less than 1% above 901.<br>\n",
    "Thus, it would be reasonable to set 500 as the upper limit for the value of the orders and to filter anomalies on that basis. When doing A/B testing it's better to filter  anomalies in a stringent way so we can better see the overall picture."
   ]
  },
  {
   "cell_type": "markdown",
   "id": "0aee7684",
   "metadata": {},
   "source": [
    "###    Find the statistical significance of the difference in conversion between the groups using the raw data. Make conclusions and conjectures."
   ]
  },
  {
   "cell_type": "markdown",
   "id": "d3eaa51c",
   "metadata": {},
   "source": [
    "After visually comparing the two groups, let's see now what's the statistical significance of the difference between the groups. We'll start with Conversion Rate."
   ]
  },
  {
   "cell_type": "markdown",
   "id": "53c5bd45",
   "metadata": {},
   "source": [
    "First we create tables with the clients who orderd at least once."
   ]
  },
  {
   "cell_type": "code",
   "execution_count": 45,
   "id": "2c62286b",
   "metadata": {},
   "outputs": [],
   "source": [
    "ordersByUsersA = orders_data[orders_data['group']=='A'].groupby('visitorId', as_index=False).agg({'transactionId' : pd.Series.nunique})\n",
    "ordersByUsersA.columns = ['userId', 'orders']\n",
    "\n",
    "ordersByUsersB = orders_data[orders_data['group']=='B'].groupby('visitorId', as_index=False).agg({'transactionId' : pd.Series.nunique})\n",
    "ordersByUsersB.columns = ['userId', 'orders']"
   ]
  },
  {
   "cell_type": "markdown",
   "id": "3c6bc14e",
   "metadata": {},
   "source": [
    "We use sampleA and sampleB to be able to see the conversion rate."
   ]
  },
  {
   "cell_type": "code",
   "execution_count": 46,
   "id": "8ae432e2",
   "metadata": {},
   "outputs": [],
   "source": [
    "sampleA = pd.concat([ordersByUsersA['orders'],pd.Series(0, index=np.arange(visits_data[visits_data['group']=='A']['visits'].sum() - len(ordersByUsersA['orders'])), name='orders')],axis=0)\n",
    "sampleB = pd.concat([ordersByUsersB['orders'],pd.Series(0, index=np.arange(visits_data[visits_data['group']=='B']['visits'].sum() - len(ordersByUsersB['orders'])), name='orders')],axis=0)"
   ]
  },
  {
   "cell_type": "code",
   "execution_count": 47,
   "id": "992172fa",
   "metadata": {
    "scrolled": true
   },
   "outputs": [
    {
     "name": "stdout",
     "output_type": "stream",
     "text": [
      "P value for the H0 =  there isn't a statistically significant difference in conversion between the groups: 0.011\n",
      "Relative gain of group B 0.160\n"
     ]
    }
   ],
   "source": [
    "print(\"P value for the H0 =  there isn't a statistically significant difference in conversion between the groups: {0:.3f}\".\n",
    "      format(st.mannwhitneyu(sampleA, sampleB)[1]))\n",
    "print(\"Relative gain of group B {0:.3f}\".format(sampleB.mean()/sampleA.mean()-1)) "
   ]
  },
  {
   "cell_type": "markdown",
   "id": "1cd30e0e",
   "metadata": {},
   "source": [
    "We see that $p=0.017<0.05$  so we reject the null hypothesis and we can say that there is a statistical difference in conversion between the groups and a $13.8\\%$ gain to group $B$."
   ]
  },
  {
   "cell_type": "markdown",
   "id": "9adceb12",
   "metadata": {},
   "source": [
    "###    Find the statistical significance of the difference in average order size between the groups using the raw data. Make conclusions and conjectures."
   ]
  },
  {
   "cell_type": "code",
   "execution_count": 48,
   "id": "4117fc7d",
   "metadata": {
    "scrolled": true
   },
   "outputs": [
    {
     "name": "stdout",
     "output_type": "stream",
     "text": [
      "P value for the H0 =  there isn't a statistically significant difference in order size between the groups: 0.862\n",
      "Relative gain of group B 0.278\n"
     ]
    }
   ],
   "source": [
    "print(\"P value for the H0 =  there isn't a statistically significant difference in order size between the groups: {0:.3f}\".\n",
    "      format(st.mannwhitneyu(orders_data[orders_data['group']=='A']['revenue'], \n",
    "                                orders_data[orders_data['group']=='B']['revenue'])[1]))\n",
    "print(\"Relative gain of group B {0:.3f}\".\n",
    "      format(orders_data[orders_data['group']=='B']['revenue'].mean()/orders_data[orders_data['group']=='A']['revenue'].mean()-1)) "
   ]
  },
  {
   "cell_type": "markdown",
   "id": "c2677ba5",
   "metadata": {},
   "source": [
    "We see that $p=0.692>>0.05$  so no reason to reject the null hypothesis. There is no statistical difference in order size between the groups and a $13.8\\%$.\n",
    "There still is a $25.2\\%$ gain to group $B$ but it's not statistically significant."
   ]
  },
  {
   "cell_type": "markdown",
   "id": "f7b84c44",
   "metadata": {},
   "source": [
    "###    Extract the outliers from the data"
   ]
  },
  {
   "cell_type": "markdown",
   "id": "2960a8ee",
   "metadata": {},
   "source": [
    "Using the conclusions we derived in the begining of our analysis, we generate the group of outlier users."
   ]
  },
  {
   "cell_type": "code",
   "execution_count": 49,
   "id": "072dda45",
   "metadata": {},
   "outputs": [
    {
     "data": {
      "text/html": [
       "<div>\n",
       "<style scoped>\n",
       "    .dataframe tbody tr th:only-of-type {\n",
       "        vertical-align: middle;\n",
       "    }\n",
       "\n",
       "    .dataframe tbody tr th {\n",
       "        vertical-align: top;\n",
       "    }\n",
       "\n",
       "    .dataframe thead th {\n",
       "        text-align: right;\n",
       "    }\n",
       "</style>\n",
       "<table border=\"1\" class=\"dataframe\">\n",
       "  <thead>\n",
       "    <tr style=\"text-align: right;\">\n",
       "      <th></th>\n",
       "      <th>transactionId</th>\n",
       "      <th>visitorId</th>\n",
       "      <th>date</th>\n",
       "      <th>revenue</th>\n",
       "      <th>group</th>\n",
       "    </tr>\n",
       "  </thead>\n",
       "  <tbody>\n",
       "    <tr>\n",
       "      <th>0</th>\n",
       "      <td>3667963787</td>\n",
       "      <td>3312258926</td>\n",
       "      <td>2019-08-15</td>\n",
       "      <td>30.4</td>\n",
       "      <td>B</td>\n",
       "    </tr>\n",
       "    <tr>\n",
       "      <th>1</th>\n",
       "      <td>2804400009</td>\n",
       "      <td>3642806036</td>\n",
       "      <td>2019-08-15</td>\n",
       "      <td>15.2</td>\n",
       "      <td>B</td>\n",
       "    </tr>\n",
       "    <tr>\n",
       "      <th>3</th>\n",
       "      <td>3797467345</td>\n",
       "      <td>1196621759</td>\n",
       "      <td>2019-08-15</td>\n",
       "      <td>155.1</td>\n",
       "      <td>B</td>\n",
       "    </tr>\n",
       "    <tr>\n",
       "      <th>4</th>\n",
       "      <td>2282983706</td>\n",
       "      <td>2322279887</td>\n",
       "      <td>2019-08-15</td>\n",
       "      <td>40.5</td>\n",
       "      <td>B</td>\n",
       "    </tr>\n",
       "    <tr>\n",
       "      <th>5</th>\n",
       "      <td>182168103</td>\n",
       "      <td>935554773</td>\n",
       "      <td>2019-08-15</td>\n",
       "      <td>35.0</td>\n",
       "      <td>B</td>\n",
       "    </tr>\n",
       "    <tr>\n",
       "      <th>...</th>\n",
       "      <td>...</td>\n",
       "      <td>...</td>\n",
       "      <td>...</td>\n",
       "      <td>...</td>\n",
       "      <td>...</td>\n",
       "    </tr>\n",
       "    <tr>\n",
       "      <th>1191</th>\n",
       "      <td>3592955527</td>\n",
       "      <td>608641596</td>\n",
       "      <td>2019-08-14</td>\n",
       "      <td>255.7</td>\n",
       "      <td>B</td>\n",
       "    </tr>\n",
       "    <tr>\n",
       "      <th>1192</th>\n",
       "      <td>2662137336</td>\n",
       "      <td>3733762160</td>\n",
       "      <td>2019-08-14</td>\n",
       "      <td>100.8</td>\n",
       "      <td>B</td>\n",
       "    </tr>\n",
       "    <tr>\n",
       "      <th>1193</th>\n",
       "      <td>2203539145</td>\n",
       "      <td>370388673</td>\n",
       "      <td>2019-08-14</td>\n",
       "      <td>50.1</td>\n",
       "      <td>A</td>\n",
       "    </tr>\n",
       "    <tr>\n",
       "      <th>1194</th>\n",
       "      <td>1807773912</td>\n",
       "      <td>573423106</td>\n",
       "      <td>2019-08-14</td>\n",
       "      <td>165.3</td>\n",
       "      <td>A</td>\n",
       "    </tr>\n",
       "    <tr>\n",
       "      <th>1196</th>\n",
       "      <td>3936777065</td>\n",
       "      <td>2108080724</td>\n",
       "      <td>2019-08-15</td>\n",
       "      <td>3120.1</td>\n",
       "      <td>B</td>\n",
       "    </tr>\n",
       "  </tbody>\n",
       "</table>\n",
       "<p>1016 rows × 5 columns</p>\n",
       "</div>"
      ],
      "text/plain": [
       "      transactionId   visitorId       date  revenue group\n",
       "0        3667963787  3312258926 2019-08-15     30.4     B\n",
       "1        2804400009  3642806036 2019-08-15     15.2     B\n",
       "3        3797467345  1196621759 2019-08-15    155.1     B\n",
       "4        2282983706  2322279887 2019-08-15     40.5     B\n",
       "5         182168103   935554773 2019-08-15     35.0     B\n",
       "...             ...         ...        ...      ...   ...\n",
       "1191     3592955527   608641596 2019-08-14    255.7     B\n",
       "1192     2662137336  3733762160 2019-08-14    100.8     B\n",
       "1193     2203539145   370388673 2019-08-14     50.1     A\n",
       "1194     1807773912   573423106 2019-08-14    165.3     A\n",
       "1196     3936777065  2108080724 2019-08-15   3120.1     B\n",
       "\n",
       "[1016 rows x 5 columns]"
      ]
     },
     "execution_count": 49,
     "metadata": {},
     "output_type": "execute_result"
    }
   ],
   "source": [
    "orders_data"
   ]
  },
  {
   "cell_type": "code",
   "execution_count": 50,
   "id": "0f507463",
   "metadata": {},
   "outputs": [
    {
     "data": {
      "text/plain": [
       "1099    148427295\n",
       "928     204675465\n",
       "684     358944393\n",
       "648     382846391\n",
       "751     689129267\n",
       "dtype: int64"
      ]
     },
     "execution_count": 50,
     "metadata": {},
     "output_type": "execute_result"
    }
   ],
   "source": [
    "usersWithManyOrders = pd.concat([ordersByUsersA[ordersByUsersA['orders'] > 3]['userId'], ordersByUsersB[ordersByUsersB['orders'] > 4]['userId']], axis = 0)\n",
    "usersWithExpensiveOrders = orders_data[orders_data['revenue'] > 500]['visitorId']\n",
    "abnormalUsers = pd.concat([usersWithManyOrders, usersWithExpensiveOrders], axis = 0).drop_duplicates().sort_values()\n",
    "abnormalUsers.head(5)"
   ]
  },
  {
   "cell_type": "code",
   "execution_count": 51,
   "id": "c335c3e3",
   "metadata": {},
   "outputs": [
    {
     "data": {
      "text/plain": [
       "(37,)"
      ]
     },
     "execution_count": 51,
     "metadata": {},
     "output_type": "execute_result"
    }
   ],
   "source": [
    "abnormalUsers.shape"
   ]
  },
  {
   "cell_type": "markdown",
   "id": "dd4ad706",
   "metadata": {},
   "source": [
    "We have 48 anomalous users in total. "
   ]
  },
  {
   "cell_type": "markdown",
   "id": "b64212ec",
   "metadata": {},
   "source": [
    "We can now prepare samples of the number of orders per user for each test group"
   ]
  },
  {
   "cell_type": "code",
   "execution_count": 52,
   "id": "12e87972",
   "metadata": {},
   "outputs": [],
   "source": [
    "sampleAFiltered = pd.concat([ordersByUsersA[np.logical_not(ordersByUsersA['userId'].isin(abnormalUsers))]['orders'],pd.Series(0, index=np.arange(visits_data[visits_data['group']=='A']['visits'].sum() - len(ordersByUsersA['orders'])),name='orders')],axis=0)\n",
    "sampleBFiltered = pd.concat([ordersByUsersB[np.logical_not(ordersByUsersB['userId'].isin(abnormalUsers))]['orders'],pd.Series(0, index=np.arange(visits_data[visits_data['group']=='B']['visits'].sum() - len(ordersByUsersB['orders'])),name='orders')],axis=0)"
   ]
  },
  {
   "cell_type": "markdown",
   "id": "acd45cc1",
   "metadata": {},
   "source": [
    "###    Find the statistical significance of the difference in conversion between the groups using the filtered data. Make conclusions and conjectures."
   ]
  },
  {
   "cell_type": "markdown",
   "id": "f3277b39",
   "metadata": {},
   "source": [
    "For both tests we want a confidence probabilty of 95%. Since we use a double sided test, we calculate the alpha level:\n",
    "$$ \\alpha = (1-0,95)/2\\% = 0.25\\% $$"
   ]
  },
  {
   "cell_type": "markdown",
   "id": "56a52766",
   "metadata": {},
   "source": [
    "We make the following null hypothesis:\n",
    "<br>\n",
    "$ H_{0} = $ there isn't a statistically significant difference in conversion between the groups\n",
    "<br>\n",
    "The alternative hypothesis is:\n",
    "<br>\n",
    "$ H_{1} = $ there is a statistically significant difference in conversion between the groups\n",
    "<br>We choose the estimated standard error $\\alpha = 0.0\n",
    "25$ which should provide us with an adequate margin of confidence.\n"
   ]
  },
  {
   "cell_type": "markdown",
   "id": "a00dbde5",
   "metadata": {},
   "source": [
    "Let's try to find out how their actions affected the test results. We'll calculate the statistical significance of the differences in conversion between the groups, using filtered data. First we'll prepare samples of the number of orders per user for each test group:"
   ]
  },
  {
   "cell_type": "code",
   "execution_count": 53,
   "id": "08c6d4f0",
   "metadata": {
    "scrolled": false
   },
   "outputs": [
    {
     "name": "stdout",
     "output_type": "stream",
     "text": [
      "P value for the H0 =  there isn't a statistically significant difference in conversion between the groups: 0.010\n",
      "We reject the null hypothesis\n",
      "Relative gain of group B 0.167\n"
     ]
    }
   ],
   "source": [
    "alpha=0.025\n",
    "pvalue=st.mannwhitneyu(sampleAFiltered, sampleBFiltered,\n",
    "                            alternative=\"two-sided\")[1]\n",
    "print(\"P value for the H0 =  there isn't a statistically significant difference in conversion between the groups: {0:.3f}\".\n",
    "      format(pvalue))\n",
    "if pvalue < alpha:\n",
    "    print(\"We reject the null hypothesis\")\n",
    "else:\n",
    "    print(\"We can't reject the null hypothesis\") \n",
    "print(\"Relative gain of group B {0:.3f}\".format(sampleBFiltered.mean()/sampleAFiltered.mean()-1)) "
   ]
  },
  {
   "cell_type": "markdown",
   "id": "28c7a508",
   "metadata": {},
   "source": [
    "Contrary to what I actually expected, we see that our certainty that there is a statistical difference in conversion rates increased, with $p=0.015<0.025$ so we reject the null hypothesis<br>Mean relative gain of group $B$ after filtration  is now $16.5\\%$, a slight increase."
   ]
  },
  {
   "cell_type": "markdown",
   "id": "39b8561f",
   "metadata": {},
   "source": [
    "###    Find the statistical significance of the difference in average order size between the groups using the filtered data. Make conclusions and conjectures."
   ]
  },
  {
   "cell_type": "markdown",
   "id": "84fe6604",
   "metadata": {},
   "source": [
    "We make the following null hypothesis:\n",
    "<br>\n",
    "$ H_{0} = $ there isn't a statistically significant difference in average order size between the groups\n",
    "<br>\n",
    "The alternative hypothesis is:\n",
    "<br>\n",
    "$ H_{1} = $ there is a statistically significant difference in average order size between the groups\n",
    "<br>We again choose the estimated standard error $\\alpha = 0.025$ which should provide us with an adequate margin of confidence for our double sided test.\n"
   ]
  },
  {
   "cell_type": "code",
   "execution_count": 54,
   "id": "5a25a336",
   "metadata": {},
   "outputs": [],
   "source": [
    "orders_filtered=orders_data[np.logical_not(orders_data['visitorId'].isin(abnormalUsers))]"
   ]
  },
  {
   "cell_type": "code",
   "execution_count": 55,
   "id": "fffb572b",
   "metadata": {},
   "outputs": [
    {
     "name": "stdout",
     "output_type": "stream",
     "text": [
      "P value for the H0 =  there isn't a statistically significant difference in average order size: 0.992\n",
      "We can't reject the null hypothesis\n",
      "Relative gain of group B: -0.006\n"
     ]
    }
   ],
   "source": [
    "pvalue=st.mannwhitneyu(orders_data[np.logical_and(\n",
    "        orders_data['group']=='A',\n",
    "        np.logical_not(orders_data['visitorId'].isin(abnormalUsers)))]['revenue'],\n",
    "        orders_data[np.logical_and(\n",
    "            orders_data['group']=='B',\n",
    "            np.logical_not(orders_data['visitorId'].isin(abnormalUsers)))]['revenue'],\n",
    "                            alternative=\"two-sided\")[1]\n",
    "print(\"P value for the H0 =  there isn't a statistically significant difference in average order size: {0:.3f}\".\n",
    "      format(pvalue))\n",
    "if pvalue < alpha:\n",
    "    print(\"We reject the null hypothesis\")\n",
    "else:\n",
    "        print(\"We can't reject the null hypothesis\") \n",
    "print('Relative gain of group B: {0:.3f}'.format(\n",
    "    orders_data[np.logical_and(orders_data['group']=='B',np.logical_not(orders_data['visitorId'].isin(abnormalUsers)))]['revenue'].mean()/\n",
    "    orders_data[np.logical_and(\n",
    "        orders_data['group']=='A',\n",
    "        np.logical_not(orders_data['visitorId'].isin(abnormalUsers)))]['revenue'].mean() - 1))"
   ]
  },
  {
   "cell_type": "markdown",
   "id": "ea97c431",
   "metadata": {},
   "source": [
    "With the filtered data, the results in this test are even clearer than before. There is no reason to think there is statistical relevant difference between the two groups in order size, and the mean diffence is almost 0."
   ]
  },
  {
   "cell_type": "markdown",
   "id": "e8a92fc6",
   "metadata": {},
   "source": [
    "###    Make a decision based on the test results. The possible decisions are: 1. Stop the test, consider one of the groups the leader. 2. Stop the test, conclude that there is no difference between the groups. 3. Continue the test."
   ]
  },
  {
   "cell_type": "markdown",
   "id": "f97949d0",
   "metadata": {},
   "source": [
    "We saw there is a statistical signifcant difference in rate of conversion in favor of group B, but this does not translate into bigger orders, just more numerous."
   ]
  },
  {
   "cell_type": "markdown",
   "id": "68a02c74",
   "metadata": {},
   "source": [
    "If our goal was to increase the rate of conversion, A/B testing show that the B hypothesis gives better results.\n",
    "If the goal was to increase order size, our hypothesis fails.\n",
    "\n",
    "In both cases, I think we can stop the testing as the picture the results give is pretty clear."
   ]
  },
  {
   "cell_type": "code",
   "execution_count": null,
   "id": "b166ecf2",
   "metadata": {},
   "outputs": [],
   "source": []
  }
 ],
 "metadata": {
  "ExecuteTimeLog": [
   {
    "duration": 21038,
    "start_time": "2021-07-04T05:15:22.764Z"
   },
   {
    "duration": 4,
    "start_time": "2021-07-04T05:15:43.805Z"
   },
   {
    "duration": 1953,
    "start_time": "2021-07-04T05:15:43.815Z"
   },
   {
    "duration": 44,
    "start_time": "2021-07-04T05:15:45.771Z"
   },
   {
    "duration": 548,
    "start_time": "2021-07-04T05:15:45.817Z"
   },
   {
    "duration": -109,
    "start_time": "2021-07-04T05:15:46.481Z"
   },
   {
    "duration": -111,
    "start_time": "2021-07-04T05:15:46.484Z"
   },
   {
    "duration": -112,
    "start_time": "2021-07-04T05:15:46.487Z"
   },
   {
    "duration": -113,
    "start_time": "2021-07-04T05:15:46.489Z"
   },
   {
    "duration": -113,
    "start_time": "2021-07-04T05:15:46.491Z"
   },
   {
    "duration": -114,
    "start_time": "2021-07-04T05:15:46.493Z"
   },
   {
    "duration": -114,
    "start_time": "2021-07-04T05:15:46.495Z"
   },
   {
    "duration": -115,
    "start_time": "2021-07-04T05:15:46.497Z"
   },
   {
    "duration": -115,
    "start_time": "2021-07-04T05:15:46.499Z"
   },
   {
    "duration": -116,
    "start_time": "2021-07-04T05:15:46.501Z"
   },
   {
    "duration": -115,
    "start_time": "2021-07-04T05:15:46.502Z"
   },
   {
    "duration": -116,
    "start_time": "2021-07-04T05:15:46.504Z"
   },
   {
    "duration": -116,
    "start_time": "2021-07-04T05:15:46.506Z"
   },
   {
    "duration": -118,
    "start_time": "2021-07-04T05:15:46.509Z"
   },
   {
    "duration": -118,
    "start_time": "2021-07-04T05:15:46.511Z"
   },
   {
    "duration": -122,
    "start_time": "2021-07-04T05:15:46.516Z"
   },
   {
    "duration": -122,
    "start_time": "2021-07-04T05:15:46.518Z"
   },
   {
    "duration": -123,
    "start_time": "2021-07-04T05:15:46.520Z"
   },
   {
    "duration": -122,
    "start_time": "2021-07-04T05:15:46.521Z"
   },
   {
    "duration": -123,
    "start_time": "2021-07-04T05:15:46.523Z"
   },
   {
    "duration": -122,
    "start_time": "2021-07-04T05:15:46.524Z"
   },
   {
    "duration": -123,
    "start_time": "2021-07-04T05:15:46.526Z"
   },
   {
    "duration": -119,
    "start_time": "2021-07-04T05:15:46.527Z"
   },
   {
    "duration": -118,
    "start_time": "2021-07-04T05:15:46.528Z"
   },
   {
    "duration": -118,
    "start_time": "2021-07-04T05:15:46.530Z"
   },
   {
    "duration": -117,
    "start_time": "2021-07-04T05:15:46.531Z"
   },
   {
    "duration": -117,
    "start_time": "2021-07-04T05:15:46.532Z"
   },
   {
    "duration": -117,
    "start_time": "2021-07-04T05:15:46.534Z"
   },
   {
    "duration": -116,
    "start_time": "2021-07-04T05:15:46.535Z"
   },
   {
    "duration": -116,
    "start_time": "2021-07-04T05:15:46.537Z"
   },
   {
    "duration": -116,
    "start_time": "2021-07-04T05:15:46.538Z"
   },
   {
    "duration": -115,
    "start_time": "2021-07-04T05:15:46.539Z"
   },
   {
    "duration": -149,
    "start_time": "2021-07-04T05:15:46.575Z"
   },
   {
    "duration": -149,
    "start_time": "2021-07-04T05:15:46.577Z"
   },
   {
    "duration": -150,
    "start_time": "2021-07-04T05:15:46.579Z"
   },
   {
    "duration": -355,
    "start_time": "2021-07-04T05:15:46.786Z"
   },
   {
    "duration": -504,
    "start_time": "2021-07-04T05:15:46.937Z"
   },
   {
    "duration": -505,
    "start_time": "2021-07-04T05:15:46.939Z"
   },
   {
    "duration": -504,
    "start_time": "2021-07-04T05:15:46.940Z"
   },
   {
    "duration": -505,
    "start_time": "2021-07-04T05:15:46.942Z"
   },
   {
    "duration": -504,
    "start_time": "2021-07-04T05:15:46.943Z"
   },
   {
    "duration": -503,
    "start_time": "2021-07-04T05:15:46.944Z"
   },
   {
    "duration": -504,
    "start_time": "2021-07-04T05:15:46.946Z"
   },
   {
    "duration": -504,
    "start_time": "2021-07-04T05:15:46.947Z"
   },
   {
    "duration": -503,
    "start_time": "2021-07-04T05:15:46.948Z"
   },
   {
    "duration": -441,
    "start_time": "2021-07-04T05:15:46.950Z"
   },
   {
    "duration": -440,
    "start_time": "2021-07-04T05:15:46.951Z"
   },
   {
    "duration": -602,
    "start_time": "2021-07-04T05:15:47.114Z"
   },
   {
    "duration": -715,
    "start_time": "2021-07-04T05:15:47.228Z"
   },
   {
    "duration": -715,
    "start_time": "2021-07-04T05:15:47.230Z"
   },
   {
    "duration": -715,
    "start_time": "2021-07-04T05:15:47.231Z"
   },
   {
    "duration": -715,
    "start_time": "2021-07-04T05:15:47.233Z"
   },
   {
    "duration": -718,
    "start_time": "2021-07-04T05:15:47.237Z"
   },
   {
    "duration": -719,
    "start_time": "2021-07-04T05:15:47.239Z"
   },
   {
    "duration": -718,
    "start_time": "2021-07-04T05:15:47.240Z"
   },
   {
    "duration": -719,
    "start_time": "2021-07-04T05:15:47.242Z"
   },
   {
    "duration": -719,
    "start_time": "2021-07-04T05:15:47.243Z"
   },
   {
    "duration": -719,
    "start_time": "2021-07-04T05:15:47.244Z"
   },
   {
    "duration": -719,
    "start_time": "2021-07-04T05:15:47.246Z"
   },
   {
    "duration": -719,
    "start_time": "2021-07-04T05:15:47.247Z"
   },
   {
    "duration": -719,
    "start_time": "2021-07-04T05:15:47.248Z"
   },
   {
    "duration": -719,
    "start_time": "2021-07-04T05:15:47.250Z"
   },
   {
    "duration": -719,
    "start_time": "2021-07-04T05:15:47.251Z"
   },
   {
    "duration": -719,
    "start_time": "2021-07-04T05:15:47.252Z"
   },
   {
    "duration": -718,
    "start_time": "2021-07-04T05:15:47.253Z"
   },
   {
    "duration": -719,
    "start_time": "2021-07-04T05:15:47.255Z"
   },
   {
    "duration": -718,
    "start_time": "2021-07-04T05:15:47.256Z"
   },
   {
    "duration": -719,
    "start_time": "2021-07-04T05:15:47.258Z"
   },
   {
    "duration": -719,
    "start_time": "2021-07-04T05:15:47.259Z"
   },
   {
    "duration": -719,
    "start_time": "2021-07-04T05:15:47.260Z"
   },
   {
    "duration": -718,
    "start_time": "2021-07-04T05:15:47.261Z"
   },
   {
    "duration": -719,
    "start_time": "2021-07-04T05:15:47.263Z"
   },
   {
    "duration": -719,
    "start_time": "2021-07-04T05:15:47.264Z"
   },
   {
    "duration": -719,
    "start_time": "2021-07-04T05:15:47.265Z"
   },
   {
    "duration": -720,
    "start_time": "2021-07-04T05:15:47.267Z"
   },
   {
    "duration": -659,
    "start_time": "2021-07-04T05:15:47.268Z"
   },
   {
    "duration": -659,
    "start_time": "2021-07-04T05:15:47.269Z"
   },
   {
    "duration": -659,
    "start_time": "2021-07-04T05:15:47.271Z"
   },
   {
    "duration": -658,
    "start_time": "2021-07-04T05:15:47.272Z"
   },
   {
    "duration": -667,
    "start_time": "2021-07-04T05:15:47.283Z"
   },
   {
    "duration": -666,
    "start_time": "2021-07-04T05:15:47.284Z"
   },
   {
    "duration": -665,
    "start_time": "2021-07-04T05:15:47.286Z"
   },
   {
    "duration": -666,
    "start_time": "2021-07-04T05:15:47.288Z"
   },
   {
    "duration": -664,
    "start_time": "2021-07-04T05:15:47.289Z"
   },
   {
    "duration": -665,
    "start_time": "2021-07-04T05:15:47.291Z"
   },
   {
    "duration": -664,
    "start_time": "2021-07-04T05:15:47.292Z"
   },
   {
    "duration": -663,
    "start_time": "2021-07-04T05:15:47.293Z"
   },
   {
    "duration": -663,
    "start_time": "2021-07-04T05:15:47.295Z"
   },
   {
    "duration": -662,
    "start_time": "2021-07-04T05:15:47.296Z"
   },
   {
    "duration": -661,
    "start_time": "2021-07-04T05:15:47.297Z"
   },
   {
    "duration": -661,
    "start_time": "2021-07-04T05:15:47.299Z"
   },
   {
    "duration": -660,
    "start_time": "2021-07-04T05:15:47.300Z"
   },
   {
    "duration": -659,
    "start_time": "2021-07-04T05:15:47.301Z"
   },
   {
    "duration": -659,
    "start_time": "2021-07-04T05:15:47.303Z"
   },
   {
    "duration": -659,
    "start_time": "2021-07-04T05:15:47.304Z"
   },
   {
    "duration": -596,
    "start_time": "2021-07-04T05:15:47.305Z"
   },
   {
    "duration": -597,
    "start_time": "2021-07-04T05:15:47.307Z"
   },
   {
    "duration": -596,
    "start_time": "2021-07-04T05:15:47.308Z"
   },
   {
    "duration": -596,
    "start_time": "2021-07-04T05:15:47.309Z"
   },
   {
    "duration": -596,
    "start_time": "2021-07-04T05:15:47.311Z"
   },
   {
    "duration": -595,
    "start_time": "2021-07-04T05:15:47.312Z"
   },
   {
    "duration": -595,
    "start_time": "2021-07-04T05:15:47.313Z"
   },
   {
    "duration": -595,
    "start_time": "2021-07-04T05:15:47.314Z"
   },
   {
    "duration": -595,
    "start_time": "2021-07-04T05:15:47.316Z"
   },
   {
    "duration": -595,
    "start_time": "2021-07-04T05:15:47.317Z"
   },
   {
    "duration": -594,
    "start_time": "2021-07-04T05:15:47.318Z"
   },
   {
    "duration": -593,
    "start_time": "2021-07-04T05:15:47.319Z"
   },
   {
    "duration": -594,
    "start_time": "2021-07-04T05:15:47.321Z"
   },
   {
    "duration": -593,
    "start_time": "2021-07-04T05:15:47.322Z"
   },
   {
    "duration": -593,
    "start_time": "2021-07-04T05:15:47.323Z"
   },
   {
    "duration": -593,
    "start_time": "2021-07-04T05:15:47.325Z"
   },
   {
    "duration": -593,
    "start_time": "2021-07-04T05:15:47.326Z"
   },
   {
    "duration": -593,
    "start_time": "2021-07-04T05:15:47.327Z"
   },
   {
    "duration": -592,
    "start_time": "2021-07-04T05:15:47.328Z"
   },
   {
    "duration": -593,
    "start_time": "2021-07-04T05:15:47.330Z"
   },
   {
    "duration": -592,
    "start_time": "2021-07-04T05:15:47.331Z"
   },
   {
    "duration": -592,
    "start_time": "2021-07-04T05:15:47.332Z"
   },
   {
    "duration": -594,
    "start_time": "2021-07-04T05:15:47.336Z"
   },
   {
    "duration": -604,
    "start_time": "2021-07-04T05:15:47.347Z"
   },
   {
    "duration": 377,
    "start_time": "2021-07-04T05:16:44.208Z"
   },
   {
    "duration": 5,
    "start_time": "2021-07-04T05:16:50.344Z"
   },
   {
    "duration": 55,
    "start_time": "2021-07-04T05:17:07.168Z"
   },
   {
    "duration": 46,
    "start_time": "2021-07-04T05:17:07.520Z"
   },
   {
    "duration": 52,
    "start_time": "2021-07-04T05:17:08.510Z"
   },
   {
    "duration": 7,
    "start_time": "2021-07-04T05:17:09.485Z"
   },
   {
    "duration": 7,
    "start_time": "2021-07-04T05:17:09.826Z"
   },
   {
    "duration": 37,
    "start_time": "2021-07-04T05:17:10.154Z"
   },
   {
    "duration": 41,
    "start_time": "2021-07-04T05:17:10.482Z"
   },
   {
    "duration": 17,
    "start_time": "2021-07-04T05:17:11.098Z"
   },
   {
    "duration": 564,
    "start_time": "2021-07-04T05:17:11.733Z"
   },
   {
    "duration": 6,
    "start_time": "2021-07-04T05:17:12.357Z"
   },
   {
    "duration": 3244,
    "start_time": "2021-07-04T05:17:12.714Z"
   },
   {
    "duration": 4195,
    "start_time": "2021-07-04T05:17:15.960Z"
   },
   {
    "duration": 5,
    "start_time": "2021-07-04T05:17:20.158Z"
   },
   {
    "duration": 16,
    "start_time": "2021-07-04T05:17:20.165Z"
   },
   {
    "duration": 1058,
    "start_time": "2021-07-04T05:17:20.184Z"
   },
   {
    "duration": -193,
    "start_time": "2021-07-04T05:17:21.438Z"
   },
   {
    "duration": -193,
    "start_time": "2021-07-04T05:17:21.440Z"
   },
   {
    "duration": -194,
    "start_time": "2021-07-04T05:17:21.442Z"
   },
   {
    "duration": -195,
    "start_time": "2021-07-04T05:17:21.444Z"
   },
   {
    "duration": -194,
    "start_time": "2021-07-04T05:17:21.445Z"
   },
   {
    "duration": -195,
    "start_time": "2021-07-04T05:17:21.447Z"
   },
   {
    "duration": -196,
    "start_time": "2021-07-04T05:17:21.449Z"
   },
   {
    "duration": 17,
    "start_time": "2021-07-04T05:17:21.349Z"
   },
   {
    "duration": 7,
    "start_time": "2021-07-04T05:17:22.147Z"
   },
   {
    "duration": 11551,
    "start_time": "2021-07-04T05:18:25.975Z"
   },
   {
    "duration": 10007,
    "start_time": "2021-07-04T05:18:37.529Z"
   },
   {
    "duration": 4,
    "start_time": "2021-07-04T05:18:47.540Z"
   },
   {
    "duration": 1762,
    "start_time": "2021-07-04T05:18:47.548Z"
   },
   {
    "duration": 40,
    "start_time": "2021-07-04T05:18:49.312Z"
   },
   {
    "duration": 60,
    "start_time": "2021-07-04T05:18:49.356Z"
   },
   {
    "duration": 51,
    "start_time": "2021-07-04T05:18:49.419Z"
   },
   {
    "duration": 33,
    "start_time": "2021-07-04T05:18:49.476Z"
   },
   {
    "duration": 56,
    "start_time": "2021-07-04T05:18:49.513Z"
   },
   {
    "duration": 71,
    "start_time": "2021-07-04T05:18:49.572Z"
   },
   {
    "duration": 71,
    "start_time": "2021-07-04T05:18:49.646Z"
   },
   {
    "duration": 8,
    "start_time": "2021-07-04T05:18:49.721Z"
   },
   {
    "duration": 10,
    "start_time": "2021-07-04T05:18:49.732Z"
   },
   {
    "duration": 69,
    "start_time": "2021-07-04T05:18:49.745Z"
   },
   {
    "duration": 40,
    "start_time": "2021-07-04T05:18:49.817Z"
   },
   {
    "duration": 20,
    "start_time": "2021-07-04T05:18:49.860Z"
   },
   {
    "duration": 651,
    "start_time": "2021-07-04T05:18:49.909Z"
   },
   {
    "duration": 5,
    "start_time": "2021-07-04T05:18:50.562Z"
   },
   {
    "duration": 3712,
    "start_time": "2021-07-04T05:18:50.569Z"
   },
   {
    "duration": 4283,
    "start_time": "2021-07-04T05:18:54.283Z"
   },
   {
    "duration": 5,
    "start_time": "2021-07-04T05:18:58.568Z"
   },
   {
    "duration": 8,
    "start_time": "2021-07-04T05:18:58.576Z"
   },
   {
    "duration": 51,
    "start_time": "2021-07-04T05:18:58.590Z"
   },
   {
    "duration": 9,
    "start_time": "2021-07-04T05:18:58.645Z"
   },
   {
    "duration": 9,
    "start_time": "2021-07-04T05:18:58.657Z"
   },
   {
    "duration": 42,
    "start_time": "2021-07-04T05:18:58.669Z"
   },
   {
    "duration": 9,
    "start_time": "2021-07-04T05:18:58.714Z"
   },
   {
    "duration": 36,
    "start_time": "2021-07-04T05:18:58.726Z"
   },
   {
    "duration": 44,
    "start_time": "2021-07-04T05:18:58.765Z"
   },
   {
    "duration": 8,
    "start_time": "2021-07-04T05:18:58.812Z"
   },
   {
    "duration": 12,
    "start_time": "2021-07-04T05:18:58.823Z"
   },
   {
    "duration": 16,
    "start_time": "2021-07-04T05:18:58.838Z"
   },
   {
    "duration": 63,
    "start_time": "2021-07-04T05:18:58.857Z"
   },
   {
    "duration": 25,
    "start_time": "2021-07-04T05:18:58.922Z"
   },
   {
    "duration": 8,
    "start_time": "2021-07-04T05:18:58.950Z"
   },
   {
    "duration": 21,
    "start_time": "2021-07-04T05:18:58.960Z"
   },
   {
    "duration": 970,
    "start_time": "2021-07-04T05:18:58.984Z"
   },
   {
    "duration": 23,
    "start_time": "2021-07-04T05:18:59.957Z"
   },
   {
    "duration": 7,
    "start_time": "2021-07-04T05:18:59.982Z"
   },
   {
    "duration": 22,
    "start_time": "2021-07-04T05:19:00.009Z"
   },
   {
    "duration": 31,
    "start_time": "2021-07-04T05:19:00.033Z"
   },
   {
    "duration": 52,
    "start_time": "2021-07-04T05:19:00.066Z"
   },
   {
    "duration": 25,
    "start_time": "2021-07-04T05:19:00.121Z"
   },
   {
    "duration": 62,
    "start_time": "2021-07-04T05:19:00.149Z"
   },
   {
    "duration": 31,
    "start_time": "2021-07-04T05:19:00.214Z"
   },
   {
    "duration": 16,
    "start_time": "2021-07-04T05:19:00.248Z"
   },
   {
    "duration": 7,
    "start_time": "2021-07-04T05:19:00.267Z"
   },
   {
    "duration": 43,
    "start_time": "2021-07-04T05:19:00.277Z"
   },
   {
    "duration": 28,
    "start_time": "2021-07-04T05:19:00.322Z"
   },
   {
    "duration": 933,
    "start_time": "2021-07-04T05:19:00.353Z"
   },
   {
    "duration": 21,
    "start_time": "2021-07-04T05:19:01.289Z"
   },
   {
    "duration": 47,
    "start_time": "2021-07-04T05:19:01.313Z"
   },
   {
    "duration": 32038,
    "start_time": "2021-07-04T05:19:01.362Z"
   },
   {
    "duration": 34,
    "start_time": "2021-07-04T05:19:33.402Z"
   },
   {
    "duration": 32,
    "start_time": "2021-07-04T05:19:33.438Z"
   },
   {
    "duration": 56,
    "start_time": "2021-07-04T05:19:33.472Z"
   },
   {
    "duration": 36,
    "start_time": "2021-07-04T05:19:33.530Z"
   },
   {
    "duration": 7,
    "start_time": "2021-07-04T05:19:33.569Z"
   },
   {
    "duration": 56,
    "start_time": "2021-07-04T05:19:33.579Z"
   },
   {
    "duration": 30,
    "start_time": "2021-07-04T05:19:33.637Z"
   },
   {
    "duration": 60,
    "start_time": "2021-07-04T05:19:33.670Z"
   },
   {
    "duration": 26,
    "start_time": "2021-07-04T05:19:33.732Z"
   },
   {
    "duration": 60,
    "start_time": "2021-07-04T05:19:33.760Z"
   },
   {
    "duration": 15,
    "start_time": "2021-07-04T05:19:33.822Z"
   },
   {
    "duration": 10,
    "start_time": "2021-07-04T05:19:33.840Z"
   },
   {
    "duration": 20,
    "start_time": "2021-07-04T05:19:33.853Z"
   },
   {
    "duration": 19,
    "start_time": "2021-07-04T05:19:33.875Z"
   },
   {
    "duration": 11,
    "start_time": "2021-07-04T05:19:33.915Z"
   },
   {
    "duration": 19,
    "start_time": "2021-07-04T05:19:33.930Z"
   },
   {
    "duration": 14,
    "start_time": "2021-07-04T05:19:33.951Z"
   },
   {
    "duration": 48,
    "start_time": "2021-07-04T05:19:33.968Z"
   },
   {
    "duration": 20,
    "start_time": "2021-07-04T05:19:34.018Z"
   },
   {
    "duration": 21,
    "start_time": "2021-07-04T05:19:34.040Z"
   },
   {
    "duration": 6,
    "start_time": "2021-07-04T05:19:34.064Z"
   },
   {
    "duration": 71,
    "start_time": "2021-07-04T05:19:34.072Z"
   },
   {
    "duration": 103,
    "start_time": "2021-07-04T05:19:34.146Z"
   },
   {
    "duration": 646,
    "start_time": "2021-07-04T05:19:34.252Z"
   },
   {
    "duration": 757,
    "start_time": "2021-07-04T05:19:34.901Z"
   },
   {
    "duration": 219,
    "start_time": "2021-07-04T05:19:35.660Z"
   },
   {
    "duration": 461,
    "start_time": "2021-07-04T05:19:35.881Z"
   },
   {
    "duration": 36,
    "start_time": "2021-07-04T05:19:36.345Z"
   },
   {
    "duration": 60,
    "start_time": "2021-07-04T05:19:36.384Z"
   },
   {
    "duration": 62,
    "start_time": "2021-07-04T05:19:36.447Z"
   },
   {
    "duration": 435,
    "start_time": "2021-07-04T05:19:36.511Z"
   },
   {
    "duration": 16,
    "start_time": "2021-07-04T05:19:36.948Z"
   },
   {
    "duration": 6094,
    "start_time": "2021-07-04T05:19:36.967Z"
   },
   {
    "duration": 1906,
    "start_time": "2021-07-04T05:19:43.063Z"
   },
   {
    "duration": 501,
    "start_time": "2021-07-04T05:19:44.972Z"
   },
   {
    "duration": 410,
    "start_time": "2021-07-04T05:19:45.475Z"
   },
   {
    "duration": 421,
    "start_time": "2021-07-04T05:19:45.888Z"
   },
   {
    "duration": 287,
    "start_time": "2021-07-04T05:19:46.311Z"
   },
   {
    "duration": 435,
    "start_time": "2021-07-04T05:19:46.608Z"
   },
   {
    "duration": 282,
    "start_time": "2021-07-04T05:19:47.046Z"
   },
   {
    "duration": 271,
    "start_time": "2021-07-04T05:19:47.332Z"
   },
   {
    "duration": 364,
    "start_time": "2021-07-04T05:19:47.608Z"
   },
   {
    "duration": 372,
    "start_time": "2021-07-04T05:19:47.974Z"
   },
   {
    "duration": 262,
    "start_time": "2021-07-04T05:19:48.349Z"
   },
   {
    "duration": 722,
    "start_time": "2021-07-04T05:19:48.614Z"
   },
   {
    "duration": 824,
    "start_time": "2021-07-04T05:19:49.339Z"
   },
   {
    "duration": 288,
    "start_time": "2021-07-04T05:19:50.166Z"
   },
   {
    "duration": 323,
    "start_time": "2021-07-04T05:19:50.457Z"
   },
   {
    "duration": 329,
    "start_time": "2021-07-04T05:19:50.783Z"
   },
   {
    "duration": 332,
    "start_time": "2021-07-04T05:19:51.114Z"
   },
   {
    "duration": 1105,
    "start_time": "2021-07-04T05:19:51.449Z"
   },
   {
    "duration": 338,
    "start_time": "2021-07-04T05:19:52.556Z"
   },
   {
    "duration": 339,
    "start_time": "2021-07-04T05:19:52.896Z"
   },
   {
    "duration": 1043,
    "start_time": "2021-07-04T05:19:53.237Z"
   },
   {
    "duration": 11,
    "start_time": "2021-07-04T05:19:54.283Z"
   },
   {
    "duration": 12,
    "start_time": "2021-07-04T05:19:54.309Z"
   },
   {
    "duration": 360,
    "start_time": "2021-07-04T05:19:54.324Z"
   },
   {
    "duration": 345,
    "start_time": "2021-07-04T05:19:54.687Z"
   },
   {
    "duration": 279,
    "start_time": "2021-07-04T05:19:55.035Z"
   },
   {
    "duration": 318,
    "start_time": "2021-07-04T05:19:55.316Z"
   },
   {
    "duration": 473,
    "start_time": "2021-07-04T05:19:55.636Z"
   },
   {
    "duration": 8,
    "start_time": "2021-07-04T05:19:56.111Z"
   },
   {
    "duration": 36,
    "start_time": "2021-07-04T05:19:56.122Z"
   },
   {
    "duration": 157,
    "start_time": "2021-07-04T05:19:56.160Z"
   },
   {
    "duration": 486,
    "start_time": "2021-07-04T05:19:56.320Z"
   },
   {
    "duration": -149,
    "start_time": "2021-07-04T05:19:56.958Z"
   },
   {
    "duration": -151,
    "start_time": "2021-07-04T05:19:56.961Z"
   },
   {
    "duration": -152,
    "start_time": "2021-07-04T05:19:56.963Z"
   },
   {
    "duration": -153,
    "start_time": "2021-07-04T05:19:56.966Z"
   },
   {
    "duration": -154,
    "start_time": "2021-07-04T05:19:56.968Z"
   },
   {
    "duration": -156,
    "start_time": "2021-07-04T05:19:56.971Z"
   },
   {
    "duration": -160,
    "start_time": "2021-07-04T05:19:56.977Z"
   },
   {
    "duration": 276,
    "start_time": "2021-07-04T18:00:20.103Z"
   },
   {
    "duration": 14442,
    "start_time": "2021-07-04T18:02:32.192Z"
   },
   {
    "duration": 2,
    "start_time": "2021-07-04T18:02:46.636Z"
   },
   {
    "duration": 1234,
    "start_time": "2021-07-04T18:02:46.640Z"
   },
   {
    "duration": 33,
    "start_time": "2021-07-04T18:02:47.876Z"
   },
   {
    "duration": 330,
    "start_time": "2021-07-04T18:02:47.910Z"
   },
   {
    "duration": -128,
    "start_time": "2021-07-04T18:02:48.373Z"
   },
   {
    "duration": -130,
    "start_time": "2021-07-04T18:02:48.376Z"
   },
   {
    "duration": -132,
    "start_time": "2021-07-04T18:02:48.379Z"
   },
   {
    "duration": -133,
    "start_time": "2021-07-04T18:02:48.381Z"
   },
   {
    "duration": -134,
    "start_time": "2021-07-04T18:02:48.383Z"
   },
   {
    "duration": -135,
    "start_time": "2021-07-04T18:02:48.385Z"
   },
   {
    "duration": -136,
    "start_time": "2021-07-04T18:02:48.387Z"
   },
   {
    "duration": -137,
    "start_time": "2021-07-04T18:02:48.389Z"
   },
   {
    "duration": -139,
    "start_time": "2021-07-04T18:02:48.391Z"
   },
   {
    "duration": -140,
    "start_time": "2021-07-04T18:02:48.393Z"
   },
   {
    "duration": -141,
    "start_time": "2021-07-04T18:02:48.395Z"
   },
   {
    "duration": -142,
    "start_time": "2021-07-04T18:02:48.397Z"
   },
   {
    "duration": -143,
    "start_time": "2021-07-04T18:02:48.399Z"
   },
   {
    "duration": -144,
    "start_time": "2021-07-04T18:02:48.400Z"
   },
   {
    "duration": -145,
    "start_time": "2021-07-04T18:02:48.402Z"
   },
   {
    "duration": -146,
    "start_time": "2021-07-04T18:02:48.404Z"
   },
   {
    "duration": -147,
    "start_time": "2021-07-04T18:02:48.406Z"
   },
   {
    "duration": -152,
    "start_time": "2021-07-04T18:02:48.412Z"
   },
   {
    "duration": -154,
    "start_time": "2021-07-04T18:02:48.414Z"
   },
   {
    "duration": -155,
    "start_time": "2021-07-04T18:02:48.416Z"
   },
   {
    "duration": -156,
    "start_time": "2021-07-04T18:02:48.418Z"
   },
   {
    "duration": -157,
    "start_time": "2021-07-04T18:02:48.420Z"
   },
   {
    "duration": -157,
    "start_time": "2021-07-04T18:02:48.421Z"
   },
   {
    "duration": -158,
    "start_time": "2021-07-04T18:02:48.423Z"
   },
   {
    "duration": -159,
    "start_time": "2021-07-04T18:02:48.424Z"
   },
   {
    "duration": -160,
    "start_time": "2021-07-04T18:02:48.426Z"
   },
   {
    "duration": -160,
    "start_time": "2021-07-04T18:02:48.427Z"
   },
   {
    "duration": -161,
    "start_time": "2021-07-04T18:02:48.429Z"
   },
   {
    "duration": -162,
    "start_time": "2021-07-04T18:02:48.431Z"
   },
   {
    "duration": -163,
    "start_time": "2021-07-04T18:02:48.432Z"
   },
   {
    "duration": -164,
    "start_time": "2021-07-04T18:02:48.434Z"
   },
   {
    "duration": -164,
    "start_time": "2021-07-04T18:02:48.435Z"
   },
   {
    "duration": -165,
    "start_time": "2021-07-04T18:02:48.437Z"
   },
   {
    "duration": -166,
    "start_time": "2021-07-04T18:02:48.439Z"
   },
   {
    "duration": -167,
    "start_time": "2021-07-04T18:02:48.441Z"
   },
   {
    "duration": -167,
    "start_time": "2021-07-04T18:02:48.442Z"
   },
   {
    "duration": -168,
    "start_time": "2021-07-04T18:02:48.444Z"
   },
   {
    "duration": -168,
    "start_time": "2021-07-04T18:02:48.445Z"
   },
   {
    "duration": -169,
    "start_time": "2021-07-04T18:02:48.447Z"
   },
   {
    "duration": -169,
    "start_time": "2021-07-04T18:02:48.448Z"
   },
   {
    "duration": -170,
    "start_time": "2021-07-04T18:02:48.450Z"
   },
   {
    "duration": -171,
    "start_time": "2021-07-04T18:02:48.452Z"
   },
   {
    "duration": -155,
    "start_time": "2021-07-04T18:02:48.453Z"
   },
   {
    "duration": -156,
    "start_time": "2021-07-04T18:02:48.455Z"
   },
   {
    "duration": -154,
    "start_time": "2021-07-04T18:02:48.456Z"
   },
   {
    "duration": -155,
    "start_time": "2021-07-04T18:02:48.458Z"
   },
   {
    "duration": -155,
    "start_time": "2021-07-04T18:02:48.459Z"
   },
   {
    "duration": -156,
    "start_time": "2021-07-04T18:02:48.461Z"
   },
   {
    "duration": -155,
    "start_time": "2021-07-04T18:02:48.462Z"
   },
   {
    "duration": -156,
    "start_time": "2021-07-04T18:02:48.464Z"
   },
   {
    "duration": -157,
    "start_time": "2021-07-04T18:02:48.465Z"
   },
   {
    "duration": -158,
    "start_time": "2021-07-04T18:02:48.467Z"
   },
   {
    "duration": -158,
    "start_time": "2021-07-04T18:02:48.468Z"
   },
   {
    "duration": -159,
    "start_time": "2021-07-04T18:02:48.470Z"
   },
   {
    "duration": -159,
    "start_time": "2021-07-04T18:02:48.471Z"
   },
   {
    "duration": -160,
    "start_time": "2021-07-04T18:02:48.473Z"
   },
   {
    "duration": -166,
    "start_time": "2021-07-04T18:02:48.480Z"
   },
   {
    "duration": -168,
    "start_time": "2021-07-04T18:02:48.482Z"
   },
   {
    "duration": -169,
    "start_time": "2021-07-04T18:02:48.484Z"
   },
   {
    "duration": -169,
    "start_time": "2021-07-04T18:02:48.485Z"
   },
   {
    "duration": -170,
    "start_time": "2021-07-04T18:02:48.487Z"
   },
   {
    "duration": -171,
    "start_time": "2021-07-04T18:02:48.489Z"
   },
   {
    "duration": -171,
    "start_time": "2021-07-04T18:02:48.490Z"
   },
   {
    "duration": -172,
    "start_time": "2021-07-04T18:02:48.492Z"
   },
   {
    "duration": -172,
    "start_time": "2021-07-04T18:02:48.493Z"
   },
   {
    "duration": -232,
    "start_time": "2021-07-04T18:02:48.554Z"
   },
   {
    "duration": -233,
    "start_time": "2021-07-04T18:02:48.556Z"
   },
   {
    "duration": -237,
    "start_time": "2021-07-04T18:02:48.561Z"
   },
   {
    "duration": -238,
    "start_time": "2021-07-04T18:02:48.563Z"
   },
   {
    "duration": -239,
    "start_time": "2021-07-04T18:02:48.565Z"
   },
   {
    "duration": -253,
    "start_time": "2021-07-04T18:02:48.580Z"
   },
   {
    "duration": -294,
    "start_time": "2021-07-04T18:02:48.622Z"
   },
   {
    "duration": -294,
    "start_time": "2021-07-04T18:02:48.623Z"
   },
   {
    "duration": -295,
    "start_time": "2021-07-04T18:02:48.625Z"
   },
   {
    "duration": -308,
    "start_time": "2021-07-04T18:02:48.639Z"
   },
   {
    "duration": -309,
    "start_time": "2021-07-04T18:02:48.641Z"
   },
   {
    "duration": -311,
    "start_time": "2021-07-04T18:02:48.644Z"
   },
   {
    "duration": -324,
    "start_time": "2021-07-04T18:02:48.658Z"
   },
   {
    "duration": -273,
    "start_time": "2021-07-04T18:02:48.664Z"
   },
   {
    "duration": -285,
    "start_time": "2021-07-04T18:02:48.677Z"
   },
   {
    "duration": -331,
    "start_time": "2021-07-04T18:02:48.724Z"
   },
   {
    "duration": -438,
    "start_time": "2021-07-04T18:02:48.838Z"
   },
   {
    "duration": -449,
    "start_time": "2021-07-04T18:02:48.850Z"
   },
   {
    "duration": -449,
    "start_time": "2021-07-04T18:02:48.851Z"
   },
   {
    "duration": -450,
    "start_time": "2021-07-04T18:02:48.853Z"
   },
   {
    "duration": -452,
    "start_time": "2021-07-04T18:02:48.855Z"
   },
   {
    "duration": -452,
    "start_time": "2021-07-04T18:02:48.856Z"
   },
   {
    "duration": -453,
    "start_time": "2021-07-04T18:02:48.858Z"
   },
   {
    "duration": -454,
    "start_time": "2021-07-04T18:02:48.859Z"
   },
   {
    "duration": -455,
    "start_time": "2021-07-04T18:02:48.861Z"
   },
   {
    "duration": -455,
    "start_time": "2021-07-04T18:02:48.862Z"
   },
   {
    "duration": -456,
    "start_time": "2021-07-04T18:02:48.864Z"
   },
   {
    "duration": -456,
    "start_time": "2021-07-04T18:02:48.865Z"
   },
   {
    "duration": -458,
    "start_time": "2021-07-04T18:02:48.867Z"
   },
   {
    "duration": -458,
    "start_time": "2021-07-04T18:02:48.868Z"
   },
   {
    "duration": -459,
    "start_time": "2021-07-04T18:02:48.870Z"
   },
   {
    "duration": -463,
    "start_time": "2021-07-04T18:02:48.875Z"
   },
   {
    "duration": -464,
    "start_time": "2021-07-04T18:02:48.877Z"
   },
   {
    "duration": -465,
    "start_time": "2021-07-04T18:02:48.879Z"
   },
   {
    "duration": -465,
    "start_time": "2021-07-04T18:02:48.880Z"
   },
   {
    "duration": -466,
    "start_time": "2021-07-04T18:02:48.882Z"
   },
   {
    "duration": -466,
    "start_time": "2021-07-04T18:02:48.883Z"
   },
   {
    "duration": -468,
    "start_time": "2021-07-04T18:02:48.886Z"
   },
   {
    "duration": -484,
    "start_time": "2021-07-04T18:02:48.903Z"
   },
   {
    "duration": -514,
    "start_time": "2021-07-04T18:02:48.933Z"
   },
   {
    "duration": -573,
    "start_time": "2021-07-04T18:02:48.993Z"
   },
   {
    "duration": -600,
    "start_time": "2021-07-04T18:02:49.021Z"
   },
   {
    "duration": -637,
    "start_time": "2021-07-04T18:02:49.059Z"
   },
   {
    "duration": -653,
    "start_time": "2021-07-04T18:02:49.075Z"
   },
   {
    "duration": -653,
    "start_time": "2021-07-04T18:02:49.076Z"
   },
   {
    "duration": -658,
    "start_time": "2021-07-04T18:02:49.082Z"
   },
   {
    "duration": -659,
    "start_time": "2021-07-04T18:02:49.084Z"
   },
   {
    "duration": -658,
    "start_time": "2021-07-04T18:02:49.085Z"
   },
   {
    "duration": -659,
    "start_time": "2021-07-04T18:02:49.087Z"
   },
   {
    "duration": -659,
    "start_time": "2021-07-04T18:02:49.088Z"
   },
   {
    "duration": -660,
    "start_time": "2021-07-04T18:02:49.090Z"
   },
   {
    "duration": -661,
    "start_time": "2021-07-04T18:02:49.092Z"
   },
   {
    "duration": -661,
    "start_time": "2021-07-04T18:02:49.093Z"
   },
   {
    "duration": -662,
    "start_time": "2021-07-04T18:02:49.095Z"
   },
   {
    "duration": -663,
    "start_time": "2021-07-04T18:02:49.096Z"
   },
   {
    "duration": 7430,
    "start_time": "2021-07-04T18:05:21.980Z"
   },
   {
    "duration": 8134,
    "start_time": "2021-07-04T18:05:29.413Z"
   },
   {
    "duration": 3,
    "start_time": "2021-07-04T18:05:37.549Z"
   },
   {
    "duration": 1181,
    "start_time": "2021-07-04T18:05:37.553Z"
   },
   {
    "duration": 22,
    "start_time": "2021-07-04T18:05:38.736Z"
   },
   {
    "duration": 27,
    "start_time": "2021-07-04T18:05:38.759Z"
   },
   {
    "duration": 34,
    "start_time": "2021-07-04T18:05:38.788Z"
   },
   {
    "duration": 3,
    "start_time": "2021-07-04T18:05:38.824Z"
   },
   {
    "duration": 38,
    "start_time": "2021-07-04T18:05:38.829Z"
   },
   {
    "duration": 43,
    "start_time": "2021-07-04T18:05:38.869Z"
   },
   {
    "duration": 26,
    "start_time": "2021-07-04T18:05:38.913Z"
   },
   {
    "duration": 4,
    "start_time": "2021-07-04T18:05:38.941Z"
   },
   {
    "duration": 11,
    "start_time": "2021-07-04T18:05:38.947Z"
   },
   {
    "duration": 40,
    "start_time": "2021-07-04T18:05:38.960Z"
   },
   {
    "duration": 30,
    "start_time": "2021-07-04T18:05:39.001Z"
   },
   {
    "duration": 11,
    "start_time": "2021-07-04T18:05:39.033Z"
   },
   {
    "duration": 553,
    "start_time": "2021-07-04T18:05:39.046Z"
   },
   {
    "duration": 5,
    "start_time": "2021-07-04T18:05:39.601Z"
   },
   {
    "duration": 2612,
    "start_time": "2021-07-04T18:05:39.609Z"
   },
   {
    "duration": 4015,
    "start_time": "2021-07-04T18:05:42.222Z"
   },
   {
    "duration": 4,
    "start_time": "2021-07-04T18:05:46.239Z"
   },
   {
    "duration": 8,
    "start_time": "2021-07-04T18:05:46.245Z"
   },
   {
    "duration": 43,
    "start_time": "2021-07-04T18:05:46.254Z"
   },
   {
    "duration": 7,
    "start_time": "2021-07-04T18:05:46.299Z"
   },
   {
    "duration": 9,
    "start_time": "2021-07-04T18:05:46.308Z"
   },
   {
    "duration": 8,
    "start_time": "2021-07-04T18:05:46.318Z"
   },
   {
    "duration": 5,
    "start_time": "2021-07-04T18:05:46.331Z"
   },
   {
    "duration": 56,
    "start_time": "2021-07-04T18:05:46.339Z"
   },
   {
    "duration": 10,
    "start_time": "2021-07-04T18:05:46.397Z"
   },
   {
    "duration": 9,
    "start_time": "2021-07-04T18:05:46.408Z"
   },
   {
    "duration": 17,
    "start_time": "2021-07-04T18:05:46.418Z"
   },
   {
    "duration": 8,
    "start_time": "2021-07-04T18:05:46.437Z"
   },
   {
    "duration": 30,
    "start_time": "2021-07-04T18:05:46.447Z"
   },
   {
    "duration": 29,
    "start_time": "2021-07-04T18:05:46.479Z"
   },
   {
    "duration": 6,
    "start_time": "2021-07-04T18:05:46.510Z"
   },
   {
    "duration": 17,
    "start_time": "2021-07-04T18:05:46.517Z"
   },
   {
    "duration": 565,
    "start_time": "2021-07-04T18:05:46.536Z"
   },
   {
    "duration": 16,
    "start_time": "2021-07-04T18:05:47.103Z"
   },
   {
    "duration": 4,
    "start_time": "2021-07-04T18:05:47.120Z"
   },
   {
    "duration": 21,
    "start_time": "2021-07-04T18:05:47.126Z"
   },
   {
    "duration": 16,
    "start_time": "2021-07-04T18:05:47.149Z"
   },
   {
    "duration": 48,
    "start_time": "2021-07-04T18:05:47.166Z"
   },
   {
    "duration": 14,
    "start_time": "2021-07-04T18:05:47.215Z"
   },
   {
    "duration": 18,
    "start_time": "2021-07-04T18:05:47.230Z"
   },
   {
    "duration": 18,
    "start_time": "2021-07-04T18:05:47.249Z"
   },
   {
    "duration": 31,
    "start_time": "2021-07-04T18:05:47.268Z"
   },
   {
    "duration": 6,
    "start_time": "2021-07-04T18:05:47.300Z"
   },
   {
    "duration": 9,
    "start_time": "2021-07-04T18:05:47.308Z"
   },
   {
    "duration": 11,
    "start_time": "2021-07-04T18:05:47.318Z"
   },
   {
    "duration": 512,
    "start_time": "2021-07-04T18:05:47.330Z"
   },
   {
    "duration": 7,
    "start_time": "2021-07-04T18:05:47.843Z"
   },
   {
    "duration": 46,
    "start_time": "2021-07-04T18:05:47.851Z"
   },
   {
    "duration": 21696,
    "start_time": "2021-07-04T18:05:47.900Z"
   },
   {
    "duration": 25,
    "start_time": "2021-07-04T18:06:09.597Z"
   },
   {
    "duration": 16,
    "start_time": "2021-07-04T18:06:09.624Z"
   },
   {
    "duration": 14,
    "start_time": "2021-07-04T18:06:09.642Z"
   },
   {
    "duration": 42,
    "start_time": "2021-07-04T18:06:09.657Z"
   },
   {
    "duration": 7,
    "start_time": "2021-07-04T18:06:09.701Z"
   },
   {
    "duration": 20,
    "start_time": "2021-07-04T18:06:09.709Z"
   },
   {
    "duration": 16,
    "start_time": "2021-07-04T18:06:09.731Z"
   },
   {
    "duration": 18,
    "start_time": "2021-07-04T18:06:09.748Z"
   },
   {
    "duration": 37,
    "start_time": "2021-07-04T18:06:09.767Z"
   },
   {
    "duration": 30,
    "start_time": "2021-07-04T18:06:09.806Z"
   },
   {
    "duration": 8,
    "start_time": "2021-07-04T18:06:09.838Z"
   },
   {
    "duration": 4,
    "start_time": "2021-07-04T18:06:09.847Z"
   },
   {
    "duration": 10,
    "start_time": "2021-07-04T18:06:09.853Z"
   },
   {
    "duration": 26,
    "start_time": "2021-07-04T18:06:09.865Z"
   },
   {
    "duration": 8,
    "start_time": "2021-07-04T18:06:09.893Z"
   },
   {
    "duration": 8,
    "start_time": "2021-07-04T18:06:09.903Z"
   },
   {
    "duration": 9,
    "start_time": "2021-07-04T18:06:09.913Z"
   },
   {
    "duration": 18,
    "start_time": "2021-07-04T18:06:09.924Z"
   },
   {
    "duration": 10,
    "start_time": "2021-07-04T18:06:09.943Z"
   },
   {
    "duration": 49,
    "start_time": "2021-07-04T18:06:09.955Z"
   },
   {
    "duration": 4,
    "start_time": "2021-07-04T18:06:10.005Z"
   },
   {
    "duration": 25,
    "start_time": "2021-07-04T18:06:10.011Z"
   },
   {
    "duration": 45,
    "start_time": "2021-07-04T18:06:10.038Z"
   },
   {
    "duration": 333,
    "start_time": "2021-07-04T18:06:10.085Z"
   },
   {
    "duration": 433,
    "start_time": "2021-07-04T18:06:10.419Z"
   },
   {
    "duration": 127,
    "start_time": "2021-07-04T18:06:10.853Z"
   },
   {
    "duration": 243,
    "start_time": "2021-07-04T18:06:10.982Z"
   },
   {
    "duration": 21,
    "start_time": "2021-07-04T18:06:11.231Z"
   },
   {
    "duration": 57,
    "start_time": "2021-07-04T18:06:11.255Z"
   },
   {
    "duration": 42,
    "start_time": "2021-07-04T18:06:11.314Z"
   },
   {
    "duration": 226,
    "start_time": "2021-07-04T18:06:11.358Z"
   },
   {
    "duration": 12,
    "start_time": "2021-07-04T18:06:11.585Z"
   },
   {
    "duration": 3499,
    "start_time": "2021-07-04T18:06:11.600Z"
   },
   {
    "duration": 1017,
    "start_time": "2021-07-04T18:06:15.102Z"
   },
   {
    "duration": 264,
    "start_time": "2021-07-04T18:06:16.120Z"
   },
   {
    "duration": 225,
    "start_time": "2021-07-04T18:06:16.386Z"
   },
   {
    "duration": 226,
    "start_time": "2021-07-04T18:06:16.613Z"
   },
   {
    "duration": 148,
    "start_time": "2021-07-04T18:06:16.841Z"
   },
   {
    "duration": 276,
    "start_time": "2021-07-04T18:06:16.991Z"
   },
   {
    "duration": 147,
    "start_time": "2021-07-04T18:06:17.269Z"
   },
   {
    "duration": 146,
    "start_time": "2021-07-04T18:06:17.418Z"
   },
   {
    "duration": 189,
    "start_time": "2021-07-04T18:06:17.565Z"
   },
   {
    "duration": 261,
    "start_time": "2021-07-04T18:06:17.756Z"
   },
   {
    "duration": 146,
    "start_time": "2021-07-04T18:06:18.019Z"
   },
   {
    "duration": 376,
    "start_time": "2021-07-04T18:06:18.166Z"
   },
   {
    "duration": 628,
    "start_time": "2021-07-04T18:06:18.544Z"
   },
   {
    "duration": 237,
    "start_time": "2021-07-04T18:06:19.174Z"
   },
   {
    "duration": 171,
    "start_time": "2021-07-04T18:06:19.413Z"
   },
   {
    "duration": 253,
    "start_time": "2021-07-04T18:06:19.586Z"
   },
   {
    "duration": 264,
    "start_time": "2021-07-04T18:06:19.841Z"
   },
   {
    "duration": 557,
    "start_time": "2021-07-04T18:06:20.108Z"
   },
   {
    "duration": 179,
    "start_time": "2021-07-04T18:06:20.667Z"
   },
   {
    "duration": 185,
    "start_time": "2021-07-04T18:06:20.848Z"
   },
   {
    "duration": 606,
    "start_time": "2021-07-04T18:06:21.035Z"
   },
   {
    "duration": 9,
    "start_time": "2021-07-04T18:06:21.643Z"
   },
   {
    "duration": 8,
    "start_time": "2021-07-04T18:06:21.653Z"
   },
   {
    "duration": 199,
    "start_time": "2021-07-04T18:06:21.663Z"
   },
   {
    "duration": 188,
    "start_time": "2021-07-04T18:06:21.864Z"
   },
   {
    "duration": 170,
    "start_time": "2021-07-04T18:06:22.054Z"
   },
   {
    "duration": 165,
    "start_time": "2021-07-04T18:06:22.226Z"
   },
   {
    "duration": 254,
    "start_time": "2021-07-04T18:06:22.393Z"
   },
   {
    "duration": 5,
    "start_time": "2021-07-04T18:06:22.649Z"
   },
   {
    "duration": 39,
    "start_time": "2021-07-04T18:06:22.656Z"
   },
   {
    "duration": 312,
    "start_time": "2021-07-04T18:06:22.697Z"
   },
   {
    "duration": -134,
    "start_time": "2021-07-04T18:06:23.145Z"
   },
   {
    "duration": -136,
    "start_time": "2021-07-04T18:06:23.148Z"
   },
   {
    "duration": -137,
    "start_time": "2021-07-04T18:06:23.150Z"
   },
   {
    "duration": -140,
    "start_time": "2021-07-04T18:06:23.153Z"
   },
   {
    "duration": -141,
    "start_time": "2021-07-04T18:06:23.155Z"
   },
   {
    "duration": -143,
    "start_time": "2021-07-04T18:06:23.157Z"
   },
   {
    "duration": -144,
    "start_time": "2021-07-04T18:06:23.159Z"
   },
   {
    "duration": -146,
    "start_time": "2021-07-04T18:06:23.161Z"
   },
   {
    "duration": -147,
    "start_time": "2021-07-04T18:06:23.163Z"
   },
   {
    "duration": 22,
    "start_time": "2021-07-04T18:06:37.083Z"
   },
   {
    "duration": 78,
    "start_time": "2021-07-04T18:07:46.431Z"
   },
   {
    "duration": 88,
    "start_time": "2021-07-04T18:08:15.414Z"
   },
   {
    "duration": 27,
    "start_time": "2021-07-04T18:08:20.169Z"
   },
   {
    "duration": 255,
    "start_time": "2021-07-04T18:10:38.610Z"
   },
   {
    "duration": 8,
    "start_time": "2021-07-04T18:10:43.724Z"
   },
   {
    "duration": 226,
    "start_time": "2021-07-04T18:12:37.161Z"
   },
   {
    "duration": 5,
    "start_time": "2021-07-04T18:13:30.258Z"
   },
   {
    "duration": 17,
    "start_time": "2021-07-04T18:13:31.103Z"
   },
   {
    "duration": 332,
    "start_time": "2021-07-04T18:13:31.559Z"
   },
   {
    "duration": 321,
    "start_time": "2021-07-04T18:13:31.983Z"
   },
   {
    "duration": 676,
    "start_time": "2021-07-04T18:13:32.452Z"
   },
   {
    "duration": 283,
    "start_time": "2021-07-04T18:13:33.130Z"
   },
   {
    "duration": 394,
    "start_time": "2021-07-04T18:13:33.654Z"
   },
   {
    "duration": 32255,
    "start_time": "2021-07-04T19:46:09.209Z"
   },
   {
    "duration": 429,
    "start_time": "2021-07-04T19:51:29.221Z"
   },
   {
    "duration": 18507,
    "start_time": "2021-07-04T19:51:42.990Z"
   },
   {
    "duration": 5,
    "start_time": "2021-07-04T19:52:01.501Z"
   },
   {
    "duration": 3038,
    "start_time": "2021-07-04T19:52:01.510Z"
   },
   {
    "duration": 64,
    "start_time": "2021-07-04T19:52:04.552Z"
   },
   {
    "duration": 70,
    "start_time": "2021-07-04T19:52:04.619Z"
   },
   {
    "duration": 75,
    "start_time": "2021-07-04T19:52:04.692Z"
   },
   {
    "duration": 19,
    "start_time": "2021-07-04T19:52:04.770Z"
   },
   {
    "duration": 53,
    "start_time": "2021-07-04T19:52:04.793Z"
   },
   {
    "duration": 69,
    "start_time": "2021-07-04T19:52:04.849Z"
   },
   {
    "duration": 72,
    "start_time": "2021-07-04T19:52:04.921Z"
   },
   {
    "duration": 8,
    "start_time": "2021-07-04T19:52:04.997Z"
   },
   {
    "duration": 8,
    "start_time": "2021-07-04T19:52:05.007Z"
   },
   {
    "duration": 74,
    "start_time": "2021-07-04T19:52:05.019Z"
   },
   {
    "duration": 45,
    "start_time": "2021-07-04T19:52:05.096Z"
   },
   {
    "duration": 42,
    "start_time": "2021-07-04T19:52:05.144Z"
   },
   {
    "duration": 685,
    "start_time": "2021-07-04T19:52:05.188Z"
   },
   {
    "duration": 4,
    "start_time": "2021-07-04T19:52:05.886Z"
   },
   {
    "duration": 4980,
    "start_time": "2021-07-04T19:52:05.893Z"
   },
   {
    "duration": 4209,
    "start_time": "2021-07-04T19:52:10.876Z"
   },
   {
    "duration": 7,
    "start_time": "2021-07-04T19:52:15.088Z"
   },
   {
    "duration": 8,
    "start_time": "2021-07-04T19:52:15.098Z"
   },
   {
    "duration": 34,
    "start_time": "2021-07-04T19:52:15.109Z"
   },
   {
    "duration": 45,
    "start_time": "2021-07-04T19:52:15.154Z"
   },
   {
    "duration": 13,
    "start_time": "2021-07-04T19:52:15.206Z"
   },
   {
    "duration": 17,
    "start_time": "2021-07-04T19:52:15.222Z"
   },
   {
    "duration": 47,
    "start_time": "2021-07-04T19:52:15.242Z"
   },
   {
    "duration": 60,
    "start_time": "2021-07-04T19:52:15.292Z"
   },
   {
    "duration": 32,
    "start_time": "2021-07-04T19:52:15.356Z"
   },
   {
    "duration": 18,
    "start_time": "2021-07-04T19:52:15.390Z"
   },
   {
    "duration": 19,
    "start_time": "2021-07-04T19:52:15.410Z"
   },
   {
    "duration": 12,
    "start_time": "2021-07-04T19:52:15.432Z"
   },
   {
    "duration": 52,
    "start_time": "2021-07-04T19:52:15.447Z"
   },
   {
    "duration": 21,
    "start_time": "2021-07-04T19:52:15.503Z"
   },
   {
    "duration": 8,
    "start_time": "2021-07-04T19:52:15.526Z"
   },
   {
    "duration": 50,
    "start_time": "2021-07-04T19:52:15.538Z"
   },
   {
    "duration": 1594,
    "start_time": "2021-07-04T19:52:15.591Z"
   },
   {
    "duration": 22,
    "start_time": "2021-07-04T19:52:17.187Z"
   },
   {
    "duration": 6,
    "start_time": "2021-07-04T19:52:17.212Z"
   },
   {
    "duration": 25,
    "start_time": "2021-07-04T19:52:17.221Z"
   },
   {
    "duration": 53,
    "start_time": "2021-07-04T19:52:17.249Z"
   },
   {
    "duration": 34,
    "start_time": "2021-07-04T19:52:17.304Z"
   },
   {
    "duration": 55,
    "start_time": "2021-07-04T19:52:17.340Z"
   },
   {
    "duration": 42,
    "start_time": "2021-07-04T19:52:17.399Z"
   },
   {
    "duration": 66,
    "start_time": "2021-07-04T19:52:17.444Z"
   },
   {
    "duration": 18,
    "start_time": "2021-07-04T19:52:17.513Z"
   },
   {
    "duration": 6,
    "start_time": "2021-07-04T19:52:17.535Z"
   },
   {
    "duration": 24,
    "start_time": "2021-07-04T19:52:17.543Z"
   },
   {
    "duration": 18,
    "start_time": "2021-07-04T19:52:17.587Z"
   },
   {
    "duration": 1419,
    "start_time": "2021-07-04T19:52:17.609Z"
   },
   {
    "duration": 12,
    "start_time": "2021-07-04T19:52:19.031Z"
   },
   {
    "duration": 60,
    "start_time": "2021-07-04T19:52:19.046Z"
   },
   {
    "duration": 32173,
    "start_time": "2021-07-04T19:52:19.108Z"
   },
   {
    "duration": 31,
    "start_time": "2021-07-04T19:52:51.285Z"
   },
   {
    "duration": 33,
    "start_time": "2021-07-04T19:52:51.319Z"
   },
   {
    "duration": 53,
    "start_time": "2021-07-04T19:52:51.355Z"
   },
   {
    "duration": 41,
    "start_time": "2021-07-04T19:52:51.411Z"
   },
   {
    "duration": 35,
    "start_time": "2021-07-04T19:52:51.454Z"
   },
   {
    "duration": 36,
    "start_time": "2021-07-04T19:52:51.491Z"
   },
   {
    "duration": 56,
    "start_time": "2021-07-04T19:52:51.530Z"
   },
   {
    "duration": 35,
    "start_time": "2021-07-04T19:52:51.588Z"
   },
   {
    "duration": 19,
    "start_time": "2021-07-04T19:52:51.625Z"
   },
   {
    "duration": 86,
    "start_time": "2021-07-04T19:52:51.646Z"
   },
   {
    "duration": 15,
    "start_time": "2021-07-04T19:52:51.734Z"
   },
   {
    "duration": 12,
    "start_time": "2021-07-04T19:52:51.751Z"
   },
   {
    "duration": 30,
    "start_time": "2021-07-04T19:52:51.765Z"
   },
   {
    "duration": 12,
    "start_time": "2021-07-04T19:52:51.798Z"
   },
   {
    "duration": 25,
    "start_time": "2021-07-04T19:52:51.813Z"
   },
   {
    "duration": 40,
    "start_time": "2021-07-04T19:52:51.847Z"
   },
   {
    "duration": 12,
    "start_time": "2021-07-04T19:52:51.891Z"
   },
   {
    "duration": 48,
    "start_time": "2021-07-04T19:52:51.906Z"
   },
   {
    "duration": 37,
    "start_time": "2021-07-04T19:52:51.957Z"
   },
   {
    "duration": 20,
    "start_time": "2021-07-04T19:52:51.996Z"
   },
   {
    "duration": 5,
    "start_time": "2021-07-04T19:52:52.019Z"
   },
   {
    "duration": 69,
    "start_time": "2021-07-04T19:52:52.026Z"
   },
   {
    "duration": 69,
    "start_time": "2021-07-04T19:52:52.097Z"
   },
   {
    "duration": 674,
    "start_time": "2021-07-04T19:52:52.184Z"
   },
   {
    "duration": 826,
    "start_time": "2021-07-04T19:52:52.860Z"
   },
   {
    "duration": 217,
    "start_time": "2021-07-04T19:52:53.689Z"
   },
   {
    "duration": 485,
    "start_time": "2021-07-04T19:52:53.908Z"
   },
   {
    "duration": 40,
    "start_time": "2021-07-04T19:52:54.396Z"
   },
   {
    "duration": 70,
    "start_time": "2021-07-04T19:52:54.440Z"
   },
   {
    "duration": 43,
    "start_time": "2021-07-04T19:52:54.513Z"
   },
   {
    "duration": 496,
    "start_time": "2021-07-04T19:52:54.559Z"
   },
   {
    "duration": 32,
    "start_time": "2021-07-04T19:52:55.057Z"
   },
   {
    "duration": 6357,
    "start_time": "2021-07-04T19:52:55.092Z"
   },
   {
    "duration": 3169,
    "start_time": "2021-07-04T19:53:01.452Z"
   },
   {
    "duration": 770,
    "start_time": "2021-07-04T19:53:04.624Z"
   },
   {
    "duration": 519,
    "start_time": "2021-07-04T19:53:05.396Z"
   },
   {
    "duration": 443,
    "start_time": "2021-07-04T19:53:05.917Z"
   },
   {
    "duration": 289,
    "start_time": "2021-07-04T19:53:06.363Z"
   },
   {
    "duration": 293,
    "start_time": "2021-07-04T19:53:06.654Z"
   },
   {
    "duration": 285,
    "start_time": "2021-07-04T19:53:06.950Z"
   },
   {
    "duration": 274,
    "start_time": "2021-07-04T19:53:07.237Z"
   },
   {
    "duration": 372,
    "start_time": "2021-07-04T19:53:07.514Z"
   },
   {
    "duration": 612,
    "start_time": "2021-07-04T19:53:07.889Z"
   },
   {
    "duration": 287,
    "start_time": "2021-07-04T19:53:08.505Z"
   },
   {
    "duration": 778,
    "start_time": "2021-07-04T19:53:08.794Z"
   },
   {
    "duration": 791,
    "start_time": "2021-07-04T19:53:09.575Z"
   },
   {
    "duration": 329,
    "start_time": "2021-07-04T19:53:10.368Z"
   },
   {
    "duration": 440,
    "start_time": "2021-07-04T19:53:10.699Z"
   },
   {
    "duration": 339,
    "start_time": "2021-07-04T19:53:11.141Z"
   },
   {
    "duration": 363,
    "start_time": "2021-07-04T19:53:11.486Z"
   },
   {
    "duration": 1093,
    "start_time": "2021-07-04T19:53:11.851Z"
   },
   {
    "duration": 541,
    "start_time": "2021-07-04T19:53:12.946Z"
   },
   {
    "duration": 359,
    "start_time": "2021-07-04T19:53:13.490Z"
   },
   {
    "duration": 986,
    "start_time": "2021-07-04T19:53:13.851Z"
   },
   {
    "duration": 12,
    "start_time": "2021-07-04T19:53:14.840Z"
   },
   {
    "duration": 33,
    "start_time": "2021-07-04T19:53:14.854Z"
   },
   {
    "duration": 374,
    "start_time": "2021-07-04T19:53:14.889Z"
   },
   {
    "duration": 343,
    "start_time": "2021-07-04T19:53:15.265Z"
   },
   {
    "duration": 294,
    "start_time": "2021-07-04T19:53:15.610Z"
   },
   {
    "duration": 325,
    "start_time": "2021-07-04T19:53:15.907Z"
   },
   {
    "duration": 495,
    "start_time": "2021-07-04T19:53:16.234Z"
   },
   {
    "duration": 8,
    "start_time": "2021-07-04T19:53:16.731Z"
   },
   {
    "duration": 58,
    "start_time": "2021-07-04T19:53:16.742Z"
   },
   {
    "duration": 137,
    "start_time": "2021-07-04T19:53:16.802Z"
   },
   {
    "duration": 402,
    "start_time": "2021-07-04T19:53:16.941Z"
   },
   {
    "duration": 297,
    "start_time": "2021-07-04T19:53:17.049Z"
   },
   {
    "duration": 289,
    "start_time": "2021-07-04T19:53:17.059Z"
   },
   {
    "duration": 283,
    "start_time": "2021-07-04T19:53:17.066Z"
   },
   {
    "duration": 276,
    "start_time": "2021-07-04T19:53:17.076Z"
   },
   {
    "duration": 269,
    "start_time": "2021-07-04T19:53:17.084Z"
   },
   {
    "duration": 261,
    "start_time": "2021-07-04T19:53:17.094Z"
   },
   {
    "duration": 255,
    "start_time": "2021-07-04T19:53:17.101Z"
   },
   {
    "duration": 314,
    "start_time": "2021-07-04T19:53:22.235Z"
   },
   {
    "duration": 363,
    "start_time": "2021-07-04T19:53:58.450Z"
   },
   {
    "duration": 456,
    "start_time": "2021-07-04T19:54:53.059Z"
   },
   {
    "duration": 438,
    "start_time": "2021-07-04T19:56:55.585Z"
   },
   {
    "duration": 3743,
    "start_time": "2021-07-04T19:57:11.632Z"
   },
   {
    "duration": 398,
    "start_time": "2021-07-04T19:57:31.975Z"
   },
   {
    "duration": 316,
    "start_time": "2021-07-04T19:58:03.501Z"
   },
   {
    "duration": 116,
    "start_time": "2021-07-04T19:59:17.701Z"
   },
   {
    "duration": 115,
    "start_time": "2021-07-04T19:59:38.776Z"
   },
   {
    "duration": 40,
    "start_time": "2021-07-04T19:59:40.145Z"
   },
   {
    "duration": 11,
    "start_time": "2021-07-04T20:00:07.237Z"
   },
   {
    "duration": 12,
    "start_time": "2021-07-04T20:00:44.728Z"
   },
   {
    "duration": 34,
    "start_time": "2021-07-04T20:02:00.177Z"
   },
   {
    "duration": 33,
    "start_time": "2021-07-04T20:02:10.647Z"
   },
   {
    "duration": 367,
    "start_time": "2021-07-04T20:02:12.285Z"
   },
   {
    "duration": 472,
    "start_time": "2021-07-04T20:03:12.805Z"
   },
   {
    "duration": 367,
    "start_time": "2021-07-04T20:04:53.424Z"
   },
   {
    "duration": 546,
    "start_time": "2021-07-04T20:05:16.419Z"
   },
   {
    "duration": 568,
    "start_time": "2021-07-04T20:05:39.978Z"
   },
   {
    "duration": 532,
    "start_time": "2021-07-04T20:05:46.967Z"
   },
   {
    "duration": 521,
    "start_time": "2021-07-04T20:05:54.377Z"
   },
   {
    "duration": 479,
    "start_time": "2021-07-04T20:06:00.385Z"
   },
   {
    "duration": 343,
    "start_time": "2021-07-04T20:06:15.526Z"
   },
   {
    "duration": 540,
    "start_time": "2021-07-04T20:06:52.315Z"
   },
   {
    "duration": 312,
    "start_time": "2021-07-04T20:06:58.876Z"
   },
   {
    "duration": 18057,
    "start_time": "2021-07-04T20:07:07.992Z"
   },
   {
    "duration": 5,
    "start_time": "2021-07-04T20:07:26.053Z"
   },
   {
    "duration": 120,
    "start_time": "2021-07-04T20:07:26.062Z"
   },
   {
    "duration": 34,
    "start_time": "2021-07-04T20:07:26.185Z"
   },
   {
    "duration": 35,
    "start_time": "2021-07-04T20:07:26.222Z"
   },
   {
    "duration": 72,
    "start_time": "2021-07-04T20:07:26.260Z"
   },
   {
    "duration": 5,
    "start_time": "2021-07-04T20:07:26.335Z"
   },
   {
    "duration": 86,
    "start_time": "2021-07-04T20:07:26.343Z"
   },
   {
    "duration": 54,
    "start_time": "2021-07-04T20:07:26.433Z"
   },
   {
    "duration": 46,
    "start_time": "2021-07-04T20:07:26.490Z"
   },
   {
    "duration": 6,
    "start_time": "2021-07-04T20:07:26.538Z"
   },
   {
    "duration": 5,
    "start_time": "2021-07-04T20:07:26.547Z"
   },
   {
    "duration": 34,
    "start_time": "2021-07-04T20:07:26.586Z"
   },
   {
    "duration": 75,
    "start_time": "2021-07-04T20:07:26.623Z"
   },
   {
    "duration": 15,
    "start_time": "2021-07-04T20:07:26.700Z"
   },
   {
    "duration": 642,
    "start_time": "2021-07-04T20:07:26.717Z"
   },
   {
    "duration": 5,
    "start_time": "2021-07-04T20:07:27.362Z"
   },
   {
    "duration": 3976,
    "start_time": "2021-07-04T20:07:27.369Z"
   },
   {
    "duration": 8023,
    "start_time": "2021-07-04T20:07:31.348Z"
   },
   {
    "duration": 16,
    "start_time": "2021-07-04T20:07:39.374Z"
   },
   {
    "duration": 8,
    "start_time": "2021-07-04T20:07:39.393Z"
   },
   {
    "duration": 83,
    "start_time": "2021-07-04T20:07:39.404Z"
   },
   {
    "duration": 9,
    "start_time": "2021-07-04T20:07:39.493Z"
   },
   {
    "duration": 10,
    "start_time": "2021-07-04T20:07:39.507Z"
   },
   {
    "duration": 9,
    "start_time": "2021-07-04T20:07:39.520Z"
   },
   {
    "duration": 9,
    "start_time": "2021-07-04T20:07:39.532Z"
   },
   {
    "duration": 36,
    "start_time": "2021-07-04T20:07:39.586Z"
   },
   {
    "duration": 12,
    "start_time": "2021-07-04T20:07:39.625Z"
   },
   {
    "duration": 9,
    "start_time": "2021-07-04T20:07:39.640Z"
   },
   {
    "duration": 48,
    "start_time": "2021-07-04T20:07:39.652Z"
   },
   {
    "duration": 8,
    "start_time": "2021-07-04T20:07:39.703Z"
   },
   {
    "duration": 41,
    "start_time": "2021-07-04T20:07:39.714Z"
   },
   {
    "duration": 16,
    "start_time": "2021-07-04T20:07:39.786Z"
   },
   {
    "duration": 7,
    "start_time": "2021-07-04T20:07:39.805Z"
   },
   {
    "duration": 16,
    "start_time": "2021-07-04T20:07:39.815Z"
   },
   {
    "duration": 495,
    "start_time": "2021-07-04T20:07:39.834Z"
   },
   {
    "duration": 18,
    "start_time": "2021-07-04T20:07:40.332Z"
   },
   {
    "duration": 6,
    "start_time": "2021-07-04T20:07:40.352Z"
   },
   {
    "duration": 44,
    "start_time": "2021-07-04T20:07:40.361Z"
   },
   {
    "duration": 27,
    "start_time": "2021-07-04T20:07:40.407Z"
   },
   {
    "duration": 58,
    "start_time": "2021-07-04T20:07:40.437Z"
   },
   {
    "duration": 26,
    "start_time": "2021-07-04T20:07:40.497Z"
   },
   {
    "duration": 60,
    "start_time": "2021-07-04T20:07:40.525Z"
   },
   {
    "duration": 30,
    "start_time": "2021-07-04T20:07:40.588Z"
   },
   {
    "duration": 17,
    "start_time": "2021-07-04T20:07:40.621Z"
   },
   {
    "duration": 6,
    "start_time": "2021-07-04T20:07:40.642Z"
   },
   {
    "duration": 39,
    "start_time": "2021-07-04T20:07:40.651Z"
   },
   {
    "duration": 18,
    "start_time": "2021-07-04T20:07:40.693Z"
   },
   {
    "duration": 1630,
    "start_time": "2021-07-04T20:07:40.714Z"
   },
   {
    "duration": 12,
    "start_time": "2021-07-04T20:07:42.347Z"
   },
   {
    "duration": 67,
    "start_time": "2021-07-04T20:07:42.362Z"
   },
   {
    "duration": 41067,
    "start_time": "2021-07-04T20:07:42.432Z"
   },
   {
    "duration": 38,
    "start_time": "2021-07-04T20:08:23.501Z"
   },
   {
    "duration": 66,
    "start_time": "2021-07-04T20:08:23.541Z"
   },
   {
    "duration": 29,
    "start_time": "2021-07-04T20:08:23.611Z"
   },
   {
    "duration": 61,
    "start_time": "2021-07-04T20:08:23.643Z"
   },
   {
    "duration": 10,
    "start_time": "2021-07-04T20:08:23.707Z"
   },
   {
    "duration": 36,
    "start_time": "2021-07-04T20:08:23.720Z"
   },
   {
    "duration": 73,
    "start_time": "2021-07-04T20:08:23.759Z"
   },
   {
    "duration": 55,
    "start_time": "2021-07-04T20:08:23.834Z"
   },
   {
    "duration": 17,
    "start_time": "2021-07-04T20:08:23.892Z"
   },
   {
    "duration": 95,
    "start_time": "2021-07-04T20:08:23.912Z"
   },
   {
    "duration": 19,
    "start_time": "2021-07-04T20:08:24.010Z"
   },
   {
    "duration": 10,
    "start_time": "2021-07-04T20:08:24.033Z"
   },
   {
    "duration": 44,
    "start_time": "2021-07-04T20:08:24.046Z"
   },
   {
    "duration": 14,
    "start_time": "2021-07-04T20:08:24.093Z"
   },
   {
    "duration": 14,
    "start_time": "2021-07-04T20:08:24.110Z"
   },
   {
    "duration": 15,
    "start_time": "2021-07-04T20:08:24.141Z"
   },
   {
    "duration": 16,
    "start_time": "2021-07-04T20:08:24.186Z"
   },
   {
    "duration": 37,
    "start_time": "2021-07-04T20:08:24.206Z"
   },
   {
    "duration": 46,
    "start_time": "2021-07-04T20:08:24.246Z"
   },
   {
    "duration": 24,
    "start_time": "2021-07-04T20:08:24.295Z"
   },
   {
    "duration": 7,
    "start_time": "2021-07-04T20:08:24.322Z"
   },
   {
    "duration": 75,
    "start_time": "2021-07-04T20:08:24.332Z"
   },
   {
    "duration": 91,
    "start_time": "2021-07-04T20:08:24.410Z"
   },
   {
    "duration": 967,
    "start_time": "2021-07-04T20:08:24.504Z"
   },
   {
    "duration": 742,
    "start_time": "2021-07-04T20:08:25.473Z"
   },
   {
    "duration": 420,
    "start_time": "2021-07-04T20:08:26.218Z"
   },
   {
    "duration": 621,
    "start_time": "2021-07-04T20:08:26.641Z"
   },
   {
    "duration": 66,
    "start_time": "2021-07-04T20:08:27.265Z"
   },
   {
    "duration": 78,
    "start_time": "2021-07-04T20:08:27.334Z"
   },
   {
    "duration": 46,
    "start_time": "2021-07-04T20:08:27.415Z"
   },
   {
    "duration": 595,
    "start_time": "2021-07-04T20:08:27.464Z"
   },
   {
    "duration": 31,
    "start_time": "2021-07-04T20:08:28.062Z"
   },
   {
    "duration": 7194,
    "start_time": "2021-07-04T20:08:28.096Z"
   },
   {
    "duration": 2156,
    "start_time": "2021-07-04T20:08:35.293Z"
   },
   {
    "duration": 639,
    "start_time": "2021-07-04T20:08:37.452Z"
   },
   {
    "duration": 532,
    "start_time": "2021-07-04T20:08:38.093Z"
   },
   {
    "duration": 440,
    "start_time": "2021-07-04T20:08:38.627Z"
   },
   {
    "duration": 419,
    "start_time": "2021-07-04T20:08:39.069Z"
   },
   {
    "duration": 294,
    "start_time": "2021-07-04T20:08:39.491Z"
   },
   {
    "duration": 298,
    "start_time": "2021-07-04T20:08:39.787Z"
   },
   {
    "duration": 383,
    "start_time": "2021-07-04T20:08:40.089Z"
   },
   {
    "duration": 917,
    "start_time": "2021-07-04T20:08:40.475Z"
   },
   {
    "duration": 700,
    "start_time": "2021-07-04T20:08:41.395Z"
   },
   {
    "duration": 507,
    "start_time": "2021-07-04T20:08:42.098Z"
   },
   {
    "duration": 1281,
    "start_time": "2021-07-04T20:08:42.608Z"
   },
   {
    "duration": 1105,
    "start_time": "2021-07-04T20:08:43.892Z"
   },
   {
    "duration": 456,
    "start_time": "2021-07-04T20:08:45.000Z"
   },
   {
    "duration": 329,
    "start_time": "2021-07-04T20:08:45.459Z"
   },
   {
    "duration": 331,
    "start_time": "2021-07-04T20:08:45.791Z"
   },
   {
    "duration": 347,
    "start_time": "2021-07-04T20:08:46.125Z"
   },
   {
    "duration": 1039,
    "start_time": "2021-07-04T20:08:46.475Z"
   },
   {
    "duration": 345,
    "start_time": "2021-07-04T20:08:47.516Z"
   },
   {
    "duration": 344,
    "start_time": "2021-07-04T20:08:47.863Z"
   },
   {
    "duration": 1157,
    "start_time": "2021-07-04T20:08:48.210Z"
   },
   {
    "duration": 20,
    "start_time": "2021-07-04T20:08:49.370Z"
   },
   {
    "duration": 11,
    "start_time": "2021-07-04T20:08:49.393Z"
   },
   {
    "duration": 362,
    "start_time": "2021-07-04T20:08:49.407Z"
   },
   {
    "duration": 334,
    "start_time": "2021-07-04T20:08:49.772Z"
   },
   {
    "duration": 285,
    "start_time": "2021-07-04T20:08:50.110Z"
   },
   {
    "duration": 366,
    "start_time": "2021-07-04T20:08:50.398Z"
   },
   {
    "duration": 840,
    "start_time": "2021-07-04T20:08:50.767Z"
   },
   {
    "duration": 10,
    "start_time": "2021-07-04T20:08:51.610Z"
   },
   {
    "duration": 64,
    "start_time": "2021-07-04T20:08:51.623Z"
   },
   {
    "duration": 34,
    "start_time": "2021-07-04T20:08:51.689Z"
   },
   {
    "duration": 374,
    "start_time": "2021-07-04T20:08:51.725Z"
   },
   {
    "duration": 6,
    "start_time": "2021-07-04T20:08:52.103Z"
   },
   {
    "duration": 24,
    "start_time": "2021-07-04T20:08:52.112Z"
   },
   {
    "duration": 561,
    "start_time": "2021-07-04T20:08:52.138Z"
   },
   {
    "duration": 529,
    "start_time": "2021-07-04T20:08:52.702Z"
   },
   {
    "duration": 1751,
    "start_time": "2021-07-04T20:08:53.234Z"
   },
   {
    "duration": 620,
    "start_time": "2021-07-04T20:08:54.989Z"
   },
   {
    "duration": 539,
    "start_time": "2021-07-04T20:08:55.612Z"
   },
   {
    "duration": 46,
    "start_time": "2021-07-04T20:08:56.159Z"
   },
   {
    "duration": 35,
    "start_time": "2021-07-04T20:11:07.380Z"
   },
   {
    "duration": 24,
    "start_time": "2021-07-04T20:11:16.021Z"
   },
   {
    "duration": 487,
    "start_time": "2021-07-04T20:13:43.513Z"
   },
   {
    "duration": 645,
    "start_time": "2021-07-04T20:13:53.345Z"
   },
   {
    "duration": 418,
    "start_time": "2021-07-04T20:14:03.876Z"
   },
   {
    "duration": 16,
    "start_time": "2021-07-04T20:14:35.330Z"
   },
   {
    "duration": 14,
    "start_time": "2021-07-04T20:14:43.197Z"
   },
   {
    "duration": 33,
    "start_time": "2021-07-04T20:14:47.027Z"
   },
   {
    "duration": 958,
    "start_time": "2021-07-04T20:15:31.458Z"
   },
   {
    "duration": 982,
    "start_time": "2021-07-04T20:15:39.282Z"
   },
   {
    "duration": 937,
    "start_time": "2021-07-04T20:16:51.851Z"
   },
   {
    "duration": 15,
    "start_time": "2021-07-04T20:19:46.249Z"
   },
   {
    "duration": 1264,
    "start_time": "2021-07-04T20:20:29.116Z"
   },
   {
    "duration": 744,
    "start_time": "2021-07-04T20:21:07.624Z"
   },
   {
    "duration": 1030,
    "start_time": "2021-07-04T20:21:41.629Z"
   },
   {
    "duration": 714,
    "start_time": "2021-07-04T20:21:53.434Z"
   },
   {
    "duration": 786,
    "start_time": "2021-07-04T20:22:02.624Z"
   },
   {
    "duration": 979,
    "start_time": "2021-07-04T20:22:08.690Z"
   },
   {
    "duration": 831,
    "start_time": "2021-07-04T20:22:12.229Z"
   },
   {
    "duration": 750,
    "start_time": "2021-07-04T20:22:19.320Z"
   },
   {
    "duration": 283,
    "start_time": "2021-07-04T20:22:58.412Z"
   },
   {
    "duration": 280,
    "start_time": "2021-07-04T20:23:14.402Z"
   },
   {
    "duration": 785,
    "start_time": "2021-07-04T20:24:06.108Z"
   },
   {
    "duration": 543,
    "start_time": "2021-07-04T20:24:30.722Z"
   },
   {
    "duration": 420,
    "start_time": "2021-07-04T20:24:42.990Z"
   },
   {
    "duration": 28,
    "start_time": "2021-07-04T20:24:46.658Z"
   },
   {
    "duration": 15,
    "start_time": "2021-07-04T20:24:49.811Z"
   },
   {
    "duration": 35,
    "start_time": "2021-07-04T20:25:01.220Z"
   },
   {
    "duration": 486,
    "start_time": "2021-07-04T20:27:08.417Z"
   },
   {
    "duration": 627,
    "start_time": "2021-07-04T20:33:02.147Z"
   },
   {
    "duration": 6267,
    "start_time": "2021-07-04T20:33:26.166Z"
   },
   {
    "duration": 5974,
    "start_time": "2021-07-04T20:33:47.611Z"
   },
   {
    "duration": 782,
    "start_time": "2021-07-04T20:36:54.813Z"
   },
   {
    "duration": 697,
    "start_time": "2021-07-04T20:38:30.098Z"
   },
   {
    "duration": 442,
    "start_time": "2021-07-04T20:38:40.675Z"
   },
   {
    "duration": 285,
    "start_time": "2021-07-04T20:39:21.248Z"
   },
   {
    "duration": 269,
    "start_time": "2021-07-04T20:40:02.269Z"
   },
   {
    "duration": 371,
    "start_time": "2021-07-04T20:41:16.430Z"
   },
   {
    "duration": 728,
    "start_time": "2021-07-04T20:41:55.259Z"
   },
   {
    "duration": 331,
    "start_time": "2021-07-04T20:42:38.990Z"
   },
   {
    "duration": 338,
    "start_time": "2021-07-04T20:43:08.320Z"
   },
   {
    "duration": 347,
    "start_time": "2021-07-04T20:43:35.363Z"
   },
   {
    "duration": 2356,
    "start_time": "2021-07-04T20:43:43.156Z"
   },
   {
    "duration": 2002,
    "start_time": "2021-07-04T20:44:15.659Z"
   },
   {
    "duration": 344,
    "start_time": "2021-07-04T20:44:56.164Z"
   },
   {
    "duration": 327,
    "start_time": "2021-07-04T20:45:51.048Z"
   },
   {
    "duration": 953,
    "start_time": "2021-07-04T20:46:03.020Z"
   },
   {
    "duration": 1285,
    "start_time": "2021-07-04T20:46:42.045Z"
   },
   {
    "duration": 467,
    "start_time": "2021-07-04T21:15:20.748Z"
   },
   {
    "duration": 350,
    "start_time": "2021-07-04T21:15:40.209Z"
   },
   {
    "duration": 404,
    "start_time": "2021-07-04T21:15:50.252Z"
   },
   {
    "duration": 532,
    "start_time": "2021-07-04T21:17:27.847Z"
   },
   {
    "duration": 33686,
    "start_time": "2021-07-05T07:06:19.216Z"
   },
   {
    "duration": 4,
    "start_time": "2021-07-05T07:06:52.905Z"
   },
   {
    "duration": 2227,
    "start_time": "2021-07-05T07:06:52.912Z"
   },
   {
    "duration": 31,
    "start_time": "2021-07-05T07:06:55.142Z"
   },
   {
    "duration": 35,
    "start_time": "2021-07-05T07:06:55.175Z"
   },
   {
    "duration": 76,
    "start_time": "2021-07-05T07:06:55.213Z"
   },
   {
    "duration": 5,
    "start_time": "2021-07-05T07:06:55.292Z"
   },
   {
    "duration": 72,
    "start_time": "2021-07-05T07:06:55.301Z"
   },
   {
    "duration": 42,
    "start_time": "2021-07-05T07:06:55.377Z"
   },
   {
    "duration": 71,
    "start_time": "2021-07-05T07:06:55.422Z"
   },
   {
    "duration": 6,
    "start_time": "2021-07-05T07:06:55.496Z"
   },
   {
    "duration": 7,
    "start_time": "2021-07-05T07:06:55.505Z"
   },
   {
    "duration": 69,
    "start_time": "2021-07-05T07:06:55.514Z"
   },
   {
    "duration": 37,
    "start_time": "2021-07-05T07:06:55.586Z"
   },
   {
    "duration": 39,
    "start_time": "2021-07-05T07:06:55.625Z"
   },
   {
    "duration": 696,
    "start_time": "2021-07-05T07:06:55.667Z"
   },
   {
    "duration": 5,
    "start_time": "2021-07-05T07:06:56.366Z"
   },
   {
    "duration": 3818,
    "start_time": "2021-07-05T07:06:56.374Z"
   },
   {
    "duration": 4394,
    "start_time": "2021-07-05T07:07:00.194Z"
   },
   {
    "duration": 6,
    "start_time": "2021-07-05T07:07:04.590Z"
   },
   {
    "duration": 20,
    "start_time": "2021-07-05T07:07:04.599Z"
   },
   {
    "duration": 58,
    "start_time": "2021-07-05T07:07:04.622Z"
   },
   {
    "duration": 10,
    "start_time": "2021-07-05T07:07:04.688Z"
   },
   {
    "duration": 19,
    "start_time": "2021-07-05T07:07:04.704Z"
   },
   {
    "duration": 37,
    "start_time": "2021-07-05T07:07:04.726Z"
   },
   {
    "duration": 12,
    "start_time": "2021-07-05T07:07:04.766Z"
   },
   {
    "duration": 38,
    "start_time": "2021-07-05T07:07:04.781Z"
   },
   {
    "duration": 41,
    "start_time": "2021-07-05T07:07:04.822Z"
   },
   {
    "duration": 8,
    "start_time": "2021-07-05T07:07:04.866Z"
   },
   {
    "duration": 16,
    "start_time": "2021-07-05T07:07:04.876Z"
   },
   {
    "duration": 11,
    "start_time": "2021-07-05T07:07:04.895Z"
   },
   {
    "duration": 56,
    "start_time": "2021-07-05T07:07:04.909Z"
   },
   {
    "duration": 25,
    "start_time": "2021-07-05T07:07:04.969Z"
   },
   {
    "duration": 7,
    "start_time": "2021-07-05T07:07:04.996Z"
   },
   {
    "duration": 17,
    "start_time": "2021-07-05T07:07:05.006Z"
   },
   {
    "duration": 975,
    "start_time": "2021-07-05T07:07:05.026Z"
   },
   {
    "duration": 24,
    "start_time": "2021-07-05T07:07:06.004Z"
   },
   {
    "duration": 31,
    "start_time": "2021-07-05T07:07:06.031Z"
   },
   {
    "duration": 28,
    "start_time": "2021-07-05T07:07:06.065Z"
   },
   {
    "duration": 32,
    "start_time": "2021-07-05T07:07:06.096Z"
   },
   {
    "duration": 61,
    "start_time": "2021-07-05T07:07:06.131Z"
   },
   {
    "duration": 27,
    "start_time": "2021-07-05T07:07:06.195Z"
   },
   {
    "duration": 64,
    "start_time": "2021-07-05T07:07:06.224Z"
   },
   {
    "duration": 30,
    "start_time": "2021-07-05T07:07:06.291Z"
   },
   {
    "duration": 240,
    "start_time": "2021-07-05T07:07:06.325Z"
   },
   {
    "duration": 19,
    "start_time": "2021-07-05T07:07:06.568Z"
   },
   {
    "duration": 22,
    "start_time": "2021-07-05T07:07:06.590Z"
   },
   {
    "duration": 23,
    "start_time": "2021-07-05T07:07:06.616Z"
   },
   {
    "duration": 1588,
    "start_time": "2021-07-05T07:07:06.643Z"
   },
   {
    "duration": 28,
    "start_time": "2021-07-05T07:07:08.235Z"
   },
   {
    "duration": 29,
    "start_time": "2021-07-05T07:07:08.266Z"
   },
   {
    "duration": 34300,
    "start_time": "2021-07-05T07:07:08.297Z"
   },
   {
    "duration": 31,
    "start_time": "2021-07-05T07:07:42.600Z"
   },
   {
    "duration": 38,
    "start_time": "2021-07-05T07:07:42.634Z"
   },
   {
    "duration": 27,
    "start_time": "2021-07-05T07:07:42.675Z"
   },
   {
    "duration": 62,
    "start_time": "2021-07-05T07:07:42.705Z"
   },
   {
    "duration": 8,
    "start_time": "2021-07-05T07:07:42.769Z"
   },
   {
    "duration": 34,
    "start_time": "2021-07-05T07:07:42.779Z"
   },
   {
    "duration": 48,
    "start_time": "2021-07-05T07:07:42.815Z"
   },
   {
    "duration": 36,
    "start_time": "2021-07-05T07:07:42.866Z"
   },
   {
    "duration": 14,
    "start_time": "2021-07-05T07:07:42.905Z"
   },
   {
    "duration": 89,
    "start_time": "2021-07-05T07:07:42.922Z"
   },
   {
    "duration": 15,
    "start_time": "2021-07-05T07:07:43.014Z"
   },
   {
    "duration": 5,
    "start_time": "2021-07-05T07:07:43.032Z"
   },
   {
    "duration": 31,
    "start_time": "2021-07-05T07:07:43.040Z"
   },
   {
    "duration": 11,
    "start_time": "2021-07-05T07:07:43.074Z"
   },
   {
    "duration": 12,
    "start_time": "2021-07-05T07:07:43.087Z"
   },
   {
    "duration": 12,
    "start_time": "2021-07-05T07:07:43.107Z"
   },
   {
    "duration": 50,
    "start_time": "2021-07-05T07:07:43.123Z"
   },
   {
    "duration": 30,
    "start_time": "2021-07-05T07:07:43.177Z"
   },
   {
    "duration": 67,
    "start_time": "2021-07-05T07:07:43.210Z"
   },
   {
    "duration": 25,
    "start_time": "2021-07-05T07:07:43.287Z"
   },
   {
    "duration": 8,
    "start_time": "2021-07-05T07:07:43.315Z"
   },
   {
    "duration": 59,
    "start_time": "2021-07-05T07:07:43.325Z"
   },
   {
    "duration": 76,
    "start_time": "2021-07-05T07:07:43.387Z"
   },
   {
    "duration": 683,
    "start_time": "2021-07-05T07:07:43.466Z"
   },
   {
    "duration": 780,
    "start_time": "2021-07-05T07:07:44.152Z"
   },
   {
    "duration": 241,
    "start_time": "2021-07-05T07:07:44.935Z"
   },
   {
    "duration": 740,
    "start_time": "2021-07-05T07:07:45.179Z"
   },
   {
    "duration": 25,
    "start_time": "2021-07-05T07:07:45.921Z"
   },
   {
    "duration": 28,
    "start_time": "2021-07-05T07:07:45.961Z"
   },
   {
    "duration": 37,
    "start_time": "2021-07-05T07:07:45.991Z"
   },
   {
    "duration": 493,
    "start_time": "2021-07-05T07:07:46.031Z"
   },
   {
    "duration": 16,
    "start_time": "2021-07-05T07:07:46.526Z"
   },
   {
    "duration": 6383,
    "start_time": "2021-07-05T07:07:46.563Z"
   },
   {
    "duration": 2082,
    "start_time": "2021-07-05T07:07:52.948Z"
   },
   {
    "duration": 541,
    "start_time": "2021-07-05T07:07:55.033Z"
   },
   {
    "duration": 429,
    "start_time": "2021-07-05T07:07:55.576Z"
   },
   {
    "duration": 294,
    "start_time": "2021-07-05T07:07:56.008Z"
   },
   {
    "duration": 708,
    "start_time": "2021-07-05T07:07:56.304Z"
   },
   {
    "duration": 1192,
    "start_time": "2021-07-05T07:07:57.016Z"
   },
   {
    "duration": 524,
    "start_time": "2021-07-05T07:07:58.211Z"
   },
   {
    "duration": 341,
    "start_time": "2021-07-05T07:07:58.738Z"
   },
   {
    "duration": 358,
    "start_time": "2021-07-05T07:07:59.081Z"
   },
   {
    "duration": 1067,
    "start_time": "2021-07-05T07:07:59.441Z"
   },
   {
    "duration": 353,
    "start_time": "2021-07-05T07:08:00.511Z"
   },
   {
    "duration": 464,
    "start_time": "2021-07-05T07:08:00.866Z"
   },
   {
    "duration": 960,
    "start_time": "2021-07-05T07:08:01.332Z"
   },
   {
    "duration": 12,
    "start_time": "2021-07-05T07:08:02.294Z"
   },
   {
    "duration": 73,
    "start_time": "2021-07-05T07:08:02.309Z"
   },
   {
    "duration": 371,
    "start_time": "2021-07-05T07:08:02.385Z"
   },
   {
    "duration": 349,
    "start_time": "2021-07-05T07:08:02.762Z"
   },
   {
    "duration": 496,
    "start_time": "2021-07-05T07:08:03.114Z"
   },
   {
    "duration": 7,
    "start_time": "2021-07-05T07:08:03.613Z"
   },
   {
    "duration": 58,
    "start_time": "2021-07-05T07:08:03.638Z"
   },
   {
    "duration": 35,
    "start_time": "2021-07-05T07:08:03.698Z"
   },
   {
    "duration": 390,
    "start_time": "2021-07-05T07:08:03.736Z"
   },
   {
    "duration": 7,
    "start_time": "2021-07-05T07:08:04.129Z"
   },
   {
    "duration": 45,
    "start_time": "2021-07-05T07:08:04.139Z"
   },
   {
    "duration": 616,
    "start_time": "2021-07-05T07:08:04.187Z"
   },
   {
    "duration": 570,
    "start_time": "2021-07-05T07:08:04.805Z"
   },
   {
    "duration": 1495,
    "start_time": "2021-07-05T07:08:05.379Z"
   },
   {
    "duration": 553,
    "start_time": "2021-07-05T07:08:06.876Z"
   },
   {
    "duration": 533,
    "start_time": "2021-07-05T07:08:07.431Z"
   },
   {
    "duration": 105,
    "start_time": "2021-07-22T13:54:50.720Z"
   },
   {
    "duration": 104,
    "start_time": "2021-07-22T13:55:12.020Z"
   },
   {
    "duration": 108,
    "start_time": "2021-07-22T13:57:27.779Z"
   },
   {
    "duration": 133,
    "start_time": "2021-07-22T14:00:42.268Z"
   },
   {
    "duration": 106,
    "start_time": "2021-07-22T14:03:21.275Z"
   },
   {
    "duration": 96,
    "start_time": "2021-07-22T14:07:49.023Z"
   },
   {
    "duration": 97,
    "start_time": "2021-07-22T14:22:15.582Z"
   },
   {
    "duration": 104,
    "start_time": "2021-07-22T14:24:29.222Z"
   },
   {
    "duration": 93,
    "start_time": "2021-07-22T14:28:03.250Z"
   },
   {
    "duration": 92,
    "start_time": "2021-07-22T14:33:17.442Z"
   },
   {
    "duration": 120,
    "start_time": "2021-07-22T14:42:14.873Z"
   },
   {
    "duration": 159,
    "start_time": "2021-07-22T14:47:24.765Z"
   },
   {
    "duration": 95,
    "start_time": "2021-07-22T14:51:05.017Z"
   },
   {
    "duration": 166,
    "start_time": "2021-07-22T14:55:55.012Z"
   },
   {
    "duration": 121,
    "start_time": "2021-07-22T15:01:30.292Z"
   },
   {
    "duration": 107,
    "start_time": "2021-07-22T15:01:41.032Z"
   },
   {
    "duration": 135,
    "start_time": "2021-07-22T15:21:07.235Z"
   },
   {
    "duration": 104,
    "start_time": "2021-07-23T02:36:42.511Z"
   },
   {
    "duration": 93,
    "start_time": "2021-07-23T02:52:24.230Z"
   },
   {
    "duration": 303,
    "start_time": "2021-07-23T10:31:30.794Z"
   },
   {
    "duration": 3,
    "start_time": "2021-07-23T10:31:35.613Z"
   },
   {
    "duration": 4,
    "start_time": "2021-07-23T10:31:35.623Z"
   },
   {
    "duration": 2013,
    "start_time": "2021-07-23T10:31:35.630Z"
   },
   {
    "duration": -1551,
    "start_time": "2021-07-23T10:31:39.200Z"
   },
   {
    "duration": -1558,
    "start_time": "2021-07-23T10:31:39.209Z"
   },
   {
    "duration": -1646,
    "start_time": "2021-07-23T10:31:39.299Z"
   },
   {
    "duration": -1688,
    "start_time": "2021-07-23T10:31:39.342Z"
   },
   {
    "duration": -1692,
    "start_time": "2021-07-23T10:31:39.348Z"
   },
   {
    "duration": -1695,
    "start_time": "2021-07-23T10:31:39.352Z"
   },
   {
    "duration": -1701,
    "start_time": "2021-07-23T10:31:39.360Z"
   },
   {
    "duration": -1706,
    "start_time": "2021-07-23T10:31:39.366Z"
   },
   {
    "duration": -1711,
    "start_time": "2021-07-23T10:31:39.373Z"
   },
   {
    "duration": -1716,
    "start_time": "2021-07-23T10:31:39.379Z"
   },
   {
    "duration": -1719,
    "start_time": "2021-07-23T10:31:39.383Z"
   },
   {
    "duration": -1725,
    "start_time": "2021-07-23T10:31:39.391Z"
   },
   {
    "duration": -1727,
    "start_time": "2021-07-23T10:31:39.395Z"
   },
   {
    "duration": -1731,
    "start_time": "2021-07-23T10:31:39.400Z"
   },
   {
    "duration": -1738,
    "start_time": "2021-07-23T10:31:39.409Z"
   },
   {
    "duration": -1741,
    "start_time": "2021-07-23T10:31:39.414Z"
   },
   {
    "duration": -1746,
    "start_time": "2021-07-23T10:31:39.420Z"
   },
   {
    "duration": -1753,
    "start_time": "2021-07-23T10:31:39.428Z"
   },
   {
    "duration": -1756,
    "start_time": "2021-07-23T10:31:39.433Z"
   },
   {
    "duration": -1764,
    "start_time": "2021-07-23T10:31:39.442Z"
   },
   {
    "duration": -1768,
    "start_time": "2021-07-23T10:31:39.447Z"
   },
   {
    "duration": -1772,
    "start_time": "2021-07-23T10:31:39.452Z"
   },
   {
    "duration": -1802,
    "start_time": "2021-07-23T10:31:39.487Z"
   },
   {
    "duration": -1807,
    "start_time": "2021-07-23T10:31:39.494Z"
   },
   {
    "duration": -1810,
    "start_time": "2021-07-23T10:31:39.499Z"
   },
   {
    "duration": -1812,
    "start_time": "2021-07-23T10:31:39.504Z"
   },
   {
    "duration": -1817,
    "start_time": "2021-07-23T10:31:39.511Z"
   },
   {
    "duration": -1821,
    "start_time": "2021-07-23T10:31:39.517Z"
   },
   {
    "duration": -1827,
    "start_time": "2021-07-23T10:31:39.525Z"
   },
   {
    "duration": -1831,
    "start_time": "2021-07-23T10:31:39.531Z"
   },
   {
    "duration": -1834,
    "start_time": "2021-07-23T10:31:39.536Z"
   },
   {
    "duration": -1840,
    "start_time": "2021-07-23T10:31:39.545Z"
   },
   {
    "duration": -1843,
    "start_time": "2021-07-23T10:31:39.550Z"
   },
   {
    "duration": -1849,
    "start_time": "2021-07-23T10:31:39.558Z"
   },
   {
    "duration": -1852,
    "start_time": "2021-07-23T10:31:39.563Z"
   },
   {
    "duration": -1855,
    "start_time": "2021-07-23T10:31:39.568Z"
   },
   {
    "duration": -1860,
    "start_time": "2021-07-23T10:31:39.575Z"
   },
   {
    "duration": -1864,
    "start_time": "2021-07-23T10:31:39.581Z"
   },
   {
    "duration": -1867,
    "start_time": "2021-07-23T10:31:39.586Z"
   },
   {
    "duration": -1873,
    "start_time": "2021-07-23T10:31:39.594Z"
   },
   {
    "duration": -1876,
    "start_time": "2021-07-23T10:31:39.599Z"
   },
   {
    "duration": -1879,
    "start_time": "2021-07-23T10:31:39.604Z"
   },
   {
    "duration": -1829,
    "start_time": "2021-07-23T10:31:39.612Z"
   },
   {
    "duration": -1833,
    "start_time": "2021-07-23T10:31:39.618Z"
   },
   {
    "duration": -1838,
    "start_time": "2021-07-23T10:31:39.625Z"
   },
   {
    "duration": -1841,
    "start_time": "2021-07-23T10:31:39.630Z"
   },
   {
    "duration": -1845,
    "start_time": "2021-07-23T10:31:39.636Z"
   },
   {
    "duration": -1850,
    "start_time": "2021-07-23T10:31:39.643Z"
   },
   {
    "duration": -1853,
    "start_time": "2021-07-23T10:31:39.648Z"
   },
   {
    "duration": -1857,
    "start_time": "2021-07-23T10:31:39.654Z"
   },
   {
    "duration": -1862,
    "start_time": "2021-07-23T10:31:39.661Z"
   },
   {
    "duration": -1881,
    "start_time": "2021-07-23T10:31:39.682Z"
   },
   {
    "duration": -1884,
    "start_time": "2021-07-23T10:31:39.687Z"
   },
   {
    "duration": -1889,
    "start_time": "2021-07-23T10:31:39.694Z"
   },
   {
    "duration": -1892,
    "start_time": "2021-07-23T10:31:39.699Z"
   },
   {
    "duration": -1895,
    "start_time": "2021-07-23T10:31:39.704Z"
   },
   {
    "duration": -1900,
    "start_time": "2021-07-23T10:31:39.711Z"
   },
   {
    "duration": -1903,
    "start_time": "2021-07-23T10:31:39.716Z"
   },
   {
    "duration": -1905,
    "start_time": "2021-07-23T10:31:39.720Z"
   },
   {
    "duration": -1911,
    "start_time": "2021-07-23T10:31:39.728Z"
   },
   {
    "duration": -1913,
    "start_time": "2021-07-23T10:31:39.732Z"
   },
   {
    "duration": -1917,
    "start_time": "2021-07-23T10:31:39.738Z"
   },
   {
    "duration": -1863,
    "start_time": "2021-07-23T10:31:39.745Z"
   },
   {
    "duration": -1865,
    "start_time": "2021-07-23T10:31:39.750Z"
   },
   {
    "duration": -1870,
    "start_time": "2021-07-23T10:31:39.757Z"
   },
   {
    "duration": -1873,
    "start_time": "2021-07-23T10:31:39.762Z"
   },
   {
    "duration": -1877,
    "start_time": "2021-07-23T10:31:39.768Z"
   },
   {
    "duration": -1883,
    "start_time": "2021-07-23T10:31:39.776Z"
   },
   {
    "duration": -1885,
    "start_time": "2021-07-23T10:31:39.781Z"
   },
   {
    "duration": -1889,
    "start_time": "2021-07-23T10:31:39.787Z"
   },
   {
    "duration": 3,
    "start_time": "2021-07-23T10:33:54.875Z"
   },
   {
    "duration": 11,
    "start_time": "2021-07-23T10:33:54.881Z"
   },
   {
    "duration": 260,
    "start_time": "2021-07-23T10:33:54.895Z"
   },
   {
    "duration": -1553,
    "start_time": "2021-07-23T10:33:56.713Z"
   },
   {
    "duration": -1558,
    "start_time": "2021-07-23T10:33:56.720Z"
   },
   {
    "duration": -1563,
    "start_time": "2021-07-23T10:33:56.726Z"
   },
   {
    "duration": -1567,
    "start_time": "2021-07-23T10:33:56.732Z"
   },
   {
    "duration": -1571,
    "start_time": "2021-07-23T10:33:56.737Z"
   },
   {
    "duration": -1578,
    "start_time": "2021-07-23T10:33:56.745Z"
   },
   {
    "duration": -1581,
    "start_time": "2021-07-23T10:33:56.750Z"
   },
   {
    "duration": -1641,
    "start_time": "2021-07-23T10:33:56.811Z"
   },
   {
    "duration": -1645,
    "start_time": "2021-07-23T10:33:56.816Z"
   },
   {
    "duration": -1648,
    "start_time": "2021-07-23T10:33:56.821Z"
   },
   {
    "duration": -1655,
    "start_time": "2021-07-23T10:33:56.829Z"
   },
   {
    "duration": -1659,
    "start_time": "2021-07-23T10:33:56.834Z"
   },
   {
    "duration": -1663,
    "start_time": "2021-07-23T10:33:56.840Z"
   },
   {
    "duration": -1669,
    "start_time": "2021-07-23T10:33:56.847Z"
   },
   {
    "duration": -1673,
    "start_time": "2021-07-23T10:33:56.852Z"
   },
   {
    "duration": -1677,
    "start_time": "2021-07-23T10:33:56.857Z"
   },
   {
    "duration": -1683,
    "start_time": "2021-07-23T10:33:56.865Z"
   },
   {
    "duration": -1687,
    "start_time": "2021-07-23T10:33:56.870Z"
   },
   {
    "duration": -1691,
    "start_time": "2021-07-23T10:33:56.875Z"
   },
   {
    "duration": -1697,
    "start_time": "2021-07-23T10:33:56.882Z"
   },
   {
    "duration": -1701,
    "start_time": "2021-07-23T10:33:56.887Z"
   },
   {
    "duration": -1734,
    "start_time": "2021-07-23T10:33:56.922Z"
   },
   {
    "duration": -1740,
    "start_time": "2021-07-23T10:33:56.929Z"
   },
   {
    "duration": -1744,
    "start_time": "2021-07-23T10:33:56.934Z"
   },
   {
    "duration": -1747,
    "start_time": "2021-07-23T10:33:56.939Z"
   },
   {
    "duration": -1753,
    "start_time": "2021-07-23T10:33:56.946Z"
   },
   {
    "duration": -1758,
    "start_time": "2021-07-23T10:33:56.952Z"
   },
   {
    "duration": -1761,
    "start_time": "2021-07-23T10:33:56.957Z"
   },
   {
    "duration": -1768,
    "start_time": "2021-07-23T10:33:56.965Z"
   },
   {
    "duration": -1772,
    "start_time": "2021-07-23T10:33:56.971Z"
   },
   {
    "duration": -1778,
    "start_time": "2021-07-23T10:33:56.978Z"
   },
   {
    "duration": -1782,
    "start_time": "2021-07-23T10:33:56.983Z"
   },
   {
    "duration": -1785,
    "start_time": "2021-07-23T10:33:56.988Z"
   },
   {
    "duration": -1792,
    "start_time": "2021-07-23T10:33:56.996Z"
   },
   {
    "duration": -1796,
    "start_time": "2021-07-23T10:33:57.001Z"
   },
   {
    "duration": -1799,
    "start_time": "2021-07-23T10:33:57.006Z"
   },
   {
    "duration": -1806,
    "start_time": "2021-07-23T10:33:57.014Z"
   },
   {
    "duration": -1809,
    "start_time": "2021-07-23T10:33:57.019Z"
   },
   {
    "duration": -1811,
    "start_time": "2021-07-23T10:33:57.025Z"
   },
   {
    "duration": -1840,
    "start_time": "2021-07-23T10:33:57.056Z"
   },
   {
    "duration": -1846,
    "start_time": "2021-07-23T10:33:57.063Z"
   },
   {
    "duration": -1850,
    "start_time": "2021-07-23T10:33:57.068Z"
   },
   {
    "duration": -1853,
    "start_time": "2021-07-23T10:33:57.073Z"
   },
   {
    "duration": -1860,
    "start_time": "2021-07-23T10:33:57.081Z"
   },
   {
    "duration": -1804,
    "start_time": "2021-07-23T10:33:57.086Z"
   },
   {
    "duration": -1809,
    "start_time": "2021-07-23T10:33:57.093Z"
   },
   {
    "duration": -1812,
    "start_time": "2021-07-23T10:33:57.098Z"
   },
   {
    "duration": -1816,
    "start_time": "2021-07-23T10:33:57.103Z"
   },
   {
    "duration": -1822,
    "start_time": "2021-07-23T10:33:57.110Z"
   },
   {
    "duration": -1825,
    "start_time": "2021-07-23T10:33:57.115Z"
   },
   {
    "duration": -1828,
    "start_time": "2021-07-23T10:33:57.119Z"
   },
   {
    "duration": -1835,
    "start_time": "2021-07-23T10:33:57.127Z"
   },
   {
    "duration": -1837,
    "start_time": "2021-07-23T10:33:57.131Z"
   },
   {
    "duration": -1841,
    "start_time": "2021-07-23T10:33:57.136Z"
   },
   {
    "duration": -1847,
    "start_time": "2021-07-23T10:33:57.144Z"
   },
   {
    "duration": -1850,
    "start_time": "2021-07-23T10:33:57.148Z"
   },
   {
    "duration": -1854,
    "start_time": "2021-07-23T10:33:57.153Z"
   },
   {
    "duration": -1860,
    "start_time": "2021-07-23T10:33:57.161Z"
   },
   {
    "duration": -1863,
    "start_time": "2021-07-23T10:33:57.165Z"
   },
   {
    "duration": -1867,
    "start_time": "2021-07-23T10:33:57.170Z"
   },
   {
    "duration": -1873,
    "start_time": "2021-07-23T10:33:57.177Z"
   },
   {
    "duration": -1876,
    "start_time": "2021-07-23T10:33:57.182Z"
   },
   {
    "duration": -1881,
    "start_time": "2021-07-23T10:33:57.188Z"
   },
   {
    "duration": -1886,
    "start_time": "2021-07-23T10:33:57.195Z"
   },
   {
    "duration": -1890,
    "start_time": "2021-07-23T10:33:57.200Z"
   },
   {
    "duration": -1894,
    "start_time": "2021-07-23T10:33:57.205Z"
   },
   {
    "duration": -1900,
    "start_time": "2021-07-23T10:33:57.213Z"
   },
   {
    "duration": -1902,
    "start_time": "2021-07-23T10:33:57.217Z"
   },
   {
    "duration": -1906,
    "start_time": "2021-07-23T10:33:57.222Z"
   },
   {
    "duration": -1913,
    "start_time": "2021-07-23T10:33:57.230Z"
   },
   {
    "duration": 3,
    "start_time": "2021-07-23T10:34:20.394Z"
   },
   {
    "duration": 5,
    "start_time": "2021-07-23T10:34:20.403Z"
   },
   {
    "duration": 271,
    "start_time": "2021-07-23T10:34:20.411Z"
   },
   {
    "duration": -1550,
    "start_time": "2021-07-23T10:34:22.237Z"
   },
   {
    "duration": -1556,
    "start_time": "2021-07-23T10:34:22.245Z"
   },
   {
    "duration": -1561,
    "start_time": "2021-07-23T10:34:22.251Z"
   },
   {
    "duration": -1565,
    "start_time": "2021-07-23T10:34:22.256Z"
   },
   {
    "duration": -1570,
    "start_time": "2021-07-23T10:34:22.263Z"
   },
   {
    "duration": -1573,
    "start_time": "2021-07-23T10:34:22.267Z"
   },
   {
    "duration": -1576,
    "start_time": "2021-07-23T10:34:22.272Z"
   },
   {
    "duration": -1613,
    "start_time": "2021-07-23T10:34:22.310Z"
   },
   {
    "duration": -1680,
    "start_time": "2021-07-23T10:34:22.378Z"
   },
   {
    "duration": -1682,
    "start_time": "2021-07-23T10:34:22.382Z"
   },
   {
    "duration": -1687,
    "start_time": "2021-07-23T10:34:22.388Z"
   },
   {
    "duration": -1692,
    "start_time": "2021-07-23T10:34:22.394Z"
   },
   {
    "duration": -1695,
    "start_time": "2021-07-23T10:34:22.399Z"
   },
   {
    "duration": -1699,
    "start_time": "2021-07-23T10:34:22.404Z"
   },
   {
    "duration": -1705,
    "start_time": "2021-07-23T10:34:22.412Z"
   },
   {
    "duration": -1709,
    "start_time": "2021-07-23T10:34:22.417Z"
   },
   {
    "duration": -1713,
    "start_time": "2021-07-23T10:34:22.422Z"
   },
   {
    "duration": -1720,
    "start_time": "2021-07-23T10:34:22.430Z"
   },
   {
    "duration": -1723,
    "start_time": "2021-07-23T10:34:22.435Z"
   },
   {
    "duration": -1727,
    "start_time": "2021-07-23T10:34:22.440Z"
   },
   {
    "duration": -1733,
    "start_time": "2021-07-23T10:34:22.447Z"
   },
   {
    "duration": -1736,
    "start_time": "2021-07-23T10:34:22.452Z"
   },
   {
    "duration": -1738,
    "start_time": "2021-07-23T10:34:22.457Z"
   },
   {
    "duration": -1745,
    "start_time": "2021-07-23T10:34:22.465Z"
   },
   {
    "duration": -1748,
    "start_time": "2021-07-23T10:34:22.470Z"
   },
   {
    "duration": -1752,
    "start_time": "2021-07-23T10:34:22.475Z"
   },
   {
    "duration": -1757,
    "start_time": "2021-07-23T10:34:22.482Z"
   },
   {
    "duration": -1761,
    "start_time": "2021-07-23T10:34:22.487Z"
   },
   {
    "duration": -1766,
    "start_time": "2021-07-23T10:34:22.494Z"
   },
   {
    "duration": -1770,
    "start_time": "2021-07-23T10:34:22.499Z"
   },
   {
    "duration": -1722,
    "start_time": "2021-07-23T10:34:22.504Z"
   },
   {
    "duration": -1727,
    "start_time": "2021-07-23T10:34:22.511Z"
   },
   {
    "duration": -1730,
    "start_time": "2021-07-23T10:34:22.516Z"
   },
   {
    "duration": -1734,
    "start_time": "2021-07-23T10:34:22.521Z"
   },
   {
    "duration": -1739,
    "start_time": "2021-07-23T10:34:22.528Z"
   },
   {
    "duration": -1743,
    "start_time": "2021-07-23T10:34:22.533Z"
   },
   {
    "duration": -1746,
    "start_time": "2021-07-23T10:34:22.538Z"
   },
   {
    "duration": -1753,
    "start_time": "2021-07-23T10:34:22.546Z"
   },
   {
    "duration": -1756,
    "start_time": "2021-07-23T10:34:22.551Z"
   },
   {
    "duration": -1760,
    "start_time": "2021-07-23T10:34:22.556Z"
   },
   {
    "duration": -1766,
    "start_time": "2021-07-23T10:34:22.563Z"
   },
   {
    "duration": -1770,
    "start_time": "2021-07-23T10:34:22.569Z"
   },
   {
    "duration": -1774,
    "start_time": "2021-07-23T10:34:22.574Z"
   },
   {
    "duration": -1799,
    "start_time": "2021-07-23T10:34:22.600Z"
   },
   {
    "duration": -1803,
    "start_time": "2021-07-23T10:34:22.606Z"
   },
   {
    "duration": -1809,
    "start_time": "2021-07-23T10:34:22.613Z"
   },
   {
    "duration": -1813,
    "start_time": "2021-07-23T10:34:22.618Z"
   },
   {
    "duration": -1816,
    "start_time": "2021-07-23T10:34:22.623Z"
   },
   {
    "duration": -1822,
    "start_time": "2021-07-23T10:34:22.630Z"
   },
   {
    "duration": -1825,
    "start_time": "2021-07-23T10:34:22.635Z"
   },
   {
    "duration": -1829,
    "start_time": "2021-07-23T10:34:22.640Z"
   },
   {
    "duration": -1835,
    "start_time": "2021-07-23T10:34:22.647Z"
   },
   {
    "duration": -1839,
    "start_time": "2021-07-23T10:34:22.652Z"
   },
   {
    "duration": -1842,
    "start_time": "2021-07-23T10:34:22.657Z"
   },
   {
    "duration": -1848,
    "start_time": "2021-07-23T10:34:22.664Z"
   },
   {
    "duration": -1850,
    "start_time": "2021-07-23T10:34:22.668Z"
   },
   {
    "duration": -1854,
    "start_time": "2021-07-23T10:34:22.673Z"
   },
   {
    "duration": -1859,
    "start_time": "2021-07-23T10:34:22.680Z"
   },
   {
    "duration": -1863,
    "start_time": "2021-07-23T10:34:22.685Z"
   },
   {
    "duration": -1867,
    "start_time": "2021-07-23T10:34:22.690Z"
   },
   {
    "duration": -1873,
    "start_time": "2021-07-23T10:34:22.697Z"
   },
   {
    "duration": -1820,
    "start_time": "2021-07-23T10:34:22.702Z"
   },
   {
    "duration": -1823,
    "start_time": "2021-07-23T10:34:22.707Z"
   },
   {
    "duration": -1829,
    "start_time": "2021-07-23T10:34:22.714Z"
   },
   {
    "duration": -1833,
    "start_time": "2021-07-23T10:34:22.719Z"
   },
   {
    "duration": -1835,
    "start_time": "2021-07-23T10:34:22.723Z"
   },
   {
    "duration": -1841,
    "start_time": "2021-07-23T10:34:22.731Z"
   },
   {
    "duration": -1844,
    "start_time": "2021-07-23T10:34:22.735Z"
   },
   {
    "duration": -1848,
    "start_time": "2021-07-23T10:34:22.740Z"
   },
   {
    "duration": -1854,
    "start_time": "2021-07-23T10:34:22.748Z"
   },
   {
    "duration": 420,
    "start_time": "2021-07-23T10:34:36.600Z"
   },
   {
    "duration": 78,
    "start_time": "2021-07-23T10:34:42.453Z"
   },
   {
    "duration": 4643,
    "start_time": "2021-07-23T10:34:45.659Z"
   },
   {
    "duration": 55,
    "start_time": "2021-07-23T10:35:00.899Z"
   },
   {
    "duration": 4,
    "start_time": "2021-07-23T10:35:09.825Z"
   },
   {
    "duration": 113,
    "start_time": "2021-07-23T10:35:09.833Z"
   },
   {
    "duration": 4,
    "start_time": "2021-07-23T10:35:09.949Z"
   },
   {
    "duration": 50,
    "start_time": "2021-07-23T10:35:09.955Z"
   },
   {
    "duration": 10,
    "start_time": "2021-07-23T10:35:10.008Z"
   },
   {
    "duration": 64,
    "start_time": "2021-07-23T10:35:10.021Z"
   },
   {
    "duration": 13,
    "start_time": "2021-07-23T10:35:10.089Z"
   },
   {
    "duration": 8,
    "start_time": "2021-07-23T10:35:10.106Z"
   },
   {
    "duration": 22,
    "start_time": "2021-07-23T10:35:10.116Z"
   },
   {
    "duration": 58,
    "start_time": "2021-07-23T10:35:10.140Z"
   },
   {
    "duration": 3,
    "start_time": "2021-07-23T10:35:10.200Z"
   },
   {
    "duration": 6583,
    "start_time": "2021-07-23T10:35:10.206Z"
   },
   {
    "duration": 8,
    "start_time": "2021-07-23T10:35:16.792Z"
   },
   {
    "duration": 15,
    "start_time": "2021-07-23T10:35:16.803Z"
   },
   {
    "duration": 9,
    "start_time": "2021-07-23T10:35:16.820Z"
   },
   {
    "duration": 18,
    "start_time": "2021-07-23T10:35:16.831Z"
   },
   {
    "duration": 33,
    "start_time": "2021-07-23T10:35:16.851Z"
   },
   {
    "duration": 48,
    "start_time": "2021-07-23T10:35:16.886Z"
   },
   {
    "duration": 46,
    "start_time": "2021-07-23T10:35:16.940Z"
   },
   {
    "duration": 54,
    "start_time": "2021-07-23T10:35:16.990Z"
   },
   {
    "duration": 46,
    "start_time": "2021-07-23T10:35:17.047Z"
   },
   {
    "duration": 9,
    "start_time": "2021-07-23T10:35:17.096Z"
   },
   {
    "duration": 15,
    "start_time": "2021-07-23T10:35:17.107Z"
   },
   {
    "duration": 61,
    "start_time": "2021-07-23T10:35:17.125Z"
   },
   {
    "duration": 13,
    "start_time": "2021-07-23T10:35:17.188Z"
   },
   {
    "duration": 37,
    "start_time": "2021-07-23T10:35:17.203Z"
   },
   {
    "duration": 68,
    "start_time": "2021-07-23T10:35:17.242Z"
   },
   {
    "duration": 854,
    "start_time": "2021-07-23T10:35:17.312Z"
   },
   {
    "duration": -1557,
    "start_time": "2021-07-23T10:35:19.726Z"
   },
   {
    "duration": -1564,
    "start_time": "2021-07-23T10:35:19.734Z"
   },
   {
    "duration": -1568,
    "start_time": "2021-07-23T10:35:19.739Z"
   },
   {
    "duration": -1567,
    "start_time": "2021-07-23T10:35:19.749Z"
   },
   {
    "duration": -1570,
    "start_time": "2021-07-23T10:35:19.753Z"
   },
   {
    "duration": -1574,
    "start_time": "2021-07-23T10:35:19.758Z"
   },
   {
    "duration": -1582,
    "start_time": "2021-07-23T10:35:19.767Z"
   },
   {
    "duration": -1629,
    "start_time": "2021-07-23T10:35:19.816Z"
   },
   {
    "duration": -1633,
    "start_time": "2021-07-23T10:35:19.821Z"
   },
   {
    "duration": -1641,
    "start_time": "2021-07-23T10:35:19.830Z"
   },
   {
    "duration": -1644,
    "start_time": "2021-07-23T10:35:19.835Z"
   },
   {
    "duration": -1648,
    "start_time": "2021-07-23T10:35:19.840Z"
   },
   {
    "duration": -1654,
    "start_time": "2021-07-23T10:35:19.848Z"
   },
   {
    "duration": -1658,
    "start_time": "2021-07-23T10:35:19.853Z"
   },
   {
    "duration": -1662,
    "start_time": "2021-07-23T10:35:19.858Z"
   },
   {
    "duration": -1668,
    "start_time": "2021-07-23T10:35:19.866Z"
   },
   {
    "duration": -1672,
    "start_time": "2021-07-23T10:35:19.871Z"
   },
   {
    "duration": -1680,
    "start_time": "2021-07-23T10:35:19.880Z"
   },
   {
    "duration": -1684,
    "start_time": "2021-07-23T10:35:19.885Z"
   },
   {
    "duration": -1696,
    "start_time": "2021-07-23T10:35:19.898Z"
   },
   {
    "duration": -1716,
    "start_time": "2021-07-23T10:35:19.920Z"
   },
   {
    "duration": -1720,
    "start_time": "2021-07-23T10:35:19.925Z"
   },
   {
    "duration": -1727,
    "start_time": "2021-07-23T10:35:19.934Z"
   },
   {
    "duration": -1730,
    "start_time": "2021-07-23T10:35:19.938Z"
   },
   {
    "duration": -1738,
    "start_time": "2021-07-23T10:35:19.947Z"
   },
   {
    "duration": -1741,
    "start_time": "2021-07-23T10:35:19.951Z"
   },
   {
    "duration": -1744,
    "start_time": "2021-07-23T10:35:19.956Z"
   },
   {
    "duration": -1751,
    "start_time": "2021-07-23T10:35:19.964Z"
   },
   {
    "duration": -1755,
    "start_time": "2021-07-23T10:35:19.969Z"
   },
   {
    "duration": -1758,
    "start_time": "2021-07-23T10:35:19.974Z"
   },
   {
    "duration": -1763,
    "start_time": "2021-07-23T10:35:19.981Z"
   },
   {
    "duration": -1767,
    "start_time": "2021-07-23T10:35:19.986Z"
   },
   {
    "duration": -1771,
    "start_time": "2021-07-23T10:35:19.991Z"
   },
   {
    "duration": -1716,
    "start_time": "2021-07-23T10:35:19.998Z"
   },
   {
    "duration": -1719,
    "start_time": "2021-07-23T10:35:20.003Z"
   },
   {
    "duration": -1722,
    "start_time": "2021-07-23T10:35:20.007Z"
   },
   {
    "duration": -1729,
    "start_time": "2021-07-23T10:35:20.015Z"
   },
   {
    "duration": -1733,
    "start_time": "2021-07-23T10:35:20.020Z"
   },
   {
    "duration": -1736,
    "start_time": "2021-07-23T10:35:20.025Z"
   },
   {
    "duration": -1742,
    "start_time": "2021-07-23T10:35:20.032Z"
   },
   {
    "duration": -1745,
    "start_time": "2021-07-23T10:35:20.037Z"
   },
   {
    "duration": -1749,
    "start_time": "2021-07-23T10:35:20.042Z"
   },
   {
    "duration": 47,
    "start_time": "2021-07-23T10:36:07.233Z"
   },
   {
    "duration": 4,
    "start_time": "2021-07-23T10:36:10.517Z"
   },
   {
    "duration": 103,
    "start_time": "2021-07-23T10:36:10.803Z"
   },
   {
    "duration": 4,
    "start_time": "2021-07-23T10:36:13.624Z"
   },
   {
    "duration": 26,
    "start_time": "2021-07-23T10:36:15.236Z"
   },
   {
    "duration": 11,
    "start_time": "2021-07-23T10:36:15.951Z"
   },
   {
    "duration": 20,
    "start_time": "2021-07-23T10:36:16.568Z"
   },
   {
    "duration": 9,
    "start_time": "2021-07-23T10:36:18.398Z"
   },
   {
    "duration": 10,
    "start_time": "2021-07-23T10:36:19.115Z"
   },
   {
    "duration": 23,
    "start_time": "2021-07-23T10:36:19.356Z"
   },
   {
    "duration": 23,
    "start_time": "2021-07-23T10:36:19.896Z"
   },
   {
    "duration": 4,
    "start_time": "2021-07-23T10:36:20.579Z"
   },
   {
    "duration": 6398,
    "start_time": "2021-07-23T10:36:20.951Z"
   },
   {
    "duration": 9,
    "start_time": "2021-07-23T10:36:30.072Z"
   },
   {
    "duration": 5,
    "start_time": "2021-07-23T10:36:30.766Z"
   },
   {
    "duration": 4,
    "start_time": "2021-07-23T10:36:31.266Z"
   },
   {
    "duration": 15,
    "start_time": "2021-07-23T10:36:31.524Z"
   },
   {
    "duration": 10,
    "start_time": "2021-07-23T10:36:31.900Z"
   },
   {
    "duration": 45,
    "start_time": "2021-07-23T10:36:32.430Z"
   },
   {
    "duration": 29,
    "start_time": "2021-07-23T10:36:33.080Z"
   },
   {
    "duration": 59,
    "start_time": "2021-07-23T10:36:33.711Z"
   },
   {
    "duration": 24,
    "start_time": "2021-07-23T10:36:34.292Z"
   },
   {
    "duration": 11,
    "start_time": "2021-07-23T10:36:34.998Z"
   },
   {
    "duration": 19,
    "start_time": "2021-07-23T10:36:38.799Z"
   },
   {
    "duration": 34,
    "start_time": "2021-07-23T10:36:39.255Z"
   },
   {
    "duration": 11,
    "start_time": "2021-07-23T10:36:39.504Z"
   },
   {
    "duration": 35,
    "start_time": "2021-07-23T10:36:39.975Z"
   },
   {
    "duration": 34,
    "start_time": "2021-07-23T10:36:40.215Z"
   },
   {
    "duration": 645,
    "start_time": "2021-07-23T10:36:40.471Z"
   },
   {
    "duration": 9,
    "start_time": "2021-07-23T10:36:41.135Z"
   },
   {
    "duration": 7,
    "start_time": "2021-07-23T10:36:41.390Z"
   },
   {
    "duration": 15,
    "start_time": "2021-07-23T10:36:41.622Z"
   },
   {
    "duration": 808,
    "start_time": "2021-07-23T10:39:52.430Z"
   },
   {
    "duration": 326,
    "start_time": "2021-07-23T10:40:05.400Z"
   },
   {
    "duration": 318,
    "start_time": "2021-07-23T10:40:13.303Z"
   },
   {
    "duration": 304,
    "start_time": "2021-07-23T10:40:21.240Z"
   },
   {
    "duration": 14,
    "start_time": "2021-07-23T10:40:31.606Z"
   },
   {
    "duration": 332,
    "start_time": "2021-07-23T10:40:33.002Z"
   },
   {
    "duration": 322,
    "start_time": "2021-07-23T10:41:33.023Z"
   },
   {
    "duration": 341,
    "start_time": "2021-07-23T10:41:42.447Z"
   },
   {
    "duration": 4,
    "start_time": "2021-07-23T10:42:12.620Z"
   },
   {
    "duration": 8,
    "start_time": "2021-07-23T10:42:12.630Z"
   },
   {
    "duration": 64,
    "start_time": "2021-07-23T10:42:12.640Z"
   },
   {
    "duration": 6,
    "start_time": "2021-07-23T10:42:12.708Z"
   },
   {
    "duration": 190,
    "start_time": "2021-07-23T10:42:12.717Z"
   },
   {
    "duration": 5,
    "start_time": "2021-07-23T10:42:12.910Z"
   },
   {
    "duration": 43,
    "start_time": "2021-07-23T10:42:12.917Z"
   },
   {
    "duration": 28,
    "start_time": "2021-07-23T10:42:12.963Z"
   },
   {
    "duration": 18,
    "start_time": "2021-07-23T10:42:12.996Z"
   },
   {
    "duration": 10,
    "start_time": "2021-07-23T10:42:13.017Z"
   },
   {
    "duration": 22,
    "start_time": "2021-07-23T10:42:13.030Z"
   },
   {
    "duration": 43,
    "start_time": "2021-07-23T10:42:13.055Z"
   },
   {
    "duration": 38,
    "start_time": "2021-07-23T10:42:13.100Z"
   },
   {
    "duration": 13,
    "start_time": "2021-07-23T10:42:13.141Z"
   },
   {
    "duration": 8400,
    "start_time": "2021-07-23T10:42:13.157Z"
   },
   {
    "duration": 8,
    "start_time": "2021-07-23T10:42:21.560Z"
   },
   {
    "duration": 15,
    "start_time": "2021-07-23T10:42:21.571Z"
   },
   {
    "duration": 6,
    "start_time": "2021-07-23T10:42:21.589Z"
   },
   {
    "duration": 24,
    "start_time": "2021-07-23T10:42:21.598Z"
   },
   {
    "duration": 8,
    "start_time": "2021-07-23T10:42:21.626Z"
   },
   {
    "duration": 95,
    "start_time": "2021-07-23T10:42:21.637Z"
   },
   {
    "duration": 52,
    "start_time": "2021-07-23T10:42:21.735Z"
   },
   {
    "duration": 92,
    "start_time": "2021-07-23T10:42:21.790Z"
   },
   {
    "duration": 27,
    "start_time": "2021-07-23T10:42:21.891Z"
   },
   {
    "duration": 9,
    "start_time": "2021-07-23T10:42:21.922Z"
   },
   {
    "duration": 49,
    "start_time": "2021-07-23T10:42:21.934Z"
   },
   {
    "duration": 34,
    "start_time": "2021-07-23T10:42:21.986Z"
   },
   {
    "duration": 14,
    "start_time": "2021-07-23T10:42:22.023Z"
   },
   {
    "duration": 67,
    "start_time": "2021-07-23T10:42:22.040Z"
   },
   {
    "duration": 32,
    "start_time": "2021-07-23T10:42:22.110Z"
   },
   {
    "duration": 417,
    "start_time": "2021-07-23T10:42:22.145Z"
   },
   {
    "duration": 26,
    "start_time": "2021-07-23T10:42:22.565Z"
   },
   {
    "duration": 16,
    "start_time": "2021-07-23T10:42:22.594Z"
   },
   {
    "duration": 22,
    "start_time": "2021-07-23T10:42:22.612Z"
   },
   {
    "duration": 346,
    "start_time": "2021-07-23T10:42:22.636Z"
   },
   {
    "duration": 12,
    "start_time": "2021-07-23T10:42:22.986Z"
   },
   {
    "duration": 17,
    "start_time": "2021-07-23T10:42:23.001Z"
   },
   {
    "duration": 17,
    "start_time": "2021-07-23T10:42:23.021Z"
   },
   {
    "duration": 14,
    "start_time": "2021-07-23T10:42:23.042Z"
   },
   {
    "duration": 1276,
    "start_time": "2021-07-23T10:42:23.059Z"
   },
   {
    "duration": 691,
    "start_time": "2021-07-23T10:42:24.339Z"
   },
   {
    "duration": -1560,
    "start_time": "2021-07-23T10:42:26.593Z"
   },
   {
    "duration": -1565,
    "start_time": "2021-07-23T10:42:26.599Z"
   },
   {
    "duration": -1570,
    "start_time": "2021-07-23T10:42:26.606Z"
   },
   {
    "duration": -1574,
    "start_time": "2021-07-23T10:42:26.611Z"
   },
   {
    "duration": -1577,
    "start_time": "2021-07-23T10:42:26.616Z"
   },
   {
    "duration": -1582,
    "start_time": "2021-07-23T10:42:26.623Z"
   },
   {
    "duration": -1586,
    "start_time": "2021-07-23T10:42:26.628Z"
   },
   {
    "duration": -1590,
    "start_time": "2021-07-23T10:42:26.633Z"
   },
   {
    "duration": -1641,
    "start_time": "2021-07-23T10:42:26.685Z"
   },
   {
    "duration": -1665,
    "start_time": "2021-07-23T10:42:26.710Z"
   },
   {
    "duration": -1668,
    "start_time": "2021-07-23T10:42:26.714Z"
   },
   {
    "duration": -1675,
    "start_time": "2021-07-23T10:42:26.722Z"
   },
   {
    "duration": -1679,
    "start_time": "2021-07-23T10:42:26.727Z"
   },
   {
    "duration": -1682,
    "start_time": "2021-07-23T10:42:26.731Z"
   },
   {
    "duration": -1688,
    "start_time": "2021-07-23T10:42:26.739Z"
   },
   {
    "duration": -1691,
    "start_time": "2021-07-23T10:42:26.744Z"
   },
   {
    "duration": -1693,
    "start_time": "2021-07-23T10:42:26.749Z"
   },
   {
    "duration": -1699,
    "start_time": "2021-07-23T10:42:26.756Z"
   },
   {
    "duration": -1702,
    "start_time": "2021-07-23T10:42:26.761Z"
   },
   {
    "duration": -1707,
    "start_time": "2021-07-23T10:42:26.767Z"
   },
   {
    "duration": -1713,
    "start_time": "2021-07-23T10:42:26.774Z"
   },
   {
    "duration": -1715,
    "start_time": "2021-07-23T10:42:26.778Z"
   },
   {
    "duration": -1729,
    "start_time": "2021-07-23T10:42:26.794Z"
   },
   {
    "duration": -1734,
    "start_time": "2021-07-23T10:42:26.800Z"
   },
   {
    "duration": -1740,
    "start_time": "2021-07-23T10:42:26.807Z"
   },
   {
    "duration": -1743,
    "start_time": "2021-07-23T10:42:26.812Z"
   },
   {
    "duration": -1747,
    "start_time": "2021-07-23T10:42:26.817Z"
   },
   {
    "duration": -1752,
    "start_time": "2021-07-23T10:42:26.824Z"
   },
   {
    "duration": -1757,
    "start_time": "2021-07-23T10:42:26.830Z"
   },
   {
    "duration": -1760,
    "start_time": "2021-07-23T10:42:26.834Z"
   },
   {
    "duration": -1760,
    "start_time": "2021-07-23T10:42:26.842Z"
   },
   {
    "duration": -1764,
    "start_time": "2021-07-23T10:42:26.847Z"
   },
   {
    "duration": 46080,
    "start_time": "2021-07-23T10:43:27.492Z"
   },
   {
    "duration": 4,
    "start_time": "2021-07-23T10:44:13.575Z"
   },
   {
    "duration": 60,
    "start_time": "2021-07-23T10:44:13.583Z"
   },
   {
    "duration": 4,
    "start_time": "2021-07-23T10:44:13.646Z"
   },
   {
    "duration": 104,
    "start_time": "2021-07-23T10:44:13.653Z"
   },
   {
    "duration": 4,
    "start_time": "2021-07-23T10:44:13.759Z"
   },
   {
    "duration": 33,
    "start_time": "2021-07-23T10:44:13.766Z"
   },
   {
    "duration": 10,
    "start_time": "2021-07-23T10:44:13.803Z"
   },
   {
    "duration": 13,
    "start_time": "2021-07-23T10:44:13.816Z"
   },
   {
    "duration": 12,
    "start_time": "2021-07-23T10:44:13.831Z"
   },
   {
    "duration": 40,
    "start_time": "2021-07-23T10:44:13.845Z"
   },
   {
    "duration": 33,
    "start_time": "2021-07-23T10:44:13.887Z"
   },
   {
    "duration": 32,
    "start_time": "2021-07-23T10:44:13.922Z"
   },
   {
    "duration": 8,
    "start_time": "2021-07-23T10:44:13.957Z"
   },
   {
    "duration": 6357,
    "start_time": "2021-07-23T10:44:13.967Z"
   },
   {
    "duration": 10,
    "start_time": "2021-07-23T10:44:20.327Z"
   },
   {
    "duration": 16,
    "start_time": "2021-07-23T10:44:20.339Z"
   },
   {
    "duration": 13,
    "start_time": "2021-07-23T10:44:20.358Z"
   },
   {
    "duration": 17,
    "start_time": "2021-07-23T10:44:20.382Z"
   },
   {
    "duration": 11,
    "start_time": "2021-07-23T10:44:20.402Z"
   },
   {
    "duration": 67,
    "start_time": "2021-07-23T10:44:20.415Z"
   },
   {
    "duration": 30,
    "start_time": "2021-07-23T10:44:20.484Z"
   },
   {
    "duration": 78,
    "start_time": "2021-07-23T10:44:20.522Z"
   },
   {
    "duration": 25,
    "start_time": "2021-07-23T10:44:20.605Z"
   },
   {
    "duration": 9,
    "start_time": "2021-07-23T10:44:20.633Z"
   },
   {
    "duration": 43,
    "start_time": "2021-07-23T10:44:20.644Z"
   },
   {
    "duration": 30,
    "start_time": "2021-07-23T10:44:20.690Z"
   },
   {
    "duration": 10,
    "start_time": "2021-07-23T10:44:20.723Z"
   },
   {
    "duration": 61,
    "start_time": "2021-07-23T10:44:20.736Z"
   },
   {
    "duration": 33,
    "start_time": "2021-07-23T10:44:20.800Z"
   },
   {
    "duration": 380,
    "start_time": "2021-07-23T10:44:20.835Z"
   },
   {
    "duration": 9,
    "start_time": "2021-07-23T10:44:21.217Z"
   },
   {
    "duration": 15,
    "start_time": "2021-07-23T10:44:21.228Z"
   },
   {
    "duration": 29,
    "start_time": "2021-07-23T10:44:21.245Z"
   },
   {
    "duration": 409,
    "start_time": "2021-07-23T10:44:21.277Z"
   },
   {
    "duration": 9,
    "start_time": "2021-07-23T10:44:21.689Z"
   },
   {
    "duration": 1084,
    "start_time": "2021-07-23T10:44:21.700Z"
   },
   {
    "duration": 839,
    "start_time": "2021-07-23T10:44:22.787Z"
   },
   {
    "duration": 10,
    "start_time": "2021-07-23T10:44:23.628Z"
   },
   {
    "duration": 1103,
    "start_time": "2021-07-23T10:44:23.640Z"
   },
   {
    "duration": 289,
    "start_time": "2021-07-23T10:44:24.746Z"
   },
   {
    "duration": -1554,
    "start_time": "2021-07-23T10:44:26.592Z"
   },
   {
    "duration": -1556,
    "start_time": "2021-07-23T10:44:26.596Z"
   },
   {
    "duration": -1559,
    "start_time": "2021-07-23T10:44:26.600Z"
   },
   {
    "duration": -1561,
    "start_time": "2021-07-23T10:44:26.604Z"
   },
   {
    "duration": -1566,
    "start_time": "2021-07-23T10:44:26.610Z"
   },
   {
    "duration": -1569,
    "start_time": "2021-07-23T10:44:26.614Z"
   },
   {
    "duration": -1571,
    "start_time": "2021-07-23T10:44:26.618Z"
   },
   {
    "duration": -1593,
    "start_time": "2021-07-23T10:44:26.641Z"
   },
   {
    "duration": -1595,
    "start_time": "2021-07-23T10:44:26.644Z"
   },
   {
    "duration": -1598,
    "start_time": "2021-07-23T10:44:26.648Z"
   },
   {
    "duration": -1601,
    "start_time": "2021-07-23T10:44:26.653Z"
   },
   {
    "duration": -1607,
    "start_time": "2021-07-23T10:44:26.660Z"
   },
   {
    "duration": -1609,
    "start_time": "2021-07-23T10:44:26.663Z"
   },
   {
    "duration": -1611,
    "start_time": "2021-07-23T10:44:26.667Z"
   },
   {
    "duration": -1617,
    "start_time": "2021-07-23T10:44:26.674Z"
   },
   {
    "duration": -1619,
    "start_time": "2021-07-23T10:44:26.677Z"
   },
   {
    "duration": -1621,
    "start_time": "2021-07-23T10:44:26.681Z"
   },
   {
    "duration": -1624,
    "start_time": "2021-07-23T10:44:26.685Z"
   },
   {
    "duration": -1629,
    "start_time": "2021-07-23T10:44:26.691Z"
   },
   {
    "duration": -1631,
    "start_time": "2021-07-23T10:44:26.695Z"
   },
   {
    "duration": -1636,
    "start_time": "2021-07-23T10:44:26.701Z"
   },
   {
    "duration": -1641,
    "start_time": "2021-07-23T10:44:26.708Z"
   },
   {
    "duration": -1644,
    "start_time": "2021-07-23T10:44:26.712Z"
   },
   {
    "duration": -1647,
    "start_time": "2021-07-23T10:44:26.716Z"
   },
   {
    "duration": -1649,
    "start_time": "2021-07-23T10:44:26.720Z"
   },
   {
    "duration": -1654,
    "start_time": "2021-07-23T10:44:26.726Z"
   },
   {
    "duration": -1656,
    "start_time": "2021-07-23T10:44:26.730Z"
   },
   {
    "duration": -1659,
    "start_time": "2021-07-23T10:44:26.734Z"
   },
   {
    "duration": -1661,
    "start_time": "2021-07-23T10:44:26.737Z"
   },
   {
    "duration": -1666,
    "start_time": "2021-07-23T10:44:26.743Z"
   },
   {
    "duration": -1665,
    "start_time": "2021-07-23T10:44:26.747Z"
   },
   {
    "duration": -1674,
    "start_time": "2021-07-23T10:44:26.758Z"
   },
   {
    "duration": 250,
    "start_time": "2021-07-23T10:45:10.743Z"
   },
   {
    "duration": 3119,
    "start_time": "2021-07-23T10:45:23.777Z"
   },
   {
    "duration": 299,
    "start_time": "2021-07-23T10:46:25.293Z"
   },
   {
    "duration": 648691,
    "start_time": "2021-11-19T12:16:56.395Z"
   },
   {
    "duration": 2,
    "start_time": "2021-11-19T12:27:45.089Z"
   },
   {
    "duration": 1706,
    "start_time": "2021-11-19T12:27:45.093Z"
   },
   {
    "duration": 3,
    "start_time": "2021-11-19T12:27:46.806Z"
   },
   {
    "duration": 126,
    "start_time": "2021-11-19T12:27:46.811Z"
   },
   {
    "duration": 3,
    "start_time": "2021-11-19T12:27:46.939Z"
   },
   {
    "duration": 7,
    "start_time": "2021-11-19T12:27:46.945Z"
   },
   {
    "duration": 25,
    "start_time": "2021-11-19T12:27:46.955Z"
   },
   {
    "duration": 29,
    "start_time": "2021-11-19T12:27:46.983Z"
   },
   {
    "duration": 17,
    "start_time": "2021-11-19T12:27:47.014Z"
   },
   {
    "duration": 23,
    "start_time": "2021-11-19T12:27:47.033Z"
   },
   {
    "duration": 26,
    "start_time": "2021-11-19T12:27:47.058Z"
   },
   {
    "duration": 25,
    "start_time": "2021-11-19T12:27:47.086Z"
   },
   {
    "duration": 16,
    "start_time": "2021-11-19T12:27:47.114Z"
   },
   {
    "duration": 7,
    "start_time": "2021-11-19T12:27:47.131Z"
   },
   {
    "duration": 1875,
    "start_time": "2021-11-19T12:27:47.140Z"
   },
   {
    "duration": 5,
    "start_time": "2021-11-19T12:27:49.017Z"
   },
   {
    "duration": 590,
    "start_time": "2021-11-19T12:27:49.024Z"
   },
   {
    "duration": 10,
    "start_time": "2021-11-19T12:27:49.615Z"
   },
   {
    "duration": 9,
    "start_time": "2021-11-19T12:27:49.627Z"
   },
   {
    "duration": 277,
    "start_time": "2021-11-19T12:27:49.638Z"
   },
   {
    "duration": 9,
    "start_time": "2021-11-19T12:27:49.917Z"
   },
   {
    "duration": 318,
    "start_time": "2021-11-19T12:27:49.930Z"
   },
   {
    "duration": 326,
    "start_time": "2021-11-19T12:27:50.250Z"
   },
   {
    "duration": 409,
    "start_time": "2021-11-19T12:27:50.578Z"
   },
   {
    "duration": 330,
    "start_time": "2021-11-19T12:27:50.989Z"
   },
   {
    "duration": 389,
    "start_time": "2021-11-19T12:27:51.321Z"
   },
   {
    "duration": 416,
    "start_time": "2021-11-19T12:27:51.713Z"
   },
   {
    "duration": 83,
    "start_time": "2021-11-19T12:27:52.130Z"
   },
   {
    "duration": 269,
    "start_time": "2021-11-19T12:27:52.214Z"
   },
   {
    "duration": 273,
    "start_time": "2021-11-19T12:27:52.485Z"
   },
   {
    "duration": 4,
    "start_time": "2021-11-19T12:27:52.760Z"
   },
   {
    "duration": 1603,
    "start_time": "2021-11-19T12:27:52.767Z"
   },
   {
    "duration": 287,
    "start_time": "2021-11-19T12:27:54.372Z"
   },
   {
    "duration": 6,
    "start_time": "2021-11-19T12:27:54.661Z"
   },
   {
    "duration": 70,
    "start_time": "2021-11-19T12:27:54.669Z"
   },
   {
    "duration": 8,
    "start_time": "2021-11-19T12:27:54.741Z"
   },
   {
    "duration": 34,
    "start_time": "2021-11-19T12:27:54.750Z"
   },
   {
    "duration": 27,
    "start_time": "2021-11-19T12:27:54.785Z"
   },
   {
    "duration": 14,
    "start_time": "2021-11-19T12:27:54.814Z"
   },
   {
    "duration": 24,
    "start_time": "2021-11-19T12:27:54.830Z"
   },
   {
    "duration": 10,
    "start_time": "2021-11-19T12:27:54.856Z"
   },
   {
    "duration": 19,
    "start_time": "2021-11-19T12:27:54.868Z"
   },
   {
    "duration": 27,
    "start_time": "2021-11-19T12:27:54.889Z"
   },
   {
    "duration": 5,
    "start_time": "2021-11-19T12:27:54.917Z"
   },
   {
    "duration": 16,
    "start_time": "2021-11-19T12:27:54.924Z"
   },
   {
    "duration": 4,
    "start_time": "2021-12-21T09:01:31.189Z"
   },
   {
    "duration": 12,
    "start_time": "2021-12-21T09:01:31.195Z"
   },
   {
    "duration": 1481,
    "start_time": "2021-12-21T09:01:31.209Z"
   },
   {
    "duration": 4,
    "start_time": "2021-12-21T09:01:32.692Z"
   },
   {
    "duration": 123,
    "start_time": "2021-12-21T09:01:32.698Z"
   },
   {
    "duration": 5,
    "start_time": "2021-12-21T09:01:32.823Z"
   },
   {
    "duration": 10,
    "start_time": "2021-12-21T09:01:32.831Z"
   },
   {
    "duration": 41,
    "start_time": "2021-12-21T09:01:32.844Z"
   },
   {
    "duration": 42,
    "start_time": "2021-12-21T09:01:32.887Z"
   },
   {
    "duration": 21,
    "start_time": "2021-12-21T09:01:32.932Z"
   },
   {
    "duration": 20,
    "start_time": "2021-12-21T09:01:32.955Z"
   },
   {
    "duration": 38,
    "start_time": "2021-12-21T09:01:32.978Z"
   },
   {
    "duration": 14,
    "start_time": "2021-12-21T09:01:33.019Z"
   },
   {
    "duration": 6,
    "start_time": "2021-12-21T09:01:33.036Z"
   },
   {
    "duration": 16,
    "start_time": "2021-12-21T09:01:33.045Z"
   },
   {
    "duration": 65,
    "start_time": "2021-12-21T09:01:33.063Z"
   },
   {
    "duration": 26,
    "start_time": "2021-12-21T09:01:33.130Z"
   },
   {
    "duration": 5,
    "start_time": "2021-12-21T09:01:33.160Z"
   },
   {
    "duration": 8,
    "start_time": "2021-12-21T09:01:33.168Z"
   },
   {
    "duration": 42,
    "start_time": "2021-12-21T09:01:33.178Z"
   },
   {
    "duration": 17,
    "start_time": "2021-12-21T09:01:33.222Z"
   },
   {
    "duration": 20,
    "start_time": "2021-12-21T09:01:33.242Z"
   },
   {
    "duration": 22,
    "start_time": "2021-12-21T09:01:33.264Z"
   },
   {
    "duration": 28,
    "start_time": "2021-12-21T09:01:33.289Z"
   },
   {
    "duration": 934,
    "start_time": "2021-12-21T09:01:33.320Z"
   },
   {
    "duration": 68404,
    "start_time": "2021-12-21T09:00:25.853Z"
   },
   {
    "duration": 68395,
    "start_time": "2021-12-21T09:00:25.863Z"
   },
   {
    "duration": 68388,
    "start_time": "2021-12-21T09:00:25.872Z"
   },
   {
    "duration": 68383,
    "start_time": "2021-12-21T09:00:25.878Z"
   },
   {
    "duration": 68378,
    "start_time": "2021-12-21T09:00:25.885Z"
   },
   {
    "duration": 68372,
    "start_time": "2021-12-21T09:00:25.892Z"
   },
   {
    "duration": 68367,
    "start_time": "2021-12-21T09:00:25.899Z"
   },
   {
    "duration": 68354,
    "start_time": "2021-12-21T09:00:25.913Z"
   },
   {
    "duration": 68347,
    "start_time": "2021-12-21T09:00:25.921Z"
   },
   {
    "duration": 68342,
    "start_time": "2021-12-21T09:00:25.928Z"
   },
   {
    "duration": 68333,
    "start_time": "2021-12-21T09:00:25.938Z"
   },
   {
    "duration": 68329,
    "start_time": "2021-12-21T09:00:25.944Z"
   },
   {
    "duration": 68323,
    "start_time": "2021-12-21T09:00:25.951Z"
   },
   {
    "duration": 68318,
    "start_time": "2021-12-21T09:00:25.957Z"
   },
   {
    "duration": 68313,
    "start_time": "2021-12-21T09:00:25.964Z"
   },
   {
    "duration": 68308,
    "start_time": "2021-12-21T09:00:25.970Z"
   },
   {
    "duration": 68290,
    "start_time": "2021-12-21T09:00:25.989Z"
   },
   {
    "duration": 68286,
    "start_time": "2021-12-21T09:00:25.995Z"
   },
   {
    "duration": 68280,
    "start_time": "2021-12-21T09:00:26.002Z"
   },
   {
    "duration": 68275,
    "start_time": "2021-12-21T09:00:26.009Z"
   },
   {
    "duration": 68265,
    "start_time": "2021-12-21T09:00:26.020Z"
   },
   {
    "duration": 68260,
    "start_time": "2021-12-21T09:00:26.026Z"
   },
   {
    "duration": 68255,
    "start_time": "2021-12-21T09:00:26.033Z"
   },
   {
    "duration": 68250,
    "start_time": "2021-12-21T09:00:26.039Z"
   },
   {
    "duration": 68246,
    "start_time": "2021-12-21T09:00:26.045Z"
   },
   {
    "duration": 68265,
    "start_time": "2021-12-21T09:00:26.052Z"
   },
   {
    "duration": 68257,
    "start_time": "2021-12-21T09:00:26.061Z"
   },
   {
    "duration": 68251,
    "start_time": "2021-12-21T09:00:26.069Z"
   },
   {
    "duration": 68245,
    "start_time": "2021-12-21T09:00:26.076Z"
   },
   {
    "duration": 68241,
    "start_time": "2021-12-21T09:00:26.082Z"
   },
   {
    "duration": 542799,
    "start_time": "2021-12-21T09:04:09.677Z"
   },
   {
    "duration": 3,
    "start_time": "2021-12-21T09:13:12.479Z"
   },
   {
    "duration": 2779,
    "start_time": "2021-12-21T09:13:12.485Z"
   },
   {
    "duration": 3,
    "start_time": "2021-12-21T09:13:15.267Z"
   },
   {
    "duration": 89,
    "start_time": "2021-12-21T09:13:15.273Z"
   },
   {
    "duration": 5,
    "start_time": "2021-12-21T09:13:15.364Z"
   },
   {
    "duration": 7,
    "start_time": "2021-12-21T09:13:15.371Z"
   },
   {
    "duration": 41,
    "start_time": "2021-12-21T09:13:15.381Z"
   },
   {
    "duration": 34,
    "start_time": "2021-12-21T09:13:15.425Z"
   },
   {
    "duration": 23,
    "start_time": "2021-12-21T09:13:15.461Z"
   },
   {
    "duration": 17,
    "start_time": "2021-12-21T09:13:15.517Z"
   },
   {
    "duration": 10,
    "start_time": "2021-12-21T09:13:15.536Z"
   },
   {
    "duration": 10,
    "start_time": "2021-12-21T09:13:15.549Z"
   },
   {
    "duration": 7,
    "start_time": "2021-12-21T09:13:15.562Z"
   },
   {
    "duration": 58,
    "start_time": "2021-12-21T09:13:15.571Z"
   },
   {
    "duration": 22,
    "start_time": "2021-12-21T09:13:15.631Z"
   },
   {
    "duration": 19,
    "start_time": "2021-12-21T09:13:15.655Z"
   },
   {
    "duration": 41,
    "start_time": "2021-12-21T09:13:15.676Z"
   },
   {
    "duration": 8,
    "start_time": "2021-12-21T09:13:15.719Z"
   },
   {
    "duration": 14,
    "start_time": "2021-12-21T09:13:15.729Z"
   },
   {
    "duration": 17,
    "start_time": "2021-12-21T09:13:15.745Z"
   },
   {
    "duration": 9,
    "start_time": "2021-12-21T09:13:15.764Z"
   },
   {
    "duration": 17,
    "start_time": "2021-12-21T09:13:15.816Z"
   },
   {
    "duration": 6,
    "start_time": "2021-12-21T09:13:15.836Z"
   },
   {
    "duration": 2935,
    "start_time": "2021-12-21T09:13:15.844Z"
   },
   {
    "duration": 6,
    "start_time": "2021-12-21T09:13:18.782Z"
   },
   {
    "duration": 891,
    "start_time": "2021-12-21T09:13:18.790Z"
   },
   {
    "duration": 13,
    "start_time": "2021-12-21T09:13:19.683Z"
   },
   {
    "duration": 20,
    "start_time": "2021-12-21T09:13:19.699Z"
   },
   {
    "duration": 431,
    "start_time": "2021-12-21T09:13:19.722Z"
   },
   {
    "duration": 12,
    "start_time": "2021-12-21T09:13:20.155Z"
   },
   {
    "duration": 452,
    "start_time": "2021-12-21T09:13:20.169Z"
   },
   {
    "duration": 559,
    "start_time": "2021-12-21T09:13:20.625Z"
   },
   {
    "duration": 406,
    "start_time": "2021-12-21T09:13:21.186Z"
   },
   {
    "duration": 406,
    "start_time": "2021-12-21T09:13:21.594Z"
   },
   {
    "duration": 437,
    "start_time": "2021-12-21T09:13:22.003Z"
   },
   {
    "duration": 461,
    "start_time": "2021-12-21T09:13:22.443Z"
   },
   {
    "duration": 597,
    "start_time": "2021-12-21T09:13:22.906Z"
   },
   {
    "duration": 961,
    "start_time": "2021-12-21T09:13:23.505Z"
   },
   {
    "duration": 1115,
    "start_time": "2021-12-21T09:13:24.469Z"
   },
   {
    "duration": 407,
    "start_time": "2021-12-21T09:13:25.587Z"
   },
   {
    "duration": 3341,
    "start_time": "2021-12-21T09:13:25.997Z"
   },
   {
    "duration": 292,
    "start_time": "2021-12-21T09:13:29.340Z"
   },
   {
    "duration": 7,
    "start_time": "2021-12-21T09:13:29.635Z"
   },
   {
    "duration": 114,
    "start_time": "2021-12-21T09:13:29.644Z"
   },
   {
    "duration": 9,
    "start_time": "2021-12-21T09:13:29.761Z"
   },
   {
    "duration": 47,
    "start_time": "2021-12-21T09:13:29.773Z"
   },
   {
    "duration": 13,
    "start_time": "2021-12-21T09:13:29.822Z"
   },
   {
    "duration": 21,
    "start_time": "2021-12-21T09:13:29.838Z"
   },
   {
    "duration": 14,
    "start_time": "2021-12-21T09:13:29.862Z"
   },
   {
    "duration": 5,
    "start_time": "2021-12-21T09:13:29.918Z"
   },
   {
    "duration": 13,
    "start_time": "2021-12-21T09:13:29.925Z"
   },
   {
    "duration": 29,
    "start_time": "2021-12-21T09:13:29.940Z"
   },
   {
    "duration": 6,
    "start_time": "2021-12-21T09:13:29.971Z"
   },
   {
    "duration": 54,
    "start_time": "2021-12-21T09:13:29.979Z"
   }
  ],
  "kernelspec": {
   "display_name": "Python 3 (ipykernel)",
   "language": "python",
   "name": "python3"
  },
  "language_info": {
   "codemirror_mode": {
    "name": "ipython",
    "version": 3
   },
   "file_extension": ".py",
   "mimetype": "text/x-python",
   "name": "python",
   "nbconvert_exporter": "python",
   "pygments_lexer": "ipython3",
   "version": "3.9.13"
  },
  "toc": {
   "base_numbering": 1,
   "nav_menu": {},
   "number_sections": true,
   "sideBar": true,
   "skip_h1_title": true,
   "title_cell": "Table of Contents",
   "title_sidebar": "Contents",
   "toc_cell": false,
   "toc_position": {},
   "toc_section_display": true,
   "toc_window_display": false
  }
 },
 "nbformat": 4,
 "nbformat_minor": 5
}
